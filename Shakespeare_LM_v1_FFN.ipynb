{
  "nbformat": 4,
  "nbformat_minor": 0,
  "metadata": {
    "colab": {
      "provenance": [],
      "authorship_tag": "ABX9TyO+rWTWldQ9p4J+Pmmjj/YM",
      "include_colab_link": true
    },
    "kernelspec": {
      "name": "python3",
      "display_name": "Python 3"
    },
    "language_info": {
      "name": "python"
    }
  },
  "cells": [
    {
      "cell_type": "markdown",
      "metadata": {
        "id": "view-in-github",
        "colab_type": "text"
      },
      "source": [
        "<a href=\"https://colab.research.google.com/github/lizhieffe/language_model/blob/main/Shakespeare_LM_v1_FFN.ipynb\" target=\"_parent\"><img src=\"https://colab.research.google.com/assets/colab-badge.svg\" alt=\"Open In Colab\"/></a>"
      ]
    },
    {
      "cell_type": "code",
      "execution_count": 2,
      "metadata": {
        "id": "fRMxsDXmpbMf"
      },
      "outputs": [],
      "source": [
        "import torch\n",
        "import torch.nn.functional as F\n",
        "import matplotlib.pyplot as plt\n",
        "%matplotlib inline"
      ]
    },
    {
      "cell_type": "code",
      "source": [
        "USE_GPU = True\n",
        "\n",
        "BLOCK_SIZE = 50 # Context length: how many chars do we take to predict the next one?"
      ],
      "metadata": {
        "id": "vDHUDjtsph4G"
      },
      "execution_count": 3,
      "outputs": []
    },
    {
      "cell_type": "markdown",
      "source": [
        "# Setup GPU"
      ],
      "metadata": {
        "id": "NZIvnPdcps3e"
      }
    },
    {
      "cell_type": "code",
      "source": [
        "if USE_GPU:\n",
        "  device = torch.device(\"cuda:0\" if torch.cuda.is_available() else \"cpu\")\n",
        "  assert device != 'cpu', \"GPU is not available\"\n",
        "else:\n",
        "  device = 'cpu'\n",
        "\n",
        "print(device)"
      ],
      "metadata": {
        "colab": {
          "base_uri": "https://localhost:8080/"
        },
        "id": "sd95wthQptwk",
        "outputId": "e062b583-33c1-402a-f5a8-6289ce50429a"
      },
      "execution_count": 4,
      "outputs": [
        {
          "output_type": "stream",
          "name": "stdout",
          "text": [
            "cuda:0\n"
          ]
        }
      ]
    },
    {
      "cell_type": "code",
      "source": [
        "g_cpu = torch.Generator(device='cpu').manual_seed(2147483647) # for reproducibility\n",
        "g_device = torch.Generator(device=device).manual_seed(2147483647) # for reproducibility"
      ],
      "metadata": {
        "id": "FDyu_mmdxQNC"
      },
      "execution_count": 5,
      "outputs": []
    },
    {
      "cell_type": "markdown",
      "source": [
        "# Util Functions"
      ],
      "metadata": {
        "id": "hHD6RNbQpv4G"
      }
    },
    {
      "cell_type": "code",
      "source": [
        "def _total_params(layers):\n",
        "  \"\"\" Get the total parameter number.\n",
        "\n",
        "  Args:\n",
        "    layers: the list of layers of the model\n",
        "\n",
        "  Returns:\n",
        "    Number of total parameters\n",
        "  \"\"\"\n",
        "  total_params = 0\n",
        "  for l in layers:\n",
        "    for p in l.parameters():\n",
        "      total_params += p.data.nelement()\n",
        "  return total_params"
      ],
      "metadata": {
        "id": "IKIeOra1ZoMk"
      },
      "execution_count": 6,
      "outputs": []
    },
    {
      "cell_type": "code",
      "source": [
        "def _sample_one_batch(X, Y, batch_size, generator):\n",
        "  \"\"\"Sample from ds and generate a batch.\n",
        "\n",
        "  Args:\n",
        "    X: features of ds\n",
        "    Y: labels of ds\n",
        "    batch_size: batch size\n",
        "    generator: a pseudorandom number generator for sampling\n",
        "  Returns:\n",
        "    Xb: batched features\n",
        "    Yb: batched labels\n",
        "  \"\"\"\n",
        "  ix = torch.randint(0, X.shape[0], (batch_size, ), generator=generator).to(device)\n",
        "  # print(f'{ix.device=}')\n",
        "  Xb, Yb = X[ix], Y[ix]\n",
        "  return Xb, Yb"
      ],
      "metadata": {
        "id": "jtobwSgeQQf8"
      },
      "execution_count": 7,
      "outputs": []
    },
    {
      "cell_type": "code",
      "source": [
        "def _calculate_loss(Xb, Yb, layers):\n",
        "  \"\"\" Calculate loss.\n",
        "\n",
        "  Args:\n",
        "    Xb: the feature batch\n",
        "    Yb: the label batch\n",
        "    layers: the layers of the model\n",
        "\n",
        "  Returns:\n",
        "    loss: the calculated loss\n",
        "  \"\"\"\n",
        "  emb = C[Xb]\n",
        "  # print(f'{emb.device=}')\n",
        "  x = emb.view(emb.shape[0], -1)\n",
        "  # print(f'{x.device=}')\n",
        "  for l in layers:\n",
        "    x = l(x)\n",
        "    # print(f'{x.device=}')\n",
        "  loss = F.cross_entropy(x, Yb)\n",
        "  # print(f'{loss.device=}')\n",
        "  return loss"
      ],
      "metadata": {
        "id": "ML2jiL3zR0jp"
      },
      "execution_count": 8,
      "outputs": []
    },
    {
      "cell_type": "markdown",
      "source": [
        "# Load data"
      ],
      "metadata": {
        "id": "CXSgUDhjdCxj"
      }
    },
    {
      "cell_type": "code",
      "source": [
        "# download the names.txt file from github\n",
        "!wget https://raw.githubusercontent.com/karpathy/char-rnn/master/data/tinyshakespeare/input.txt\n",
        "\n",
        "# read in all the words\n",
        "text = open('input.txt', 'r').read()\n",
        "\n",
        "text[:800]"
      ],
      "metadata": {
        "colab": {
          "base_uri": "https://localhost:8080/",
          "height": 330
        },
        "id": "Uw1N2UjndEDQ",
        "outputId": "39af376b-aa07-4608-82c0-06d213cbe5bd"
      },
      "execution_count": 9,
      "outputs": [
        {
          "output_type": "stream",
          "name": "stdout",
          "text": [
            "--2023-10-01 19:26:16--  https://raw.githubusercontent.com/karpathy/char-rnn/master/data/tinyshakespeare/input.txt\n",
            "Resolving raw.githubusercontent.com (raw.githubusercontent.com)... 185.199.108.133, 185.199.109.133, 185.199.110.133, ...\n",
            "Connecting to raw.githubusercontent.com (raw.githubusercontent.com)|185.199.108.133|:443... connected.\n",
            "HTTP request sent, awaiting response... 200 OK\n",
            "Length: 1115394 (1.1M) [text/plain]\n",
            "Saving to: ‘input.txt.5’\n",
            "\n",
            "input.txt.5         100%[===================>]   1.06M  --.-KB/s    in 0.06s   \n",
            "\n",
            "2023-10-01 19:26:16 (18.7 MB/s) - ‘input.txt.5’ saved [1115394/1115394]\n",
            "\n"
          ]
        },
        {
          "output_type": "execute_result",
          "data": {
            "text/plain": [
              "\"First Citizen:\\nBefore we proceed any further, hear me speak.\\n\\nAll:\\nSpeak, speak.\\n\\nFirst Citizen:\\nYou are all resolved rather to die than to famish?\\n\\nAll:\\nResolved. resolved.\\n\\nFirst Citizen:\\nFirst, you know Caius Marcius is chief enemy to the people.\\n\\nAll:\\nWe know't, we know't.\\n\\nFirst Citizen:\\nLet us kill him, and we'll have corn at our own price.\\nIs't a verdict?\\n\\nAll:\\nNo more talking on't; let it be done: away, away!\\n\\nSecond Citizen:\\nOne word, good citizens.\\n\\nFirst Citizen:\\nWe are accounted poor citizens, the patricians good.\\nWhat authority surfeits on would relieve us: if they\\nwould yield us but the superfluity, while it were\\nwholesome, we might guess they relieved us humanely;\\nbut they think we are too dear: the leanness that\\nafflicts us, the object of our misery, is as an\\ninventory to p\""
            ],
            "application/vnd.google.colaboratory.intrinsic+json": {
              "type": "string"
            }
          },
          "metadata": {},
          "execution_count": 9
        }
      ]
    },
    {
      "cell_type": "code",
      "source": [
        "print(f'total char # = {len(text)}')"
      ],
      "metadata": {
        "colab": {
          "base_uri": "https://localhost:8080/"
        },
        "id": "Z_Lr-G6NdF62",
        "outputId": "8f3215ce-972b-4c8c-eb2f-675d201b6203"
      },
      "execution_count": 10,
      "outputs": [
        {
          "output_type": "stream",
          "name": "stdout",
          "text": [
            "total char # = 1115394\n"
          ]
        }
      ]
    },
    {
      "cell_type": "markdown",
      "source": [
        "# Build vocabulary"
      ],
      "metadata": {
        "id": "ZFA5J8NjdHj9"
      }
    },
    {
      "cell_type": "code",
      "source": [
        "chars = sorted(list(set(''.join(text))))\n",
        "\n",
        "stoi = {c:i+1 for i,c in enumerate(chars)}\n",
        "stoi['[MASK]'] = 0\n",
        "itos = {i:c for c,i in stoi.items()}\n",
        "\n",
        "assert len(stoi) == len(itos)\n",
        "\n",
        "vocab_size = len(stoi)\n",
        "\n",
        "EXPECTED_VOCAB_SIZE = 66\n",
        "assert vocab_size == EXPECTED_VOCAB_SIZE, f\"expected vocab size = {EXPECTED_VOCAB_SIZE}, got {vocab_size}\""
      ],
      "metadata": {
        "id": "K31lXht9dIww"
      },
      "execution_count": 11,
      "outputs": []
    },
    {
      "cell_type": "code",
      "source": [
        "# str ---> list of integer\n",
        "encode = lambda str: [stoi[s] for s in str]\n",
        "\n",
        "# list of integer ---> str\n",
        "decode = lambda l: ''.join(itos[i] for i in l)\n",
        "\n",
        "_test_str = \"adb dfd \\n\"\n",
        "assert _test_str == decode(encode(_test_str))"
      ],
      "metadata": {
        "id": "_wjY-ZmAK_Mt"
      },
      "execution_count": 12,
      "outputs": []
    },
    {
      "cell_type": "markdown",
      "source": [
        "# Create DS"
      ],
      "metadata": {
        "id": "tnC-XqfXdKoB"
      }
    },
    {
      "cell_type": "code",
      "source": [
        "# Split train and dev\n",
        "\n",
        "encoded = encode(text)\n",
        "\n",
        "n1 = int(0.9 * len(encoded))\n",
        "data_tr = torch.tensor(encoded[:n1])\n",
        "data_dev = torch.tensor(encoded[n1:])\n",
        "\n",
        "print(f'{data_tr.shape=}, {data_dev.shape=}')"
      ],
      "metadata": {
        "colab": {
          "base_uri": "https://localhost:8080/"
        },
        "id": "KN4C69nMNJnG",
        "outputId": "f9865833-66e7-4711-98aa-8ba80479de5a"
      },
      "execution_count": 13,
      "outputs": [
        {
          "output_type": "stream",
          "name": "stdout",
          "text": [
            "data_tr.shape=torch.Size([1003854]), data_dev.shape=torch.Size([111540])\n"
          ]
        }
      ]
    },
    {
      "cell_type": "code",
      "source": [
        "def encoded_char_seq_to_examples(X):\n",
        "  \"\"\" Convert an encoded char seq to examples.\n",
        "\n",
        "  Args:\n",
        "    X: 1-rank tensor containing the encoded char seq\n",
        "\n",
        "  Returns:\n",
        "    1st: A tensor containing the features of the examples. It has size [B, N], where B is the number of examples, N is the number of features for each example.\n",
        "    2st: A tensor containing the label of the exampels. It has size [B], where B is the number of examples.\n",
        "  \"\"\"\n",
        "  xx = []\n",
        "  yy = []\n",
        "\n",
        "  context = [0] * BLOCK_SIZE\n",
        "  for i in range(X.shape[0]):\n",
        "    xx.append(torch.tensor(context))\n",
        "    yy.append(X[i])\n",
        "    context = context[1:] + [X[i].item()]\n",
        "\n",
        "  return torch.stack(xx), torch.stack(yy)\n"
      ],
      "metadata": {
        "id": "oloaLOEAz322"
      },
      "execution_count": 14,
      "outputs": []
    },
    {
      "cell_type": "code",
      "source": [
        "from numpy import block\n",
        "def get_batch(data, batch_size, block_size):\n",
        "  # 1. Get batch_size of char sequences, each has block_size+1 char\n",
        "  ix = torch.randint(0, len(data) - block_size, (batch_size, ), generator=g_cpu)\n",
        "  X = torch.stack([data[i:i+1+block_size] for i in ix])\n",
        "\n",
        "  # 2. Expand each char sequences to block_size examples\n",
        "  expanded_X = []\n",
        "  expanded_Y = []\n",
        "  for i in range(X.shape[0]):\n",
        "    xx, yy = encoded_char_seq_to_examples(X[i])\n",
        "    # print(f'{xx.shape=}, {yy.shape=}')\n",
        "    expanded_X.append(xx)\n",
        "    expanded_Y.append(yy)\n",
        "\n",
        "  stacked_X, stacked_Y = torch.stack(expanded_X), torch.stack(expanded_Y)\n",
        "  return stacked_X.view(-1, stacked_X.shape[-1]).to(device), stacked_Y.view(-1).to(device)\n",
        "\n",
        "X, Y = get_batch(data_tr, batch_size=32, block_size=BLOCK_SIZE)"
      ],
      "metadata": {
        "id": "6AN9Y0uLwyVn"
      },
      "execution_count": 15,
      "outputs": []
    },
    {
      "cell_type": "code",
      "source": [
        "X.shape, Y.shape"
      ],
      "metadata": {
        "colab": {
          "base_uri": "https://localhost:8080/"
        },
        "id": "AnPdbJna9SgM",
        "outputId": "40a265df-9968-469a-eb5a-3e1a1da1f7b3"
      },
      "execution_count": 16,
      "outputs": [
        {
          "output_type": "execute_result",
          "data": {
            "text/plain": [
              "(torch.Size([1632, 50]), torch.Size([1632]))"
            ]
          },
          "metadata": {},
          "execution_count": 16
        }
      ]
    },
    {
      "cell_type": "code",
      "source": [
        "i = 0\n",
        "for ttt, uuu in zip(X,Y):\n",
        "  print(f'{decode(ttt.view(-1).tolist())}--->{decode([uuu.item()])}')\n",
        "  if i > 100:\n",
        "    break\n",
        "  i += 1\n",
        ""
      ],
      "metadata": {
        "colab": {
          "base_uri": "https://localhost:8080/"
        },
        "id": "QxzpvqGj3H2b",
        "outputId": "0430b375-cf2d-4b33-cac0-711ca95444d2"
      },
      "execution_count": 17,
      "outputs": [
        {
          "output_type": "stream",
          "name": "stdout",
          "text": [
            "[MASK][MASK][MASK][MASK][MASK][MASK][MASK][MASK][MASK][MASK][MASK][MASK][MASK][MASK][MASK][MASK][MASK][MASK][MASK][MASK][MASK][MASK][MASK][MASK][MASK][MASK][MASK][MASK][MASK][MASK][MASK][MASK][MASK][MASK][MASK][MASK][MASK][MASK][MASK][MASK][MASK][MASK][MASK][MASK][MASK][MASK][MASK][MASK][MASK][MASK]--->e\n",
            "[MASK][MASK][MASK][MASK][MASK][MASK][MASK][MASK][MASK][MASK][MASK][MASK][MASK][MASK][MASK][MASK][MASK][MASK][MASK][MASK][MASK][MASK][MASK][MASK][MASK][MASK][MASK][MASK][MASK][MASK][MASK][MASK][MASK][MASK][MASK][MASK][MASK][MASK][MASK][MASK][MASK][MASK][MASK][MASK][MASK][MASK][MASK][MASK][MASK]e--->r\n",
            "[MASK][MASK][MASK][MASK][MASK][MASK][MASK][MASK][MASK][MASK][MASK][MASK][MASK][MASK][MASK][MASK][MASK][MASK][MASK][MASK][MASK][MASK][MASK][MASK][MASK][MASK][MASK][MASK][MASK][MASK][MASK][MASK][MASK][MASK][MASK][MASK][MASK][MASK][MASK][MASK][MASK][MASK][MASK][MASK][MASK][MASK][MASK][MASK]er--->e\n",
            "[MASK][MASK][MASK][MASK][MASK][MASK][MASK][MASK][MASK][MASK][MASK][MASK][MASK][MASK][MASK][MASK][MASK][MASK][MASK][MASK][MASK][MASK][MASK][MASK][MASK][MASK][MASK][MASK][MASK][MASK][MASK][MASK][MASK][MASK][MASK][MASK][MASK][MASK][MASK][MASK][MASK][MASK][MASK][MASK][MASK][MASK][MASK]ere--->r\n",
            "[MASK][MASK][MASK][MASK][MASK][MASK][MASK][MASK][MASK][MASK][MASK][MASK][MASK][MASK][MASK][MASK][MASK][MASK][MASK][MASK][MASK][MASK][MASK][MASK][MASK][MASK][MASK][MASK][MASK][MASK][MASK][MASK][MASK][MASK][MASK][MASK][MASK][MASK][MASK][MASK][MASK][MASK][MASK][MASK][MASK][MASK]erer--->:\n",
            "[MASK][MASK][MASK][MASK][MASK][MASK][MASK][MASK][MASK][MASK][MASK][MASK][MASK][MASK][MASK][MASK][MASK][MASK][MASK][MASK][MASK][MASK][MASK][MASK][MASK][MASK][MASK][MASK][MASK][MASK][MASK][MASK][MASK][MASK][MASK][MASK][MASK][MASK][MASK][MASK][MASK][MASK][MASK][MASK][MASK]erer:--->\n",
            "\n",
            "[MASK][MASK][MASK][MASK][MASK][MASK][MASK][MASK][MASK][MASK][MASK][MASK][MASK][MASK][MASK][MASK][MASK][MASK][MASK][MASK][MASK][MASK][MASK][MASK][MASK][MASK][MASK][MASK][MASK][MASK][MASK][MASK][MASK][MASK][MASK][MASK][MASK][MASK][MASK][MASK][MASK][MASK][MASK][MASK]erer:\n",
            "--->H\n",
            "[MASK][MASK][MASK][MASK][MASK][MASK][MASK][MASK][MASK][MASK][MASK][MASK][MASK][MASK][MASK][MASK][MASK][MASK][MASK][MASK][MASK][MASK][MASK][MASK][MASK][MASK][MASK][MASK][MASK][MASK][MASK][MASK][MASK][MASK][MASK][MASK][MASK][MASK][MASK][MASK][MASK][MASK][MASK]erer:\n",
            "H--->o\n",
            "[MASK][MASK][MASK][MASK][MASK][MASK][MASK][MASK][MASK][MASK][MASK][MASK][MASK][MASK][MASK][MASK][MASK][MASK][MASK][MASK][MASK][MASK][MASK][MASK][MASK][MASK][MASK][MASK][MASK][MASK][MASK][MASK][MASK][MASK][MASK][MASK][MASK][MASK][MASK][MASK][MASK][MASK]erer:\n",
            "Ho--->w\n",
            "[MASK][MASK][MASK][MASK][MASK][MASK][MASK][MASK][MASK][MASK][MASK][MASK][MASK][MASK][MASK][MASK][MASK][MASK][MASK][MASK][MASK][MASK][MASK][MASK][MASK][MASK][MASK][MASK][MASK][MASK][MASK][MASK][MASK][MASK][MASK][MASK][MASK][MASK][MASK][MASK][MASK]erer:\n",
            "How---> \n",
            "[MASK][MASK][MASK][MASK][MASK][MASK][MASK][MASK][MASK][MASK][MASK][MASK][MASK][MASK][MASK][MASK][MASK][MASK][MASK][MASK][MASK][MASK][MASK][MASK][MASK][MASK][MASK][MASK][MASK][MASK][MASK][MASK][MASK][MASK][MASK][MASK][MASK][MASK][MASK][MASK]erer:\n",
            "How --->c\n",
            "[MASK][MASK][MASK][MASK][MASK][MASK][MASK][MASK][MASK][MASK][MASK][MASK][MASK][MASK][MASK][MASK][MASK][MASK][MASK][MASK][MASK][MASK][MASK][MASK][MASK][MASK][MASK][MASK][MASK][MASK][MASK][MASK][MASK][MASK][MASK][MASK][MASK][MASK][MASK]erer:\n",
            "How c--->a\n",
            "[MASK][MASK][MASK][MASK][MASK][MASK][MASK][MASK][MASK][MASK][MASK][MASK][MASK][MASK][MASK][MASK][MASK][MASK][MASK][MASK][MASK][MASK][MASK][MASK][MASK][MASK][MASK][MASK][MASK][MASK][MASK][MASK][MASK][MASK][MASK][MASK][MASK][MASK]erer:\n",
            "How ca--->n\n",
            "[MASK][MASK][MASK][MASK][MASK][MASK][MASK][MASK][MASK][MASK][MASK][MASK][MASK][MASK][MASK][MASK][MASK][MASK][MASK][MASK][MASK][MASK][MASK][MASK][MASK][MASK][MASK][MASK][MASK][MASK][MASK][MASK][MASK][MASK][MASK][MASK][MASK]erer:\n",
            "How can--->s\n",
            "[MASK][MASK][MASK][MASK][MASK][MASK][MASK][MASK][MASK][MASK][MASK][MASK][MASK][MASK][MASK][MASK][MASK][MASK][MASK][MASK][MASK][MASK][MASK][MASK][MASK][MASK][MASK][MASK][MASK][MASK][MASK][MASK][MASK][MASK][MASK][MASK]erer:\n",
            "How cans--->t\n",
            "[MASK][MASK][MASK][MASK][MASK][MASK][MASK][MASK][MASK][MASK][MASK][MASK][MASK][MASK][MASK][MASK][MASK][MASK][MASK][MASK][MASK][MASK][MASK][MASK][MASK][MASK][MASK][MASK][MASK][MASK][MASK][MASK][MASK][MASK][MASK]erer:\n",
            "How canst---> \n",
            "[MASK][MASK][MASK][MASK][MASK][MASK][MASK][MASK][MASK][MASK][MASK][MASK][MASK][MASK][MASK][MASK][MASK][MASK][MASK][MASK][MASK][MASK][MASK][MASK][MASK][MASK][MASK][MASK][MASK][MASK][MASK][MASK][MASK][MASK]erer:\n",
            "How canst --->t\n",
            "[MASK][MASK][MASK][MASK][MASK][MASK][MASK][MASK][MASK][MASK][MASK][MASK][MASK][MASK][MASK][MASK][MASK][MASK][MASK][MASK][MASK][MASK][MASK][MASK][MASK][MASK][MASK][MASK][MASK][MASK][MASK][MASK][MASK]erer:\n",
            "How canst t--->h\n",
            "[MASK][MASK][MASK][MASK][MASK][MASK][MASK][MASK][MASK][MASK][MASK][MASK][MASK][MASK][MASK][MASK][MASK][MASK][MASK][MASK][MASK][MASK][MASK][MASK][MASK][MASK][MASK][MASK][MASK][MASK][MASK][MASK]erer:\n",
            "How canst th--->o\n",
            "[MASK][MASK][MASK][MASK][MASK][MASK][MASK][MASK][MASK][MASK][MASK][MASK][MASK][MASK][MASK][MASK][MASK][MASK][MASK][MASK][MASK][MASK][MASK][MASK][MASK][MASK][MASK][MASK][MASK][MASK][MASK]erer:\n",
            "How canst tho--->u\n",
            "[MASK][MASK][MASK][MASK][MASK][MASK][MASK][MASK][MASK][MASK][MASK][MASK][MASK][MASK][MASK][MASK][MASK][MASK][MASK][MASK][MASK][MASK][MASK][MASK][MASK][MASK][MASK][MASK][MASK][MASK]erer:\n",
            "How canst thou---> \n",
            "[MASK][MASK][MASK][MASK][MASK][MASK][MASK][MASK][MASK][MASK][MASK][MASK][MASK][MASK][MASK][MASK][MASK][MASK][MASK][MASK][MASK][MASK][MASK][MASK][MASK][MASK][MASK][MASK][MASK]erer:\n",
            "How canst thou --->u\n",
            "[MASK][MASK][MASK][MASK][MASK][MASK][MASK][MASK][MASK][MASK][MASK][MASK][MASK][MASK][MASK][MASK][MASK][MASK][MASK][MASK][MASK][MASK][MASK][MASK][MASK][MASK][MASK][MASK]erer:\n",
            "How canst thou u--->r\n",
            "[MASK][MASK][MASK][MASK][MASK][MASK][MASK][MASK][MASK][MASK][MASK][MASK][MASK][MASK][MASK][MASK][MASK][MASK][MASK][MASK][MASK][MASK][MASK][MASK][MASK][MASK][MASK]erer:\n",
            "How canst thou ur--->g\n",
            "[MASK][MASK][MASK][MASK][MASK][MASK][MASK][MASK][MASK][MASK][MASK][MASK][MASK][MASK][MASK][MASK][MASK][MASK][MASK][MASK][MASK][MASK][MASK][MASK][MASK][MASK]erer:\n",
            "How canst thou urg--->e\n",
            "[MASK][MASK][MASK][MASK][MASK][MASK][MASK][MASK][MASK][MASK][MASK][MASK][MASK][MASK][MASK][MASK][MASK][MASK][MASK][MASK][MASK][MASK][MASK][MASK][MASK]erer:\n",
            "How canst thou urge---> \n",
            "[MASK][MASK][MASK][MASK][MASK][MASK][MASK][MASK][MASK][MASK][MASK][MASK][MASK][MASK][MASK][MASK][MASK][MASK][MASK][MASK][MASK][MASK][MASK][MASK]erer:\n",
            "How canst thou urge --->G\n",
            "[MASK][MASK][MASK][MASK][MASK][MASK][MASK][MASK][MASK][MASK][MASK][MASK][MASK][MASK][MASK][MASK][MASK][MASK][MASK][MASK][MASK][MASK][MASK]erer:\n",
            "How canst thou urge G--->o\n",
            "[MASK][MASK][MASK][MASK][MASK][MASK][MASK][MASK][MASK][MASK][MASK][MASK][MASK][MASK][MASK][MASK][MASK][MASK][MASK][MASK][MASK][MASK]erer:\n",
            "How canst thou urge Go--->d\n",
            "[MASK][MASK][MASK][MASK][MASK][MASK][MASK][MASK][MASK][MASK][MASK][MASK][MASK][MASK][MASK][MASK][MASK][MASK][MASK][MASK][MASK]erer:\n",
            "How canst thou urge God--->'\n",
            "[MASK][MASK][MASK][MASK][MASK][MASK][MASK][MASK][MASK][MASK][MASK][MASK][MASK][MASK][MASK][MASK][MASK][MASK][MASK][MASK]erer:\n",
            "How canst thou urge God'--->s\n",
            "[MASK][MASK][MASK][MASK][MASK][MASK][MASK][MASK][MASK][MASK][MASK][MASK][MASK][MASK][MASK][MASK][MASK][MASK][MASK]erer:\n",
            "How canst thou urge God's---> \n",
            "[MASK][MASK][MASK][MASK][MASK][MASK][MASK][MASK][MASK][MASK][MASK][MASK][MASK][MASK][MASK][MASK][MASK][MASK]erer:\n",
            "How canst thou urge God's --->d\n",
            "[MASK][MASK][MASK][MASK][MASK][MASK][MASK][MASK][MASK][MASK][MASK][MASK][MASK][MASK][MASK][MASK][MASK]erer:\n",
            "How canst thou urge God's d--->r\n",
            "[MASK][MASK][MASK][MASK][MASK][MASK][MASK][MASK][MASK][MASK][MASK][MASK][MASK][MASK][MASK][MASK]erer:\n",
            "How canst thou urge God's dr--->e\n",
            "[MASK][MASK][MASK][MASK][MASK][MASK][MASK][MASK][MASK][MASK][MASK][MASK][MASK][MASK][MASK]erer:\n",
            "How canst thou urge God's dre--->a\n",
            "[MASK][MASK][MASK][MASK][MASK][MASK][MASK][MASK][MASK][MASK][MASK][MASK][MASK][MASK]erer:\n",
            "How canst thou urge God's drea--->d\n",
            "[MASK][MASK][MASK][MASK][MASK][MASK][MASK][MASK][MASK][MASK][MASK][MASK][MASK]erer:\n",
            "How canst thou urge God's dread--->f\n",
            "[MASK][MASK][MASK][MASK][MASK][MASK][MASK][MASK][MASK][MASK][MASK][MASK]erer:\n",
            "How canst thou urge God's dreadf--->u\n",
            "[MASK][MASK][MASK][MASK][MASK][MASK][MASK][MASK][MASK][MASK][MASK]erer:\n",
            "How canst thou urge God's dreadfu--->l\n",
            "[MASK][MASK][MASK][MASK][MASK][MASK][MASK][MASK][MASK][MASK]erer:\n",
            "How canst thou urge God's dreadful---> \n",
            "[MASK][MASK][MASK][MASK][MASK][MASK][MASK][MASK][MASK]erer:\n",
            "How canst thou urge God's dreadful --->l\n",
            "[MASK][MASK][MASK][MASK][MASK][MASK][MASK][MASK]erer:\n",
            "How canst thou urge God's dreadful l--->a\n",
            "[MASK][MASK][MASK][MASK][MASK][MASK][MASK]erer:\n",
            "How canst thou urge God's dreadful la--->w\n",
            "[MASK][MASK][MASK][MASK][MASK][MASK]erer:\n",
            "How canst thou urge God's dreadful law---> \n",
            "[MASK][MASK][MASK][MASK][MASK]erer:\n",
            "How canst thou urge God's dreadful law --->t\n",
            "[MASK][MASK][MASK][MASK]erer:\n",
            "How canst thou urge God's dreadful law t--->o\n",
            "[MASK][MASK][MASK]erer:\n",
            "How canst thou urge God's dreadful law to---> \n",
            "[MASK][MASK]erer:\n",
            "How canst thou urge God's dreadful law to --->u\n",
            "[MASK]erer:\n",
            "How canst thou urge God's dreadful law to u--->s\n",
            "erer:\n",
            "How canst thou urge God's dreadful law to us--->,\n",
            "[MASK][MASK][MASK][MASK][MASK][MASK][MASK][MASK][MASK][MASK][MASK][MASK][MASK][MASK][MASK][MASK][MASK][MASK][MASK][MASK][MASK][MASK][MASK][MASK][MASK][MASK][MASK][MASK][MASK][MASK][MASK][MASK][MASK][MASK][MASK][MASK][MASK][MASK][MASK][MASK][MASK][MASK][MASK][MASK][MASK][MASK][MASK][MASK][MASK][MASK]--->u\n",
            "[MASK][MASK][MASK][MASK][MASK][MASK][MASK][MASK][MASK][MASK][MASK][MASK][MASK][MASK][MASK][MASK][MASK][MASK][MASK][MASK][MASK][MASK][MASK][MASK][MASK][MASK][MASK][MASK][MASK][MASK][MASK][MASK][MASK][MASK][MASK][MASK][MASK][MASK][MASK][MASK][MASK][MASK][MASK][MASK][MASK][MASK][MASK][MASK][MASK]u--->l\n",
            "[MASK][MASK][MASK][MASK][MASK][MASK][MASK][MASK][MASK][MASK][MASK][MASK][MASK][MASK][MASK][MASK][MASK][MASK][MASK][MASK][MASK][MASK][MASK][MASK][MASK][MASK][MASK][MASK][MASK][MASK][MASK][MASK][MASK][MASK][MASK][MASK][MASK][MASK][MASK][MASK][MASK][MASK][MASK][MASK][MASK][MASK][MASK][MASK]ul--->d\n",
            "[MASK][MASK][MASK][MASK][MASK][MASK][MASK][MASK][MASK][MASK][MASK][MASK][MASK][MASK][MASK][MASK][MASK][MASK][MASK][MASK][MASK][MASK][MASK][MASK][MASK][MASK][MASK][MASK][MASK][MASK][MASK][MASK][MASK][MASK][MASK][MASK][MASK][MASK][MASK][MASK][MASK][MASK][MASK][MASK][MASK][MASK][MASK]uld---> \n",
            "[MASK][MASK][MASK][MASK][MASK][MASK][MASK][MASK][MASK][MASK][MASK][MASK][MASK][MASK][MASK][MASK][MASK][MASK][MASK][MASK][MASK][MASK][MASK][MASK][MASK][MASK][MASK][MASK][MASK][MASK][MASK][MASK][MASK][MASK][MASK][MASK][MASK][MASK][MASK][MASK][MASK][MASK][MASK][MASK][MASK][MASK]uld --->e\n",
            "[MASK][MASK][MASK][MASK][MASK][MASK][MASK][MASK][MASK][MASK][MASK][MASK][MASK][MASK][MASK][MASK][MASK][MASK][MASK][MASK][MASK][MASK][MASK][MASK][MASK][MASK][MASK][MASK][MASK][MASK][MASK][MASK][MASK][MASK][MASK][MASK][MASK][MASK][MASK][MASK][MASK][MASK][MASK][MASK][MASK]uld e--->s\n",
            "[MASK][MASK][MASK][MASK][MASK][MASK][MASK][MASK][MASK][MASK][MASK][MASK][MASK][MASK][MASK][MASK][MASK][MASK][MASK][MASK][MASK][MASK][MASK][MASK][MASK][MASK][MASK][MASK][MASK][MASK][MASK][MASK][MASK][MASK][MASK][MASK][MASK][MASK][MASK][MASK][MASK][MASK][MASK][MASK]uld es--->c\n",
            "[MASK][MASK][MASK][MASK][MASK][MASK][MASK][MASK][MASK][MASK][MASK][MASK][MASK][MASK][MASK][MASK][MASK][MASK][MASK][MASK][MASK][MASK][MASK][MASK][MASK][MASK][MASK][MASK][MASK][MASK][MASK][MASK][MASK][MASK][MASK][MASK][MASK][MASK][MASK][MASK][MASK][MASK][MASK]uld esc--->a\n",
            "[MASK][MASK][MASK][MASK][MASK][MASK][MASK][MASK][MASK][MASK][MASK][MASK][MASK][MASK][MASK][MASK][MASK][MASK][MASK][MASK][MASK][MASK][MASK][MASK][MASK][MASK][MASK][MASK][MASK][MASK][MASK][MASK][MASK][MASK][MASK][MASK][MASK][MASK][MASK][MASK][MASK][MASK]uld esca--->p\n",
            "[MASK][MASK][MASK][MASK][MASK][MASK][MASK][MASK][MASK][MASK][MASK][MASK][MASK][MASK][MASK][MASK][MASK][MASK][MASK][MASK][MASK][MASK][MASK][MASK][MASK][MASK][MASK][MASK][MASK][MASK][MASK][MASK][MASK][MASK][MASK][MASK][MASK][MASK][MASK][MASK][MASK]uld escap--->e\n",
            "[MASK][MASK][MASK][MASK][MASK][MASK][MASK][MASK][MASK][MASK][MASK][MASK][MASK][MASK][MASK][MASK][MASK][MASK][MASK][MASK][MASK][MASK][MASK][MASK][MASK][MASK][MASK][MASK][MASK][MASK][MASK][MASK][MASK][MASK][MASK][MASK][MASK][MASK][MASK][MASK]uld escape--->,\n",
            "[MASK][MASK][MASK][MASK][MASK][MASK][MASK][MASK][MASK][MASK][MASK][MASK][MASK][MASK][MASK][MASK][MASK][MASK][MASK][MASK][MASK][MASK][MASK][MASK][MASK][MASK][MASK][MASK][MASK][MASK][MASK][MASK][MASK][MASK][MASK][MASK][MASK][MASK][MASK]uld escape,--->\n",
            "\n",
            "[MASK][MASK][MASK][MASK][MASK][MASK][MASK][MASK][MASK][MASK][MASK][MASK][MASK][MASK][MASK][MASK][MASK][MASK][MASK][MASK][MASK][MASK][MASK][MASK][MASK][MASK][MASK][MASK][MASK][MASK][MASK][MASK][MASK][MASK][MASK][MASK][MASK][MASK]uld escape,\n",
            "--->F\n",
            "[MASK][MASK][MASK][MASK][MASK][MASK][MASK][MASK][MASK][MASK][MASK][MASK][MASK][MASK][MASK][MASK][MASK][MASK][MASK][MASK][MASK][MASK][MASK][MASK][MASK][MASK][MASK][MASK][MASK][MASK][MASK][MASK][MASK][MASK][MASK][MASK][MASK]uld escape,\n",
            "F--->o\n",
            "[MASK][MASK][MASK][MASK][MASK][MASK][MASK][MASK][MASK][MASK][MASK][MASK][MASK][MASK][MASK][MASK][MASK][MASK][MASK][MASK][MASK][MASK][MASK][MASK][MASK][MASK][MASK][MASK][MASK][MASK][MASK][MASK][MASK][MASK][MASK][MASK]uld escape,\n",
            "Fo--->r\n",
            "[MASK][MASK][MASK][MASK][MASK][MASK][MASK][MASK][MASK][MASK][MASK][MASK][MASK][MASK][MASK][MASK][MASK][MASK][MASK][MASK][MASK][MASK][MASK][MASK][MASK][MASK][MASK][MASK][MASK][MASK][MASK][MASK][MASK][MASK][MASK]uld escape,\n",
            "For--->,\n",
            "[MASK][MASK][MASK][MASK][MASK][MASK][MASK][MASK][MASK][MASK][MASK][MASK][MASK][MASK][MASK][MASK][MASK][MASK][MASK][MASK][MASK][MASK][MASK][MASK][MASK][MASK][MASK][MASK][MASK][MASK][MASK][MASK][MASK][MASK]uld escape,\n",
            "For,---> \n",
            "[MASK][MASK][MASK][MASK][MASK][MASK][MASK][MASK][MASK][MASK][MASK][MASK][MASK][MASK][MASK][MASK][MASK][MASK][MASK][MASK][MASK][MASK][MASK][MASK][MASK][MASK][MASK][MASK][MASK][MASK][MASK][MASK][MASK]uld escape,\n",
            "For, --->t\n",
            "[MASK][MASK][MASK][MASK][MASK][MASK][MASK][MASK][MASK][MASK][MASK][MASK][MASK][MASK][MASK][MASK][MASK][MASK][MASK][MASK][MASK][MASK][MASK][MASK][MASK][MASK][MASK][MASK][MASK][MASK][MASK][MASK]uld escape,\n",
            "For, t--->h\n",
            "[MASK][MASK][MASK][MASK][MASK][MASK][MASK][MASK][MASK][MASK][MASK][MASK][MASK][MASK][MASK][MASK][MASK][MASK][MASK][MASK][MASK][MASK][MASK][MASK][MASK][MASK][MASK][MASK][MASK][MASK][MASK]uld escape,\n",
            "For, th--->o\n",
            "[MASK][MASK][MASK][MASK][MASK][MASK][MASK][MASK][MASK][MASK][MASK][MASK][MASK][MASK][MASK][MASK][MASK][MASK][MASK][MASK][MASK][MASK][MASK][MASK][MASK][MASK][MASK][MASK][MASK][MASK]uld escape,\n",
            "For, tho--->u\n",
            "[MASK][MASK][MASK][MASK][MASK][MASK][MASK][MASK][MASK][MASK][MASK][MASK][MASK][MASK][MASK][MASK][MASK][MASK][MASK][MASK][MASK][MASK][MASK][MASK][MASK][MASK][MASK][MASK][MASK]uld escape,\n",
            "For, thou--->g\n",
            "[MASK][MASK][MASK][MASK][MASK][MASK][MASK][MASK][MASK][MASK][MASK][MASK][MASK][MASK][MASK][MASK][MASK][MASK][MASK][MASK][MASK][MASK][MASK][MASK][MASK][MASK][MASK][MASK]uld escape,\n",
            "For, thoug--->h\n",
            "[MASK][MASK][MASK][MASK][MASK][MASK][MASK][MASK][MASK][MASK][MASK][MASK][MASK][MASK][MASK][MASK][MASK][MASK][MASK][MASK][MASK][MASK][MASK][MASK][MASK][MASK][MASK]uld escape,\n",
            "For, though---> \n",
            "[MASK][MASK][MASK][MASK][MASK][MASK][MASK][MASK][MASK][MASK][MASK][MASK][MASK][MASK][MASK][MASK][MASK][MASK][MASK][MASK][MASK][MASK][MASK][MASK][MASK][MASK]uld escape,\n",
            "For, though --->b\n",
            "[MASK][MASK][MASK][MASK][MASK][MASK][MASK][MASK][MASK][MASK][MASK][MASK][MASK][MASK][MASK][MASK][MASK][MASK][MASK][MASK][MASK][MASK][MASK][MASK][MASK]uld escape,\n",
            "For, though b--->e\n",
            "[MASK][MASK][MASK][MASK][MASK][MASK][MASK][MASK][MASK][MASK][MASK][MASK][MASK][MASK][MASK][MASK][MASK][MASK][MASK][MASK][MASK][MASK][MASK][MASK]uld escape,\n",
            "For, though be--->f\n",
            "[MASK][MASK][MASK][MASK][MASK][MASK][MASK][MASK][MASK][MASK][MASK][MASK][MASK][MASK][MASK][MASK][MASK][MASK][MASK][MASK][MASK][MASK][MASK]uld escape,\n",
            "For, though bef--->o\n",
            "[MASK][MASK][MASK][MASK][MASK][MASK][MASK][MASK][MASK][MASK][MASK][MASK][MASK][MASK][MASK][MASK][MASK][MASK][MASK][MASK][MASK][MASK]uld escape,\n",
            "For, though befo--->r\n",
            "[MASK][MASK][MASK][MASK][MASK][MASK][MASK][MASK][MASK][MASK][MASK][MASK][MASK][MASK][MASK][MASK][MASK][MASK][MASK][MASK][MASK]uld escape,\n",
            "For, though befor--->e\n",
            "[MASK][MASK][MASK][MASK][MASK][MASK][MASK][MASK][MASK][MASK][MASK][MASK][MASK][MASK][MASK][MASK][MASK][MASK][MASK][MASK]uld escape,\n",
            "For, though before---> \n",
            "[MASK][MASK][MASK][MASK][MASK][MASK][MASK][MASK][MASK][MASK][MASK][MASK][MASK][MASK][MASK][MASK][MASK][MASK][MASK]uld escape,\n",
            "For, though before --->h\n",
            "[MASK][MASK][MASK][MASK][MASK][MASK][MASK][MASK][MASK][MASK][MASK][MASK][MASK][MASK][MASK][MASK][MASK][MASK]uld escape,\n",
            "For, though before h--->i\n",
            "[MASK][MASK][MASK][MASK][MASK][MASK][MASK][MASK][MASK][MASK][MASK][MASK][MASK][MASK][MASK][MASK][MASK]uld escape,\n",
            "For, though before hi--->s\n",
            "[MASK][MASK][MASK][MASK][MASK][MASK][MASK][MASK][MASK][MASK][MASK][MASK][MASK][MASK][MASK][MASK]uld escape,\n",
            "For, though before his---> \n",
            "[MASK][MASK][MASK][MASK][MASK][MASK][MASK][MASK][MASK][MASK][MASK][MASK][MASK][MASK][MASK]uld escape,\n",
            "For, though before his --->f\n",
            "[MASK][MASK][MASK][MASK][MASK][MASK][MASK][MASK][MASK][MASK][MASK][MASK][MASK][MASK]uld escape,\n",
            "For, though before his f--->a\n",
            "[MASK][MASK][MASK][MASK][MASK][MASK][MASK][MASK][MASK][MASK][MASK][MASK][MASK]uld escape,\n",
            "For, though before his fa--->c\n",
            "[MASK][MASK][MASK][MASK][MASK][MASK][MASK][MASK][MASK][MASK][MASK][MASK]uld escape,\n",
            "For, though before his fac--->e\n",
            "[MASK][MASK][MASK][MASK][MASK][MASK][MASK][MASK][MASK][MASK][MASK]uld escape,\n",
            "For, though before his face---> \n",
            "[MASK][MASK][MASK][MASK][MASK][MASK][MASK][MASK][MASK][MASK]uld escape,\n",
            "For, though before his face --->I\n",
            "[MASK][MASK][MASK][MASK][MASK][MASK][MASK][MASK][MASK]uld escape,\n",
            "For, though before his face I---> \n",
            "[MASK][MASK][MASK][MASK][MASK][MASK][MASK][MASK]uld escape,\n",
            "For, though before his face I --->s\n",
            "[MASK][MASK][MASK][MASK][MASK][MASK][MASK]uld escape,\n",
            "For, though before his face I s--->p\n",
            "[MASK][MASK][MASK][MASK][MASK][MASK]uld escape,\n",
            "For, though before his face I sp--->e\n",
            "[MASK][MASK][MASK][MASK][MASK]uld escape,\n",
            "For, though before his face I spe--->a\n",
            "[MASK][MASK][MASK][MASK]uld escape,\n",
            "For, though before his face I spea--->k\n",
            "[MASK][MASK][MASK]uld escape,\n",
            "For, though before his face I speak---> \n",
            "[MASK][MASK]uld escape,\n",
            "For, though before his face I speak --->t\n",
            "[MASK]uld escape,\n",
            "For, though before his face I speak t--->h\n",
            "uld escape,\n",
            "For, though before his face I speak th--->e\n"
          ]
        }
      ]
    },
    {
      "cell_type": "markdown",
      "source": [
        "# Modeling"
      ],
      "metadata": {
        "id": "bm2SpJ6CfOHE"
      }
    },
    {
      "cell_type": "code",
      "source": [
        "n_embd = 10 # the dimensionality of the character embedding vectors\n",
        "N_HIDDEN = 5000 # the number of neurons in the hidden layer of the MLP\n",
        "g = torch.Generator().manual_seed(2147483647) # for reproducibility"
      ],
      "metadata": {
        "id": "lAE6DUi2qcNO"
      },
      "execution_count": 18,
      "outputs": []
    },
    {
      "cell_type": "markdown",
      "source": [
        "## Model class"
      ],
      "metadata": {
        "id": "o2LWaIYbri0V"
      }
    },
    {
      "cell_type": "code",
      "source": [
        "class Net(torch.nn.Module):\n",
        "  def __init__(self, n_embd, block_size, vocab_size, generator=None):\n",
        "    super().__init__()\n",
        "\n",
        "    self.embd = torch.nn.Embedding(num_embeddings=vocab_size, embedding_dim=n_embd).to(device)\n",
        "    self.linear1 = torch.nn.Linear(block_size * n_embd, N_HIDDEN, bias=True).to(device)\n",
        "    self.tanh1 = torch.nn.Tanh().to(device)\n",
        "    self.linear2 = torch.nn.Linear(N_HIDDEN, N_HIDDEN, bias=True).to(device)\n",
        "    self.tanh2 = torch.nn.Tanh().to(device)\n",
        "    self.linear3 = torch.nn.Linear(N_HIDDEN, N_HIDDEN, bias=True).to(device)\n",
        "    self.tanh3 = torch.nn.Tanh().to(device)\n",
        "    self.linear_logits = torch.nn.Linear(N_HIDDEN, vocab_size, bias=True).to(device)\n",
        "\n",
        "    self.ffn_layers = [\n",
        "        self.linear1,\n",
        "        self.tanh1,\n",
        "        self.linear2,\n",
        "        self.tanh2,\n",
        "        self.linear3,\n",
        "        self.tanh3,\n",
        "        self.linear_logits,\n",
        "    ]\n",
        "\n",
        "    self.layers = self.ffn_layers + [self.embd]\n",
        "\n",
        "  def forward(self, x):\n",
        "    xemb = self.embd(x)\n",
        "    y = xemb.view(xemb.shape[0], -1)\n",
        "    for l in self.ffn_layers:\n",
        "      y = l(y)\n",
        "    return y\n",
        "\n",
        "net = Net(n_embd=n_embd, block_size=BLOCK_SIZE, vocab_size=vocab_size)"
      ],
      "metadata": {
        "id": "3PcKxL7zqDhX"
      },
      "execution_count": 19,
      "outputs": []
    },
    {
      "cell_type": "code",
      "source": [
        "_total_params = 0\n",
        "\n",
        "for p in net.parameters():\n",
        "  _total_params += p.nelement()\n",
        "  # print(f'{p.data.shape=}')\n",
        "\n",
        "print(f'Total params = {_total_params}')"
      ],
      "metadata": {
        "colab": {
          "base_uri": "https://localhost:8080/"
        },
        "id": "0eMi8TezrkY4",
        "outputId": "844c2b13-cb5d-4c22-e91e-15d0c1973649"
      },
      "execution_count": 20,
      "outputs": [
        {
          "output_type": "stream",
          "name": "stdout",
          "text": [
            "Total params = 52845726\n"
          ]
        }
      ]
    },
    {
      "cell_type": "markdown",
      "source": [
        "## Define loss fn and optimizer"
      ],
      "metadata": {
        "id": "m04BZ-9f26w7"
      }
    },
    {
      "cell_type": "code",
      "source": [
        "import torch.optim as optim\n",
        "\n",
        "loss_fn = torch.nn.CrossEntropyLoss()\n",
        "optimizer = optim.SGD(net.parameters(), lr=0.001, momentum=0.9)"
      ],
      "metadata": {
        "id": "5xJsIU2z28us"
      },
      "execution_count": 21,
      "outputs": []
    },
    {
      "cell_type": "markdown",
      "source": [
        "# Train"
      ],
      "metadata": {
        "id": "5ObPwkVj3MFc"
      }
    },
    {
      "cell_type": "code",
      "source": [
        "max_steps = 200000\n",
        "batch_size = 32\n",
        "lossi = []\n",
        "lossi_dev = []\n",
        "ud = []\n",
        "log_interval = 200\n",
        "\n",
        "running_loss = 0.0\n",
        "running_loss_dev = 0.0\n",
        "running_loss_steps = 0\n",
        "\n",
        "for i in range(max_steps):\n",
        "\n",
        "  # Forward\n",
        "  Xb, Yb = get_batch(data_tr, batch_size, BLOCK_SIZE)\n",
        "  optimizer.zero_grad()\n",
        "  outputs = net(Xb)\n",
        "\n",
        "  # Loss\n",
        "  loss = loss_fn(outputs, Yb)\n",
        "  running_loss += loss.item()\n",
        "  running_loss_steps += 1\n",
        "\n",
        "  # Eval dev DS\n",
        "  Xb_dev, Yb_dev = get_batch(data_dev, batch_size, BLOCK_SIZE)\n",
        "  outputs_dev = net(Xb_dev)\n",
        "  loss_dev = loss_fn(outputs_dev, Yb_dev)\n",
        "  running_loss_dev += loss_dev.item()\n",
        "\n",
        "  # Update\n",
        "  loss.backward()\n",
        "  optimizer.step()\n",
        "\n",
        "  # Track status\n",
        "  if i % log_interval == 0:\n",
        "    print(f'{i}/{max_steps}: training loss={running_loss/running_loss_steps:.4f}, dev loss={running_loss_dev/running_loss_steps:.4f}')\n",
        "    running_loss = 0.0\n",
        "    running_loss_dev = 0.0\n",
        "    running_loss_steps = 0\n",
        "\n",
        "  lossi.append(loss.log10().item())\n",
        "  lossi_dev.append(loss_dev.log10().item())"
      ],
      "metadata": {
        "colab": {
          "base_uri": "https://localhost:8080/",
          "height": 772
        },
        "id": "3BtGf_U93M9V",
        "outputId": "287545fc-8d95-4ca1-c89c-19a273b31393"
      },
      "execution_count": 30,
      "outputs": [
        {
          "output_type": "stream",
          "name": "stdout",
          "text": [
            "0/200000: training loss=1.7357, dev loss=1.8550\n",
            "200/200000: training loss=1.6857, dev loss=1.8775\n",
            "400/200000: training loss=1.6836, dev loss=1.8780\n",
            "600/200000: training loss=1.6802, dev loss=1.8723\n",
            "800/200000: training loss=1.6811, dev loss=1.8761\n",
            "1000/200000: training loss=1.6817, dev loss=1.8740\n",
            "1200/200000: training loss=1.6801, dev loss=1.8778\n",
            "1400/200000: training loss=1.6777, dev loss=1.8748\n",
            "1600/200000: training loss=1.6770, dev loss=1.8686\n",
            "1800/200000: training loss=1.6769, dev loss=1.8723\n",
            "2000/200000: training loss=1.6770, dev loss=1.8712\n",
            "2200/200000: training loss=1.6722, dev loss=1.8695\n",
            "2400/200000: training loss=1.6749, dev loss=1.8656\n",
            "2600/200000: training loss=1.6720, dev loss=1.8600\n",
            "2800/200000: training loss=1.6704, dev loss=1.8676\n",
            "3000/200000: training loss=1.6685, dev loss=1.8659\n",
            "3200/200000: training loss=1.6652, dev loss=1.8659\n",
            "3400/200000: training loss=1.6693, dev loss=1.8738\n",
            "3600/200000: training loss=1.6639, dev loss=1.8599\n",
            "3800/200000: training loss=1.6632, dev loss=1.8629\n",
            "4000/200000: training loss=1.6661, dev loss=1.8591\n",
            "4200/200000: training loss=1.6639, dev loss=1.8643\n"
          ]
        },
        {
          "output_type": "error",
          "ename": "KeyboardInterrupt",
          "evalue": "ignored",
          "traceback": [
            "\u001b[0;31m---------------------------------------------------------------------------\u001b[0m",
            "\u001b[0;31mKeyboardInterrupt\u001b[0m                         Traceback (most recent call last)",
            "\u001b[0;32m<ipython-input-30-8defff210a44>\u001b[0m in \u001b[0;36m<cell line: 12>\u001b[0;34m()\u001b[0m\n\u001b[1;32m     23\u001b[0m \u001b[0;34m\u001b[0m\u001b[0m\n\u001b[1;32m     24\u001b[0m   \u001b[0;31m# Eval dev DS\u001b[0m\u001b[0;34m\u001b[0m\u001b[0;34m\u001b[0m\u001b[0m\n\u001b[0;32m---> 25\u001b[0;31m   \u001b[0mXb_dev\u001b[0m\u001b[0;34m,\u001b[0m \u001b[0mYb_dev\u001b[0m \u001b[0;34m=\u001b[0m \u001b[0mget_batch\u001b[0m\u001b[0;34m(\u001b[0m\u001b[0mdata_dev\u001b[0m\u001b[0;34m,\u001b[0m \u001b[0mbatch_size\u001b[0m\u001b[0;34m,\u001b[0m \u001b[0mBLOCK_SIZE\u001b[0m\u001b[0;34m)\u001b[0m\u001b[0;34m\u001b[0m\u001b[0;34m\u001b[0m\u001b[0m\n\u001b[0m\u001b[1;32m     26\u001b[0m   \u001b[0moutputs_dev\u001b[0m \u001b[0;34m=\u001b[0m \u001b[0mnet\u001b[0m\u001b[0;34m(\u001b[0m\u001b[0mXb_dev\u001b[0m\u001b[0;34m)\u001b[0m\u001b[0;34m\u001b[0m\u001b[0;34m\u001b[0m\u001b[0m\n\u001b[1;32m     27\u001b[0m   \u001b[0mloss_dev\u001b[0m \u001b[0;34m=\u001b[0m \u001b[0mloss_fn\u001b[0m\u001b[0;34m(\u001b[0m\u001b[0moutputs_dev\u001b[0m\u001b[0;34m,\u001b[0m \u001b[0mYb_dev\u001b[0m\u001b[0;34m)\u001b[0m\u001b[0;34m\u001b[0m\u001b[0;34m\u001b[0m\u001b[0m\n",
            "\u001b[0;32m<ipython-input-15-fe7dd2a1c2f6>\u001b[0m in \u001b[0;36mget_batch\u001b[0;34m(data, batch_size, block_size)\u001b[0m\n\u001b[1;32m      9\u001b[0m   \u001b[0mexpanded_Y\u001b[0m \u001b[0;34m=\u001b[0m \u001b[0;34m[\u001b[0m\u001b[0;34m]\u001b[0m\u001b[0;34m\u001b[0m\u001b[0;34m\u001b[0m\u001b[0m\n\u001b[1;32m     10\u001b[0m   \u001b[0;32mfor\u001b[0m \u001b[0mi\u001b[0m \u001b[0;32min\u001b[0m \u001b[0mrange\u001b[0m\u001b[0;34m(\u001b[0m\u001b[0mX\u001b[0m\u001b[0;34m.\u001b[0m\u001b[0mshape\u001b[0m\u001b[0;34m[\u001b[0m\u001b[0;36m0\u001b[0m\u001b[0;34m]\u001b[0m\u001b[0;34m)\u001b[0m\u001b[0;34m:\u001b[0m\u001b[0;34m\u001b[0m\u001b[0;34m\u001b[0m\u001b[0m\n\u001b[0;32m---> 11\u001b[0;31m     \u001b[0mxx\u001b[0m\u001b[0;34m,\u001b[0m \u001b[0myy\u001b[0m \u001b[0;34m=\u001b[0m \u001b[0mencoded_char_seq_to_examples\u001b[0m\u001b[0;34m(\u001b[0m\u001b[0mX\u001b[0m\u001b[0;34m[\u001b[0m\u001b[0mi\u001b[0m\u001b[0;34m]\u001b[0m\u001b[0;34m)\u001b[0m\u001b[0;34m\u001b[0m\u001b[0;34m\u001b[0m\u001b[0m\n\u001b[0m\u001b[1;32m     12\u001b[0m     \u001b[0;31m# print(f'{xx.shape=}, {yy.shape=}')\u001b[0m\u001b[0;34m\u001b[0m\u001b[0;34m\u001b[0m\u001b[0m\n\u001b[1;32m     13\u001b[0m     \u001b[0mexpanded_X\u001b[0m\u001b[0;34m.\u001b[0m\u001b[0mappend\u001b[0m\u001b[0;34m(\u001b[0m\u001b[0mxx\u001b[0m\u001b[0;34m)\u001b[0m\u001b[0;34m\u001b[0m\u001b[0;34m\u001b[0m\u001b[0m\n",
            "\u001b[0;32m<ipython-input-14-1cd9996e7111>\u001b[0m in \u001b[0;36mencoded_char_seq_to_examples\u001b[0;34m(X)\u001b[0m\n\u001b[1;32m     16\u001b[0m     \u001b[0mxx\u001b[0m\u001b[0;34m.\u001b[0m\u001b[0mappend\u001b[0m\u001b[0;34m(\u001b[0m\u001b[0mtorch\u001b[0m\u001b[0;34m.\u001b[0m\u001b[0mtensor\u001b[0m\u001b[0;34m(\u001b[0m\u001b[0mcontext\u001b[0m\u001b[0;34m)\u001b[0m\u001b[0;34m)\u001b[0m\u001b[0;34m\u001b[0m\u001b[0;34m\u001b[0m\u001b[0m\n\u001b[1;32m     17\u001b[0m     \u001b[0myy\u001b[0m\u001b[0;34m.\u001b[0m\u001b[0mappend\u001b[0m\u001b[0;34m(\u001b[0m\u001b[0mX\u001b[0m\u001b[0;34m[\u001b[0m\u001b[0mi\u001b[0m\u001b[0;34m]\u001b[0m\u001b[0;34m)\u001b[0m\u001b[0;34m\u001b[0m\u001b[0;34m\u001b[0m\u001b[0m\n\u001b[0;32m---> 18\u001b[0;31m     \u001b[0mcontext\u001b[0m \u001b[0;34m=\u001b[0m \u001b[0mcontext\u001b[0m\u001b[0;34m[\u001b[0m\u001b[0;36m1\u001b[0m\u001b[0;34m:\u001b[0m\u001b[0;34m]\u001b[0m \u001b[0;34m+\u001b[0m \u001b[0;34m[\u001b[0m\u001b[0mX\u001b[0m\u001b[0;34m[\u001b[0m\u001b[0mi\u001b[0m\u001b[0;34m]\u001b[0m\u001b[0;34m.\u001b[0m\u001b[0mitem\u001b[0m\u001b[0;34m(\u001b[0m\u001b[0;34m)\u001b[0m\u001b[0;34m]\u001b[0m\u001b[0;34m\u001b[0m\u001b[0;34m\u001b[0m\u001b[0m\n\u001b[0m\u001b[1;32m     19\u001b[0m \u001b[0;34m\u001b[0m\u001b[0m\n\u001b[1;32m     20\u001b[0m   \u001b[0;32mreturn\u001b[0m \u001b[0mtorch\u001b[0m\u001b[0;34m.\u001b[0m\u001b[0mstack\u001b[0m\u001b[0;34m(\u001b[0m\u001b[0mxx\u001b[0m\u001b[0;34m)\u001b[0m\u001b[0;34m,\u001b[0m \u001b[0mtorch\u001b[0m\u001b[0;34m.\u001b[0m\u001b[0mstack\u001b[0m\u001b[0;34m(\u001b[0m\u001b[0myy\u001b[0m\u001b[0;34m)\u001b[0m\u001b[0;34m\u001b[0m\u001b[0;34m\u001b[0m\u001b[0m\n",
            "\u001b[0;31mKeyboardInterrupt\u001b[0m: "
          ]
        }
      ]
    },
    {
      "cell_type": "code",
      "source": [
        "plt.plot(lossi)"
      ],
      "metadata": {
        "id": "jjTgq78BCCRd",
        "colab": {
          "base_uri": "https://localhost:8080/",
          "height": 451
        },
        "outputId": "c7a46ba0-ffd0-429d-b2b7-a3803d5ddde5"
      },
      "execution_count": 31,
      "outputs": [
        {
          "output_type": "execute_result",
          "data": {
            "text/plain": [
              "[<matplotlib.lines.Line2D at 0x7f2b69673c10>]"
            ]
          },
          "metadata": {},
          "execution_count": 31
        },
        {
          "output_type": "display_data",
          "data": {
            "text/plain": [
              "<Figure size 640x480 with 1 Axes>"
            ],
            "image/png": "[encoded data removed]"
          },
          "metadata": {}
        }
      ]
    },
    {
      "cell_type": "code",
      "source": [
        "plt.plot(lossi_dev)"
      ],
      "metadata": {
        "id": "c6QgPaXDCHha",
        "colab": {
          "base_uri": "https://localhost:8080/",
          "height": 449
        },
        "outputId": "672a898d-a0e9-460f-e160-50896a21e8f5"
      },
      "execution_count": 32,
      "outputs": [
        {
          "output_type": "execute_result",
          "data": {
            "text/plain": [
              "[<matplotlib.lines.Line2D at 0x7f2b696e1ae0>]"
            ]
          },
          "metadata": {},
          "execution_count": 32
        },
        {
          "output_type": "display_data",
          "data": {
            "text/plain": [
              "<Figure size 640x480 with 1 Axes>"
            ],
            "image/png": "[encoded data removed]"
          },
          "metadata": {}
        }
      ]
    },
    {
      "cell_type": "markdown",
      "source": [
        "# Sample the model"
      ],
      "metadata": {
        "id": "7kTWwn5Q8x4b"
      }
    },
    {
      "cell_type": "code",
      "source": [
        "g_gpu = torch.Generator(device=device).manual_seed(2147483647) # for reproducibility\n",
        "\n",
        "i = 0\n",
        "\n",
        "iys = []\n",
        "context = [0] * BLOCK_SIZE\n",
        "while True:\n",
        "  x = torch.tensor([context]).to(device)\n",
        "  logits = net(x)\n",
        "  prob = F.softmax(logits, dim=1)\n",
        "  iy = torch.multinomial(prob, num_samples=1, replacement=True, generator=g_gpu)\n",
        "\n",
        "  if i > 1000:\n",
        "    break\n",
        "\n",
        "  iys.append(iy.item())\n",
        "  context = context[1:] + [iy.item()]\n",
        "\n",
        "  i += 1\n",
        "\n",
        "print(decode(iys))"
      ],
      "metadata": {
        "id": "CGiFf5b280CQ",
        "colab": {
          "base_uri": "https://localhost:8080/"
        },
        "outputId": "2c75f399-b972-414f-deea-3907fbac089a"
      },
      "execution_count": 33,
      "outputs": [
        {
          "output_type": "stream",
          "name": "stdout",
          "text": [
            "even mend,\n",
            "Which pach him dorbany ere them the hows?\n",
            "\n",
            "AURTHAS:\n",
            "He waske. Lomanol-re, him stain sucking tixcordond it upporack.\n",
            "\n",
            "LARTHUS:\n",
            "To trought assure thou dea, counted the come;\n",
            "Thommy prither's hart a'll to resage.\n",
            "\n",
            "CLARIO:\n",
            "ANULARD:\n",
            "That lot is my fait: with do pomion, trosbine to those proath, for eres?\n",
            "Sirst Selushm's good the Ruckert-ice, parthing,\n",
            "Siven thou, and bears, Lurdind it the greendbro stomiting.\n",
            "\n",
            "DENHFLIDUKENG:\n",
            "Nuch uncless ardily hath me for.\n",
            "UING from thou not arms as your sollow that nothow think high anried, throw abvilialt.\n",
            "\n",
            "MIRENCE EO:\n",
            "Mome, he wish I comping on they baw\n",
            "Thild leto him down!\n",
            "How fortholked whall, it is somenty could be prisped would chen to hed againg. Herwifor dreaking unge,\n",
            "Teaven the afficestion\n",
            "And thanger Come a bodden ans fear,\n",
            "Rill, they hop gid to at ther\n",
            "What eusween my hath oatenstand so him,\n",
            "Beew pomes flom,--\n",
            "Then to stocendom courth him for, to chame:\n",
            "Out of the while'd may my this straught is telt by my?\n",
            "\n",
            "CUTUCHENRY VIRCENV O, Yor\n"
          ]
        }
      ]
    }
  ]
}