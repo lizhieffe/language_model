{
  "nbformat": 4,
  "nbformat_minor": 0,
  "metadata": {
    "colab": {
      "provenance": [],
      "authorship_tag": "ABX9TyMVKJurjAk9fj5baUSRbk2e",
      "include_colab_link": true
    },
    "kernelspec": {
      "name": "python3",
      "display_name": "Python 3"
    },
    "language_info": {
      "name": "python"
    }
  },
  "cells": [
    {
      "cell_type": "markdown",
      "metadata": {
        "id": "view-in-github",
        "colab_type": "text"
      },
      "source": [
        "<a href=\"https://colab.research.google.com/github/lizhieffe/language_model/blob/main/6_Implementations_of_LMs_activations_gradients_batchnorm.ipynb\" target=\"_parent\"><img src=\"https://colab.research.google.com/assets/colab-badge.svg\" alt=\"Open In Colab\"/></a>"
      ]
    },
    {
      "cell_type": "markdown",
      "source": [
        "- This colab helps to understand more about activations, gradients, and batch norm.\n",
        "\n",
        "- It will help to understand why **RNN is harder to optimize** compared to CNN etc."
      ],
      "metadata": {
        "id": "bszmd4iYsJR2"
      }
    },
    {
      "cell_type": "markdown",
      "source": [
        "# Setup"
      ],
      "metadata": {
        "id": "FixVn4XcsaUe"
      }
    },
    {
      "cell_type": "code",
      "execution_count": 1,
      "metadata": {
        "id": "VF3HIBnArs4K"
      },
      "outputs": [],
      "source": [
        "import torch\n",
        "import torch.nn.functional as F\n",
        "import matplotlib.pyplot as plt\n",
        "%matplotlib inline"
      ]
    },
    {
      "cell_type": "markdown",
      "source": [
        "# Load data"
      ],
      "metadata": {
        "id": "wYUCSwwGsb3i"
      }
    },
    {
      "cell_type": "code",
      "source": [
        "# download the names.txt file from github\n",
        "!wget https://raw.githubusercontent.com/karpathy/makemore/master/names.txt\n",
        "\n",
        "# read in all the words\n",
        "words = open('names.txt', 'r').read().splitlines()\n",
        "words[:8]"
      ],
      "metadata": {
        "colab": {
          "base_uri": "https://localhost:8080/"
        },
        "id": "iCLMOWDZsBKX",
        "outputId": "675a9c52-3bd6-4dcc-eef4-06609d12035e"
      },
      "execution_count": 62,
      "outputs": [
        {
          "output_type": "stream",
          "name": "stdout",
          "text": [
            "--2023-09-10 15:56:33--  https://raw.githubusercontent.com/karpathy/makemore/master/names.txt\n",
            "Resolving raw.githubusercontent.com (raw.githubusercontent.com)... 185.199.108.133, 185.199.109.133, 185.199.110.133, ...\n",
            "Connecting to raw.githubusercontent.com (raw.githubusercontent.com)|185.199.108.133|:443... connected.\n",
            "HTTP request sent, awaiting response... 200 OK\n",
            "Length: 228145 (223K) [text/plain]\n",
            "Saving to: ‘names.txt.1’\n",
            "\n",
            "\rnames.txt.1           0%[                    ]       0  --.-KB/s               \rnames.txt.1         100%[===================>] 222.80K  --.-KB/s    in 0.03s   \n",
            "\n",
            "2023-09-10 15:56:33 (7.51 MB/s) - ‘names.txt.1’ saved [228145/228145]\n",
            "\n"
          ]
        },
        {
          "output_type": "execute_result",
          "data": {
            "text/plain": [
              "['emma', 'olivia', 'ava', 'isabella', 'sophia', 'charlotte', 'mia', 'amelia']"
            ]
          },
          "metadata": {},
          "execution_count": 62
        }
      ]
    },
    {
      "cell_type": "code",
      "source": [
        "words[:8]"
      ],
      "metadata": {
        "colab": {
          "base_uri": "https://localhost:8080/"
        },
        "id": "nnXM8F_7sdLp",
        "outputId": "d058f4a8-4482-4f30-926e-2d6781c10503"
      },
      "execution_count": 63,
      "outputs": [
        {
          "output_type": "execute_result",
          "data": {
            "text/plain": [
              "['emma', 'olivia', 'ava', 'isabella', 'sophia', 'charlotte', 'mia', 'amelia']"
            ]
          },
          "metadata": {},
          "execution_count": 63
        }
      ]
    },
    {
      "cell_type": "code",
      "source": [
        "len(words)"
      ],
      "metadata": {
        "colab": {
          "base_uri": "https://localhost:8080/"
        },
        "id": "JBdeIy1VshCi",
        "outputId": "7f0661b8-4c13-4bdd-ab22-51bf8114fbcd"
      },
      "execution_count": 64,
      "outputs": [
        {
          "output_type": "execute_result",
          "data": {
            "text/plain": [
              "32033"
            ]
          },
          "metadata": {},
          "execution_count": 64
        }
      ]
    },
    {
      "cell_type": "markdown",
      "source": [
        "# Build vocabularoy"
      ],
      "metadata": {
        "id": "mLAIxTnysna2"
      }
    },
    {
      "cell_type": "code",
      "source": [
        "chars = sorted(list(set(''.join(words))))\n",
        "\n",
        "stoi = {c: i+1 for i, c in enumerate(chars)}\n",
        "stoi['.'] = 0\n",
        "\n",
        "itos = {i: c for c, i in stoi.items()}\n",
        "\n",
        "vocab_size = len(stoi)\n",
        "\n",
        "assert vocab_size == 27"
      ],
      "metadata": {
        "id": "dh15ITYhsp_n"
      },
      "execution_count": 65,
      "outputs": []
    },
    {
      "cell_type": "markdown",
      "source": [
        "# Create DS"
      ],
      "metadata": {
        "id": "D6oV5bPHuBD_"
      }
    },
    {
      "cell_type": "code",
      "source": [
        "block_size = 3  # Context length: how many characters do we take to predict the next one?\n",
        "\n",
        "def build_dataset(words):\n",
        "  X = []\n",
        "  Y = []\n",
        "\n",
        "  for w in words:\n",
        "    context = [0] * block_size\n",
        "    for ch in w + '.':\n",
        "      ix = stoi[ch]\n",
        "      X.append(context)\n",
        "      Y.append(ix)\n",
        "      # print(f\"{''.join(itos[c] for c in context)}--->{itos[ix]}\")\n",
        "      context = context[1:] + [ix]\n",
        "\n",
        "  X = torch.tensor(X)\n",
        "  Y = torch.tensor(Y)\n",
        "\n",
        "  return X, Y"
      ],
      "metadata": {
        "id": "jTV1-aHauC9H"
      },
      "execution_count": 66,
      "outputs": []
    },
    {
      "cell_type": "code",
      "source": [
        "import random\n",
        "random.seed(42)\n",
        "random.shuffle(words)\n",
        "\n",
        "n1 = int(0.8 * len(words))\n",
        "n2 = int(0.9 * len(words))\n",
        "\n",
        "Xtr, Ytr = build_dataset(words[:n1])\n",
        "Xdev, Ydev = build_dataset(words[n1:n2])\n",
        "Xte, Yte = build_dataset(words[n2:])\n",
        "\n",
        "print(f'train: {len(Xtr)}, dev: {len(Xdev)}, test: {len(Xte)}')"
      ],
      "metadata": {
        "colab": {
          "base_uri": "https://localhost:8080/"
        },
        "id": "wSA-bb5ovOaQ",
        "outputId": "4d890414-a77b-4ee1-bef2-942c5e3162d5"
      },
      "execution_count": 67,
      "outputs": [
        {
          "output_type": "stream",
          "name": "stdout",
          "text": [
            "train: 182625, dev: 22655, test: 22866\n"
          ]
        }
      ]
    },
    {
      "cell_type": "markdown",
      "source": [
        "# MLP Revisited"
      ],
      "metadata": {
        "id": "PrBBf-K0yloI"
      }
    },
    {
      "cell_type": "markdown",
      "source": [
        "## Model params"
      ],
      "metadata": {
        "id": "xobIbx77EVYq"
      }
    },
    {
      "cell_type": "code",
      "source": [
        "# MLP revisited\n",
        "n_embd = 10 # the dimensionality of the character embedding vectors\n",
        "n_hidden = 200 # the number of neurons in the hidden layer of the MLP\n",
        "\n",
        "g = torch.Generator().manual_seed(2147483647) # for reproducibility\n",
        "C = torch.randn((vocab_size, n_embd), generator=g)\n",
        "W1 = torch.randn((n_embd * block_size, n_hidden), generator=g)\n",
        "b1 = torch.randn((n_hidden,), generator=g)\n",
        "W2 = torch.randn((n_hidden, vocab_size), generator=g)\n",
        "b2 = torch.randn((vocab_size,), generator=g)\n",
        "\n",
        "parameters = [C, W1, b1, W2, b2]\n",
        "n_params = sum(p.nelement() for p in parameters)\n",
        "print(f'# of parameters: {n_params}')\n",
        "\n",
        "for p in parameters:\n",
        "  p.requires_grad = True"
      ],
      "metadata": {
        "colab": {
          "base_uri": "https://localhost:8080/"
        },
        "id": "abfvJHVB4b1D",
        "outputId": "bc64234e-31ea-4b20-937e-fa13a8fb84dc"
      },
      "execution_count": 120,
      "outputs": [
        {
          "output_type": "stream",
          "name": "stdout",
          "text": [
            "# of parameters: 11897\n"
          ]
        }
      ]
    },
    {
      "cell_type": "markdown",
      "source": [
        "## Training loop"
      ],
      "metadata": {
        "id": "4WKwlakCEY4S"
      }
    },
    {
      "cell_type": "code",
      "source": [
        "# same optimization as last time\n",
        "max_steps = 200_000\n",
        "batch_size = 32\n",
        "lossi = []\n",
        "\n",
        "for i in range(max_steps):\n",
        "\n",
        "  # mini-batch\n",
        "  ix = torch.randint(0, Xtr.shape[0], (batch_size, ), generator=g)\n",
        "  Xb, Yb = Xtr[ix], Ytr[ix]\n",
        "\n",
        "  # forward pass\n",
        "  xemb = C[Xb]\n",
        "  xemb.shape\n",
        "  h = torch.tanh(xemb.view(-1, block_size * n_embd) @ W1 + b1)\n",
        "  logits = h @ W2 + b2\n",
        "  loss = F.cross_entropy(logits, Yb) # loss function\n",
        "\n",
        "  lossi.append(loss.log10().item())\n",
        "\n",
        "  # backward pass\n",
        "  for p in parameters:\n",
        "    p.grad = None\n",
        "  loss.backward()\n",
        "\n",
        "  # Update params\n",
        "  lr = 0.1 if i < 100_000 else 0.01 # step learning rate decay\n",
        "  for p in parameters:\n",
        "    p.data -= 0.1 * p.grad\n",
        "\n",
        "  # Track states\n",
        "  if i % 10_000 == 0:\n",
        "    print(f'{i}/{max_steps}: {loss.item():.4f}')"
      ],
      "metadata": {
        "colab": {
          "base_uri": "https://localhost:8080/"
        },
        "id": "UQTvcZMh-uf0",
        "outputId": "2c59113a-50e1-49e3-b7c0-0bad8bba63fb"
      },
      "execution_count": 121,
      "outputs": [
        {
          "output_type": "stream",
          "name": "stdout",
          "text": [
            "0/200000: 27.8817\n",
            "10000/200000: 2.9415\n",
            "20000/200000: 2.5069\n",
            "30000/200000: 2.7998\n",
            "40000/200000: 2.0261\n",
            "50000/200000: 2.5863\n",
            "60000/200000: 2.3420\n",
            "70000/200000: 2.0952\n",
            "80000/200000: 2.3454\n",
            "90000/200000: 2.2365\n",
            "100000/200000: 2.1080\n",
            "110000/200000: 2.6963\n",
            "120000/200000: 1.9808\n",
            "130000/200000: 2.7478\n",
            "140000/200000: 2.2104\n",
            "150000/200000: 2.2696\n",
            "160000/200000: 2.2313\n",
            "170000/200000: 1.8774\n",
            "180000/200000: 2.1382\n",
            "190000/200000: 1.8206\n"
          ]
        }
      ]
    },
    {
      "cell_type": "code",
      "source": [
        "plt.plot(lossi)"
      ],
      "metadata": {
        "colab": {
          "base_uri": "https://localhost:8080/",
          "height": 447
        },
        "id": "wAer2bpkCakQ",
        "outputId": "33fa75c7-29f8-4620-f3ca-2c17ffc63d3f"
      },
      "execution_count": 122,
      "outputs": [
        {
          "output_type": "execute_result",
          "data": {
            "text/plain": [
              "[<matplotlib.lines.Line2D at 0x7c7949775390>]"
            ]
          },
          "metadata": {},
          "execution_count": 122
        },
        {
          "output_type": "display_data",
          "data": {
            "text/plain": [
              "<Figure size 640x480 with 1 Axes>"
            ],
            "image/png": "[encoded data removed]"
          },
          "metadata": {}
        }
      ]
    },
    {
      "cell_type": "markdown",
      "source": [
        "## Obtain loss on DS splits"
      ],
      "metadata": {
        "id": "FOgal2iwEbKv"
      }
    },
    {
      "cell_type": "code",
      "source": [
        "@torch.no_grad()  # This decorator disables gradient trackings\n",
        "def split_loss(split):\n",
        "  x, y = {\n",
        "      'train': (Xtr, Ytr),\n",
        "      'dev': (Xdev, Ydev),\n",
        "      'test': (Xte, Yte),\n",
        "  }[split]\n",
        "\n",
        "  xemb = C[x]\n",
        "  h = torch.tanh(xemb.view(-1, block_size * n_embd) @ W1 + b1)\n",
        "  logits = h @ W2 + b2\n",
        "  loss = F.cross_entropy(logits, y)\n",
        "\n",
        "  return loss.item()\n",
        "\n",
        "print(f'train loss = {split_loss(\"train\")}, dev loss = {split_loss(\"dev\")}')"
      ],
      "metadata": {
        "colab": {
          "base_uri": "https://localhost:8080/"
        },
        "id": "p19cfr3FChxW",
        "outputId": "3348e3ac-e21a-4bc2-decf-41ca60ffeba0"
      },
      "execution_count": 135,
      "outputs": [
        {
          "output_type": "stream",
          "name": "stdout",
          "text": [
            "train loss = 2.1910688877105713, dev loss = 2.2519688606262207\n"
          ]
        }
      ]
    },
    {
      "cell_type": "markdown",
      "source": [
        "## Sample the model"
      ],
      "metadata": {
        "id": "jMfEUre2EfqQ"
      }
    },
    {
      "cell_type": "code",
      "source": [
        "for _ in range(20):\n",
        "  context = [0] * block_size\n",
        "  out = []\n",
        "\n",
        "  while True:\n",
        "    _tmp = torch.tensor([context])\n",
        "    xemb = C[_tmp]\n",
        "\n",
        "    h = torch.tanh(xemb.view(xemb.shape[0], -1) @ W1 + b1)\n",
        "    logits = h @ W2 + b2\n",
        "    probs = F.softmax(logits, dim=1)\n",
        "\n",
        "    iy = torch.multinomial(probs, num_samples=1, replacement=True, generator=g)\n",
        "\n",
        "    if iy == 0:\n",
        "      break\n",
        "    else:\n",
        "      out.append(iy.item())\n",
        "      context = context[1:] + [iy]\n",
        "\n",
        "  print(''.join(itos[i] for i in out))\n",
        "\n",
        "\n"
      ],
      "metadata": {
        "colab": {
          "base_uri": "https://localhost:8080/"
        },
        "id": "Vy293kqbFhYg",
        "outputId": "fda4b347-871a-4d33-9564-901119643025"
      },
      "execution_count": 177,
      "outputs": [
        {
          "output_type": "stream",
          "name": "stdout",
          "text": [
            "kilero\n",
            "gracin\n",
            "aury\n",
            "orie\n",
            "orue\n",
            "xally\n",
            "keigh\n",
            "koes\n",
            "ker\n",
            "augison\n",
            "wen\n",
            "soma\n",
            "logri\n",
            "samari\n",
            "faima\n",
            "den\n",
            "jaqub\n",
            "kairrithmere\n",
            "wester\n",
            "kaylonces\n"
          ]
        }
      ]
    }
  ]
}