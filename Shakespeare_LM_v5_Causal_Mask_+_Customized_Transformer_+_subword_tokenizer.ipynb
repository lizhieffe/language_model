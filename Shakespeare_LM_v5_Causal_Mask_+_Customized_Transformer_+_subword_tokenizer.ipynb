{
  "nbformat": 4,
  "nbformat_minor": 0,
  "metadata": {
    "colab": {
      "provenance": [],
      "authorship_tag": "ABX9TyP3XnCKeFgx7Vd+FltBtCzB",
      "include_colab_link": true
    },
    "kernelspec": {
      "name": "python3",
      "display_name": "Python 3"
    },
    "language_info": {
      "name": "python"
    },
    "widgets": {
      "application/vnd.jupyter.widget-state+json": {
        "7b9e7a9ea06343aba02592e15ecdd32f": {
          "model_module": "@jupyter-widgets/controls",
          "model_name": "HBoxModel",
          "model_module_version": "1.5.0",
          "state": {
            "_dom_classes": [],
            "_model_module": "@jupyter-widgets/controls",
            "_model_module_version": "1.5.0",
            "_model_name": "HBoxModel",
            "_view_count": null,
            "_view_module": "@jupyter-widgets/controls",
            "_view_module_version": "1.5.0",
            "_view_name": "HBoxView",
            "box_style": "",
            "children": [
              "IPY_MODEL_0cd068ec768c4b9989edd80f275e4683",
              "IPY_MODEL_65748b6cf5bf40dcafcb85ffbcadf5e2",
              "IPY_MODEL_49ccd0c5e50f46969cb4904405ee76fc"
            ],
            "layout": "IPY_MODEL_257225e830dd43bd87dc6580efd4abf0"
          }
        },
        "0cd068ec768c4b9989edd80f275e4683": {
          "model_module": "@jupyter-widgets/controls",
          "model_name": "HTMLModel",
          "model_module_version": "1.5.0",
          "state": {
            "_dom_classes": [],
            "_model_module": "@jupyter-widgets/controls",
            "_model_module_version": "1.5.0",
            "_model_name": "HTMLModel",
            "_view_count": null,
            "_view_module": "@jupyter-widgets/controls",
            "_view_module_version": "1.5.0",
            "_view_name": "HTMLView",
            "description": "",
            "description_tooltip": null,
            "layout": "IPY_MODEL_02c7f42485ec49b49375f12e6cde5a08",
            "placeholder": "​",
            "style": "IPY_MODEL_6016c71ddde3410993dc2ecf9ccc612b",
            "value": "Downloading (…)/main/tokenizer.json: 100%"
          }
        },
        "65748b6cf5bf40dcafcb85ffbcadf5e2": {
          "model_module": "@jupyter-widgets/controls",
          "model_name": "FloatProgressModel",
          "model_module_version": "1.5.0",
          "state": {
            "_dom_classes": [],
            "_model_module": "@jupyter-widgets/controls",
            "_model_module_version": "1.5.0",
            "_model_name": "FloatProgressModel",
            "_view_count": null,
            "_view_module": "@jupyter-widgets/controls",
            "_view_module_version": "1.5.0",
            "_view_name": "ProgressView",
            "bar_style": "success",
            "description": "",
            "description_tooltip": null,
            "layout": "IPY_MODEL_1b6cea71baad4e90b0180cbb9719c7f7",
            "max": 435797,
            "min": 0,
            "orientation": "horizontal",
            "style": "IPY_MODEL_f7b8b196b5b74cee910a7568a3b6dc34",
            "value": 435797
          }
        },
        "49ccd0c5e50f46969cb4904405ee76fc": {
          "model_module": "@jupyter-widgets/controls",
          "model_name": "HTMLModel",
          "model_module_version": "1.5.0",
          "state": {
            "_dom_classes": [],
            "_model_module": "@jupyter-widgets/controls",
            "_model_module_version": "1.5.0",
            "_model_name": "HTMLModel",
            "_view_count": null,
            "_view_module": "@jupyter-widgets/controls",
            "_view_module_version": "1.5.0",
            "_view_name": "HTMLView",
            "description": "",
            "description_tooltip": null,
            "layout": "IPY_MODEL_8df58f16a8d446f5a494898ca31aaac0",
            "placeholder": "​",
            "style": "IPY_MODEL_27ffd9a239344fe1a3ee049c5e0e4669",
            "value": " 436k/436k [00:00&lt;00:00, 2.42MB/s]"
          }
        },
        "257225e830dd43bd87dc6580efd4abf0": {
          "model_module": "@jupyter-widgets/base",
          "model_name": "LayoutModel",
          "model_module_version": "1.2.0",
          "state": {
            "_model_module": "@jupyter-widgets/base",
            "_model_module_version": "1.2.0",
            "_model_name": "LayoutModel",
            "_view_count": null,
            "_view_module": "@jupyter-widgets/base",
            "_view_module_version": "1.2.0",
            "_view_name": "LayoutView",
            "align_content": null,
            "align_items": null,
            "align_self": null,
            "border": null,
            "bottom": null,
            "display": null,
            "flex": null,
            "flex_flow": null,
            "grid_area": null,
            "grid_auto_columns": null,
            "grid_auto_flow": null,
            "grid_auto_rows": null,
            "grid_column": null,
            "grid_gap": null,
            "grid_row": null,
            "grid_template_areas": null,
            "grid_template_columns": null,
            "grid_template_rows": null,
            "height": null,
            "justify_content": null,
            "justify_items": null,
            "left": null,
            "margin": null,
            "max_height": null,
            "max_width": null,
            "min_height": null,
            "min_width": null,
            "object_fit": null,
            "object_position": null,
            "order": null,
            "overflow": null,
            "overflow_x": null,
            "overflow_y": null,
            "padding": null,
            "right": null,
            "top": null,
            "visibility": null,
            "width": null
          }
        },
        "02c7f42485ec49b49375f12e6cde5a08": {
          "model_module": "@jupyter-widgets/base",
          "model_name": "LayoutModel",
          "model_module_version": "1.2.0",
          "state": {
            "_model_module": "@jupyter-widgets/base",
            "_model_module_version": "1.2.0",
            "_model_name": "LayoutModel",
            "_view_count": null,
            "_view_module": "@jupyter-widgets/base",
            "_view_module_version": "1.2.0",
            "_view_name": "LayoutView",
            "align_content": null,
            "align_items": null,
            "align_self": null,
            "border": null,
            "bottom": null,
            "display": null,
            "flex": null,
            "flex_flow": null,
            "grid_area": null,
            "grid_auto_columns": null,
            "grid_auto_flow": null,
            "grid_auto_rows": null,
            "grid_column": null,
            "grid_gap": null,
            "grid_row": null,
            "grid_template_areas": null,
            "grid_template_columns": null,
            "grid_template_rows": null,
            "height": null,
            "justify_content": null,
            "justify_items": null,
            "left": null,
            "margin": null,
            "max_height": null,
            "max_width": null,
            "min_height": null,
            "min_width": null,
            "object_fit": null,
            "object_position": null,
            "order": null,
            "overflow": null,
            "overflow_x": null,
            "overflow_y": null,
            "padding": null,
            "right": null,
            "top": null,
            "visibility": null,
            "width": null
          }
        },
        "6016c71ddde3410993dc2ecf9ccc612b": {
          "model_module": "@jupyter-widgets/controls",
          "model_name": "DescriptionStyleModel",
          "model_module_version": "1.5.0",
          "state": {
            "_model_module": "@jupyter-widgets/controls",
            "_model_module_version": "1.5.0",
            "_model_name": "DescriptionStyleModel",
            "_view_count": null,
            "_view_module": "@jupyter-widgets/base",
            "_view_module_version": "1.2.0",
            "_view_name": "StyleView",
            "description_width": ""
          }
        },
        "1b6cea71baad4e90b0180cbb9719c7f7": {
          "model_module": "@jupyter-widgets/base",
          "model_name": "LayoutModel",
          "model_module_version": "1.2.0",
          "state": {
            "_model_module": "@jupyter-widgets/base",
            "_model_module_version": "1.2.0",
            "_model_name": "LayoutModel",
            "_view_count": null,
            "_view_module": "@jupyter-widgets/base",
            "_view_module_version": "1.2.0",
            "_view_name": "LayoutView",
            "align_content": null,
            "align_items": null,
            "align_self": null,
            "border": null,
            "bottom": null,
            "display": null,
            "flex": null,
            "flex_flow": null,
            "grid_area": null,
            "grid_auto_columns": null,
            "grid_auto_flow": null,
            "grid_auto_rows": null,
            "grid_column": null,
            "grid_gap": null,
            "grid_row": null,
            "grid_template_areas": null,
            "grid_template_columns": null,
            "grid_template_rows": null,
            "height": null,
            "justify_content": null,
            "justify_items": null,
            "left": null,
            "margin": null,
            "max_height": null,
            "max_width": null,
            "min_height": null,
            "min_width": null,
            "object_fit": null,
            "object_position": null,
            "order": null,
            "overflow": null,
            "overflow_x": null,
            "overflow_y": null,
            "padding": null,
            "right": null,
            "top": null,
            "visibility": null,
            "width": null
          }
        },
        "f7b8b196b5b74cee910a7568a3b6dc34": {
          "model_module": "@jupyter-widgets/controls",
          "model_name": "ProgressStyleModel",
          "model_module_version": "1.5.0",
          "state": {
            "_model_module": "@jupyter-widgets/controls",
            "_model_module_version": "1.5.0",
            "_model_name": "ProgressStyleModel",
            "_view_count": null,
            "_view_module": "@jupyter-widgets/base",
            "_view_module_version": "1.2.0",
            "_view_name": "StyleView",
            "bar_color": null,
            "description_width": ""
          }
        },
        "8df58f16a8d446f5a494898ca31aaac0": {
          "model_module": "@jupyter-widgets/base",
          "model_name": "LayoutModel",
          "model_module_version": "1.2.0",
          "state": {
            "_model_module": "@jupyter-widgets/base",
            "_model_module_version": "1.2.0",
            "_model_name": "LayoutModel",
            "_view_count": null,
            "_view_module": "@jupyter-widgets/base",
            "_view_module_version": "1.2.0",
            "_view_name": "LayoutView",
            "align_content": null,
            "align_items": null,
            "align_self": null,
            "border": null,
            "bottom": null,
            "display": null,
            "flex": null,
            "flex_flow": null,
            "grid_area": null,
            "grid_auto_columns": null,
            "grid_auto_flow": null,
            "grid_auto_rows": null,
            "grid_column": null,
            "grid_gap": null,
            "grid_row": null,
            "grid_template_areas": null,
            "grid_template_columns": null,
            "grid_template_rows": null,
            "height": null,
            "justify_content": null,
            "justify_items": null,
            "left": null,
            "margin": null,
            "max_height": null,
            "max_width": null,
            "min_height": null,
            "min_width": null,
            "object_fit": null,
            "object_position": null,
            "order": null,
            "overflow": null,
            "overflow_x": null,
            "overflow_y": null,
            "padding": null,
            "right": null,
            "top": null,
            "visibility": null,
            "width": null
          }
        },
        "27ffd9a239344fe1a3ee049c5e0e4669": {
          "model_module": "@jupyter-widgets/controls",
          "model_name": "DescriptionStyleModel",
          "model_module_version": "1.5.0",
          "state": {
            "_model_module": "@jupyter-widgets/controls",
            "_model_module_version": "1.5.0",
            "_model_name": "DescriptionStyleModel",
            "_view_count": null,
            "_view_module": "@jupyter-widgets/base",
            "_view_module_version": "1.2.0",
            "_view_name": "StyleView",
            "description_width": ""
          }
        }
      }
    }
  },
  "cells": [
    {
      "cell_type": "markdown",
      "metadata": {
        "id": "view-in-github",
        "colab_type": "text"
      },
      "source": [
        "<a href=\"https://colab.research.google.com/github/lizhieffe/language_model/blob/main/Shakespeare_LM_v5_Causal_Mask_%2B_Customized_Transformer_%2B_subword_tokenizer.ipynb\" target=\"_parent\"><img src=\"https://colab.research.google.com/assets/colab-badge.svg\" alt=\"Open In Colab\"/></a>"
      ]
    },
    {
      "cell_type": "code",
      "execution_count": null,
      "metadata": {
        "id": "fRMxsDXmpbMf"
      },
      "outputs": [],
      "source": [
        "import torch\n",
        "import torch.nn.functional as F\n",
        "import matplotlib.pyplot as plt\n",
        "%matplotlib inline"
      ]
    },
    {
      "cell_type": "code",
      "source": [
        "USE_GPU = True\n",
        "\n",
        "BLOCK_SIZE = 96 # Context length: how many chars do we take to predict the next one?"
      ],
      "metadata": {
        "id": "vDHUDjtsph4G"
      },
      "execution_count": null,
      "outputs": []
    },
    {
      "cell_type": "markdown",
      "source": [
        "# Setup GPU"
      ],
      "metadata": {
        "id": "NZIvnPdcps3e"
      }
    },
    {
      "cell_type": "code",
      "source": [
        "if USE_GPU:\n",
        "  device = torch.device(\"cuda:0\" if torch.cuda.is_available() else \"cpu\")\n",
        "  assert device.type != 'cpu', \"GPU is not available\"\n",
        "else:\n",
        "  device = 'cpu'\n",
        "\n",
        "print(device)"
      ],
      "metadata": {
        "colab": {
          "base_uri": "https://localhost:8080/"
        },
        "id": "sd95wthQptwk",
        "outputId": "d29ce766-8fbb-4a79-d595-607090be6cb4"
      },
      "execution_count": null,
      "outputs": [
        {
          "output_type": "stream",
          "name": "stdout",
          "text": [
            "cuda:0\n"
          ]
        }
      ]
    },
    {
      "cell_type": "code",
      "source": [
        "g_cpu = torch.Generator(device='cpu').manual_seed(2147483647) # for reproducibility\n",
        "g_device = torch.Generator(device=device).manual_seed(2147483647) # for reproducibility"
      ],
      "metadata": {
        "id": "FDyu_mmdxQNC"
      },
      "execution_count": null,
      "outputs": []
    },
    {
      "cell_type": "markdown",
      "source": [
        "# Util Functions"
      ],
      "metadata": {
        "id": "hHD6RNbQpv4G"
      }
    },
    {
      "cell_type": "markdown",
      "source": [
        "# Load data"
      ],
      "metadata": {
        "id": "CXSgUDhjdCxj"
      }
    },
    {
      "cell_type": "markdown",
      "source": [
        "## Tiny Shakespaeare DS"
      ],
      "metadata": {
        "id": "-X05-eBXmjGk"
      }
    },
    {
      "cell_type": "code",
      "source": [
        "# download the names.txt file from github\n",
        "!wget https://raw.githubusercontent.com/karpathy/char-rnn/master/data/tinyshakespeare/input.txt\n",
        "\n",
        "# read in all the words\n",
        "text = open('input.txt', 'r').read()\n",
        "\n",
        "text[:800]"
      ],
      "metadata": {
        "colab": {
          "base_uri": "https://localhost:8080/",
          "height": 330
        },
        "id": "Uw1N2UjndEDQ",
        "outputId": "7fba70a1-9152-4184-8958-95d3d15905df"
      },
      "execution_count": null,
      "outputs": [
        {
          "output_type": "stream",
          "name": "stdout",
          "text": [
            "--2023-10-04 02:50:34--  https://raw.githubusercontent.com/karpathy/char-rnn/master/data/tinyshakespeare/input.txt\n",
            "Resolving raw.githubusercontent.com (raw.githubusercontent.com)... 185.199.111.133, 185.199.110.133, 185.199.109.133, ...\n",
            "Connecting to raw.githubusercontent.com (raw.githubusercontent.com)|185.199.111.133|:443... connected.\n",
            "HTTP request sent, awaiting response... 200 OK\n",
            "Length: 1115394 (1.1M) [text/plain]\n",
            "Saving to: ‘input.txt’\n",
            "\n",
            "input.txt           100%[===================>]   1.06M  --.-KB/s    in 0.06s   \n",
            "\n",
            "2023-10-04 02:50:34 (18.1 MB/s) - ‘input.txt’ saved [1115394/1115394]\n",
            "\n"
          ]
        },
        {
          "output_type": "execute_result",
          "data": {
            "text/plain": [
              "\"First Citizen:\\nBefore we proceed any further, hear me speak.\\n\\nAll:\\nSpeak, speak.\\n\\nFirst Citizen:\\nYou are all resolved rather to die than to famish?\\n\\nAll:\\nResolved. resolved.\\n\\nFirst Citizen:\\nFirst, you know Caius Marcius is chief enemy to the people.\\n\\nAll:\\nWe know't, we know't.\\n\\nFirst Citizen:\\nLet us kill him, and we'll have corn at our own price.\\nIs't a verdict?\\n\\nAll:\\nNo more talking on't; let it be done: away, away!\\n\\nSecond Citizen:\\nOne word, good citizens.\\n\\nFirst Citizen:\\nWe are accounted poor citizens, the patricians good.\\nWhat authority surfeits on would relieve us: if they\\nwould yield us but the superfluity, while it were\\nwholesome, we might guess they relieved us humanely;\\nbut they think we are too dear: the leanness that\\nafflicts us, the object of our misery, is as an\\ninventory to p\""
            ],
            "application/vnd.google.colaboratory.intrinsic+json": {
              "type": "string"
            }
          },
          "metadata": {},
          "execution_count": 5
        }
      ]
    },
    {
      "cell_type": "code",
      "source": [
        "print(f'total char # = {len(text)}')"
      ],
      "metadata": {
        "colab": {
          "base_uri": "https://localhost:8080/"
        },
        "id": "Z_Lr-G6NdF62",
        "outputId": "629c3d92-df65-4896-d9f7-0c30e7d655b6"
      },
      "execution_count": null,
      "outputs": [
        {
          "output_type": "stream",
          "name": "stdout",
          "text": [
            "total char # = 1115394\n"
          ]
        }
      ]
    },
    {
      "cell_type": "markdown",
      "source": [
        "# Setup tokenizer"
      ],
      "metadata": {
        "id": "ZFA5J8NjdHj9"
      }
    },
    {
      "cell_type": "code",
      "source": [
        "# Setup tokenizer\n",
        "\n",
        "!pip install tokenizers # Since we are running in colab docker image, install it here.\n",
        "# See https://anaconda.org/conda-forge/tokenizers\n",
        "from tokenizers import Tokenizer\n",
        "\n",
        "tokenizer = Tokenizer.from_pretrained(\"bert-base-cased\")"
      ],
      "metadata": {
        "colab": {
          "base_uri": "https://localhost:8080/",
          "height": 565,
          "referenced_widgets": [
            "7b9e7a9ea06343aba02592e15ecdd32f",
            "0cd068ec768c4b9989edd80f275e4683",
            "65748b6cf5bf40dcafcb85ffbcadf5e2",
            "49ccd0c5e50f46969cb4904405ee76fc",
            "257225e830dd43bd87dc6580efd4abf0",
            "02c7f42485ec49b49375f12e6cde5a08",
            "6016c71ddde3410993dc2ecf9ccc612b",
            "1b6cea71baad4e90b0180cbb9719c7f7",
            "f7b8b196b5b74cee910a7568a3b6dc34",
            "8df58f16a8d446f5a494898ca31aaac0",
            "27ffd9a239344fe1a3ee049c5e0e4669"
          ]
        },
        "id": "JStJ6DOrCIIn",
        "outputId": "ec1fddf0-b7c1-40d1-aee3-bbe8be0fad74"
      },
      "execution_count": null,
      "outputs": [
        {
          "output_type": "stream",
          "name": "stdout",
          "text": [
            "Collecting tokenizers\n",
            "  Downloading tokenizers-0.14.0-cp310-cp310-manylinux_2_17_x86_64.manylinux2014_x86_64.whl (3.8 MB)\n",
            "\u001b[2K     \u001b[90m━━━━━━━━━━━━━━━━━━━━━━━━━━━━━━━━━━━━━━━━\u001b[0m \u001b[32m3.8/3.8 MB\u001b[0m \u001b[31m19.3 MB/s\u001b[0m eta \u001b[36m0:00:00\u001b[0m\n",
            "\u001b[?25hCollecting huggingface_hub<0.17,>=0.16.4 (from tokenizers)\n",
            "  Downloading huggingface_hub-0.16.4-py3-none-any.whl (268 kB)\n",
            "\u001b[2K     \u001b[90m━━━━━━━━━━━━━━━━━━━━━━━━━━━━━━━━━━━━━━\u001b[0m \u001b[32m268.8/268.8 kB\u001b[0m \u001b[31m20.6 MB/s\u001b[0m eta \u001b[36m0:00:00\u001b[0m\n",
            "\u001b[?25hRequirement already satisfied: filelock in /usr/local/lib/python3.10/dist-packages (from huggingface_hub<0.17,>=0.16.4->tokenizers) (3.12.2)\n",
            "Requirement already satisfied: fsspec in /usr/local/lib/python3.10/dist-packages (from huggingface_hub<0.17,>=0.16.4->tokenizers) (2023.6.0)\n",
            "Requirement already satisfied: requests in /usr/local/lib/python3.10/dist-packages (from huggingface_hub<0.17,>=0.16.4->tokenizers) (2.27.1)\n",
            "Requirement already satisfied: tqdm>=4.42.1 in /usr/local/lib/python3.10/dist-packages (from huggingface_hub<0.17,>=0.16.4->tokenizers) (4.65.0)\n",
            "Requirement already satisfied: pyyaml>=5.1 in /usr/local/lib/python3.10/dist-packages (from huggingface_hub<0.17,>=0.16.4->tokenizers) (6.0.1)\n",
            "Requirement already satisfied: typing-extensions>=3.7.4.3 in /usr/local/lib/python3.10/dist-packages (from huggingface_hub<0.17,>=0.16.4->tokenizers) (4.7.1)\n",
            "Requirement already satisfied: packaging>=20.9 in /usr/local/lib/python3.10/dist-packages (from huggingface_hub<0.17,>=0.16.4->tokenizers) (23.1)\n",
            "Requirement already satisfied: urllib3<1.27,>=1.21.1 in /usr/local/lib/python3.10/dist-packages (from requests->huggingface_hub<0.17,>=0.16.4->tokenizers) (1.26.16)\n",
            "Requirement already satisfied: certifi>=2017.4.17 in /usr/local/lib/python3.10/dist-packages (from requests->huggingface_hub<0.17,>=0.16.4->tokenizers) (2023.7.22)\n",
            "Requirement already satisfied: charset-normalizer~=2.0.0 in /usr/local/lib/python3.10/dist-packages (from requests->huggingface_hub<0.17,>=0.16.4->tokenizers) (2.0.12)\n",
            "Requirement already satisfied: idna<4,>=2.5 in /usr/local/lib/python3.10/dist-packages (from requests->huggingface_hub<0.17,>=0.16.4->tokenizers) (3.4)\n",
            "Installing collected packages: huggingface_hub, tokenizers\n",
            "  Attempting uninstall: huggingface_hub\n",
            "    Found existing installation: huggingface-hub 0.17.3\n",
            "    Uninstalling huggingface-hub-0.17.3:\n",
            "      Successfully uninstalled huggingface-hub-0.17.3\n",
            "Successfully installed huggingface_hub-0.16.4 tokenizers-0.14.0\n"
          ]
        },
        {
          "output_type": "display_data",
          "data": {
            "application/vnd.colab-display-data+json": {
              "pip_warning": {
                "packages": [
                  "huggingface_hub"
                ]
              }
            }
          },
          "metadata": {}
        },
        {
          "output_type": "display_data",
          "data": {
            "text/plain": [
              "Downloading (…)/main/tokenizer.json:   0%|          | 0.00/436k [00:00<?, ?B/s]"
            ],
            "application/vnd.jupyter.widget-view+json": {
              "version_major": 2,
              "version_minor": 0,
              "model_id": "7b9e7a9ea06343aba02592e15ecdd32f"
            }
          },
          "metadata": {}
        }
      ]
    },
    {
      "cell_type": "code",
      "source": [
        "test = tokenizer.encode(\"I can feel the magic, can you, what's that bro?\")\n",
        "\n",
        "test.ids, test.type_ids, test.tokens, test.offsets\n",
        "\n",
        "# testto"
      ],
      "metadata": {
        "colab": {
          "base_uri": "https://localhost:8080/"
        },
        "id": "bLfEt32uC6Qn",
        "outputId": "f3df1e25-de3e-47a8-cc14-9d5ddb7b7412"
      },
      "execution_count": null,
      "outputs": [
        {
          "output_type": "execute_result",
          "data": {
            "text/plain": [
              "([101,\n",
              "  146,\n",
              "  1169,\n",
              "  1631,\n",
              "  1103,\n",
              "  3974,\n",
              "  117,\n",
              "  1169,\n",
              "  1128,\n",
              "  117,\n",
              "  1184,\n",
              "  112,\n",
              "  188,\n",
              "  1115,\n",
              "  9304,\n",
              "  1186,\n",
              "  136,\n",
              "  102],\n",
              " [0, 0, 0, 0, 0, 0, 0, 0, 0, 0, 0, 0, 0, 0, 0, 0, 0, 0],\n",
              " ['[CLS]',\n",
              "  'I',\n",
              "  'can',\n",
              "  'feel',\n",
              "  'the',\n",
              "  'magic',\n",
              "  ',',\n",
              "  'can',\n",
              "  'you',\n",
              "  ',',\n",
              "  'what',\n",
              "  \"'\",\n",
              "  's',\n",
              "  'that',\n",
              "  'br',\n",
              "  '##o',\n",
              "  '?',\n",
              "  '[SEP]'],\n",
              " [(0, 0),\n",
              "  (0, 1),\n",
              "  (2, 5),\n",
              "  (6, 10),\n",
              "  (11, 14),\n",
              "  (15, 20),\n",
              "  (20, 21),\n",
              "  (22, 25),\n",
              "  (26, 29),\n",
              "  (29, 30),\n",
              "  (31, 35),\n",
              "  (35, 36),\n",
              "  (36, 37),\n",
              "  (38, 42),\n",
              "  (43, 45),\n",
              "  (45, 46),\n",
              "  (46, 47),\n",
              "  (0, 0)])"
            ]
          },
          "metadata": {},
          "execution_count": 10
        }
      ]
    },
    {
      "cell_type": "code",
      "source": [
        "vocab_size = tokenizer.get_vocab_size()\n",
        "print(f'{vocab_size=}')"
      ],
      "metadata": {
        "colab": {
          "base_uri": "https://localhost:8080/"
        },
        "id": "5OkzEoS1DKxN",
        "outputId": "42a826ee-9058-40cc-da6b-580a19e2f196"
      },
      "execution_count": null,
      "outputs": [
        {
          "output_type": "stream",
          "name": "stdout",
          "text": [
            "vocab_size=28996\n"
          ]
        }
      ]
    },
    {
      "cell_type": "code",
      "source": [
        "# str ---> list of integer\n",
        "# encode = tokenizer.encode\n",
        "encode = lambda str: tokenizer.encode(str).ids\n",
        "\n",
        "# list of integer ---> str\n",
        "decode = tokenizer.decode\n",
        "\n",
        "_test_str = \"adb dfd \\nplace\"\n",
        "\n",
        "# TODO: this fails  because the tokenizer's encoding result doesn't include \"\\n\"\n",
        "# assert _test_str == decode(encode(_test_str).ids)"
      ],
      "metadata": {
        "id": "_wjY-ZmAK_Mt"
      },
      "execution_count": null,
      "outputs": []
    },
    {
      "cell_type": "markdown",
      "source": [
        "# Create DS"
      ],
      "metadata": {
        "id": "tnC-XqfXdKoB"
      }
    },
    {
      "cell_type": "code",
      "source": [
        "n1 = int(len(text) * 0.9)\n",
        "train_data = encode(text[:n1])\n",
        "dev_data = encode(text[n1:])\n",
        "\n",
        "print(f'{len(train_data)=}, {len(dev_data)=}')"
      ],
      "metadata": {
        "colab": {
          "base_uri": "https://localhost:8080/"
        },
        "id": "3vU05Ihvwl_b",
        "outputId": "955aa816-7ce0-46b7-dbe0-6b9c1672c560"
      },
      "execution_count": null,
      "outputs": [
        {
          "output_type": "stream",
          "name": "stdout",
          "text": [
            "len(train_data)=283186, len(dev_data)=33357\n"
          ]
        }
      ]
    },
    {
      "cell_type": "code",
      "source": [
        "def get_batch(data, batch_size: int, block_size: int):\n",
        "  \"\"\" Sample a batch using Causal style. \"\"\"\n",
        "  x_list = []\n",
        "  y_list = []\n",
        "  ix = torch.randint(0, len(data)-block_size, (batch_size,), generator=g_cpu)\n",
        "  X = torch.stack([torch.tensor(data[i:i+block_size]) for i in ix]).to(device)\n",
        "  Y = torch.stack([torch.tensor(data[i+1:i+1+block_size]) for i in ix]).to(device)\n",
        "  return X, Y"
      ],
      "metadata": {
        "id": "eWvuZyaOwXai"
      },
      "execution_count": null,
      "outputs": []
    },
    {
      "cell_type": "code",
      "source": [
        "X, Y = get_batch(train_data, 16, BLOCK_SIZE)\n",
        "\n",
        "for b in range(3):\n",
        "  it = 0\n",
        "  for t in range(X.shape[1]):\n",
        "    print(f'{decode(X[b, :t+1].tolist())} ---> {decode([Y[b, t].item()])}')\n",
        "    it += 1\n",
        "    if it > 7:\n",
        "      break"
      ],
      "metadata": {
        "colab": {
          "base_uri": "https://localhost:8080/"
        },
        "id": "F2EL4GRCyDcr",
        "outputId": "16782fc6-e10a-4eb0-967c-ea7a205044c4"
      },
      "execution_count": null,
      "outputs": [
        {
          "output_type": "stream",
          "name": "stdout",
          "text": [
            "King ---> .\n",
            "King. ---> '\n",
            "King. ' ---> My\n",
            "King. ' My ---> dangerous\n",
            "King. ' My dangerous ---> cousin\n",
            "King. ' My dangerous cousin ---> ,\n",
            "King. ' My dangerous cousin, ---> let\n",
            "King. ' My dangerous cousin, let ---> your\n",
            "dear ---> dear\n",
            "dear dear ---> lord\n",
            "dear dear lord ---> ,\n",
            "dear dear lord, ---> The\n",
            "dear dear lord, The ---> pure\n",
            "dear dear lord, The pure ---> ##st\n",
            "dear dear lord, The purest ---> treasure\n",
            "dear dear lord, The purest treasure ---> mortal\n",
            "as ---> I\n",
            "as I ---> guess\n",
            "as I guess ---> ,\n",
            "as I guess, ---> To\n",
            "as I guess, To ---> make\n",
            "as I guess, To make ---> a\n",
            "as I guess, To make a ---> bloody\n",
            "as I guess, To make a bloody ---> supper\n"
          ]
        }
      ]
    },
    {
      "cell_type": "markdown",
      "source": [
        "# Modeling"
      ],
      "metadata": {
        "id": "bm2SpJ6CfOHE"
      }
    },
    {
      "cell_type": "code",
      "source": [
        "n_embd = 768 # the dimensionality of the character embedding vectors\n",
        "d_head = 2 * n_embd # the dim of the transformer's head\n",
        "N_HIDDEN = n_embd * 4 # the number of neurons in the hidden layer of the MLP\n",
        "g = torch.Generator().manual_seed(2147483647) # for reproducibility"
      ],
      "metadata": {
        "id": "lAE6DUi2qcNO"
      },
      "execution_count": null,
      "outputs": []
    },
    {
      "cell_type": "markdown",
      "source": [
        "## Model class"
      ],
      "metadata": {
        "id": "o2LWaIYbri0V"
      }
    },
    {
      "cell_type": "code",
      "source": [
        "class LayerNorm(torch.nn.Module):\n",
        "  \"\"\" LayerNorm but with an optional bias. PyTorch doesn't support simply bias=False \"\"\"\n",
        "\n",
        "  def __init__(self, ndim: int, bias: bool):\n",
        "    super().__init__()\n",
        "    self.weight = torch.nn.Parameter(torch.ones(ndim))\n",
        "    self.bias = torch.nn.Parameter(torch.zeros(ndim)) if bias else None\n",
        "\n",
        "  def forward(self, x):\n",
        "    return F.layer_norm(x, self.weight.shape, self.weight, self.bias, 1e-5)"
      ],
      "metadata": {
        "id": "R-mApi-YzvvD"
      },
      "execution_count": null,
      "outputs": []
    },
    {
      "cell_type": "code",
      "source": [
        "class AttentionBlock(torch.nn.Module):\n",
        "\n",
        "  def __init__(self, vocab_size, d_in, d_hidden, d_head):\n",
        "    \"\"\"\n",
        "    Args:\n",
        "      vocab_size: volabulary size\n",
        "      d_in: dim of input. If this is the immediate next layer of the token\n",
        "        embedding layer, this is the dim of the embedding for a token.\n",
        "      d_hidden: dim of hidden FFN layers\n",
        "      d_head: dim of the transformer head\n",
        "    \"\"\"\n",
        "    super().__init__()\n",
        "\n",
        "    self.d_head = d_head\n",
        "    self.key1 = torch.nn.Linear(d_in, d_head, bias=False)\n",
        "    self.query1 = torch.nn.Linear(d_in, d_head, bias=False)\n",
        "    self.value1 = torch.nn.Linear(d_in, d_head, bias=False)\n",
        "\n",
        "    self.linear1 = torch.nn.Linear(d_head, d_hidden, bias=True)\n",
        "    self.tanh1 = torch.nn.Tanh()\n",
        "    # Project d_hidden back to d_head as output\n",
        "    self.proj = torch.nn.Linear(d_hidden, d_head, bias=True)\n",
        "\n",
        "    self.ln1 = LayerNorm(d_in, bias=True)\n",
        "    self.ln2 = LayerNorm(d_head, bias=True)\n",
        "\n",
        "  def forward(self, x):\n",
        "    \"\"\"\n",
        "    Args:\n",
        "      x: (B, T, C). The input to the model.\n",
        "    Returns:\n",
        "      loss: int\n",
        "      logits: (B, T, C)\n",
        "    \"\"\"\n",
        "\n",
        "    T = x.shape[-2]\n",
        "    tril = torch.tril(torch.ones(T, T)).to(device)\n",
        "\n",
        "    x = self.ln1(x)\n",
        "\n",
        "    k = self.key1(x)  # (B, T, d_head)\n",
        "    q = self.query1(x) # (B, T, d_head)\n",
        "    wei = k @ q.transpose(-2, -1) # (B, T, d_head) @ (B, d_head, T) = (B, T, T)\n",
        "    wei = wei.masked_fill(tril==0, -float('inf')) # (B, T, T)\n",
        "    wei = wei * self.d_head**-0.5\n",
        "    wei = F.softmax(wei, dim=-1) # (B, T, T)\n",
        "\n",
        "    v = self.value1(x) # (B, T, d_head)\n",
        "    # This makes the y[:,t,:], to have the information of the embedding (v)\n",
        "    # v[:, u (u<=t), :], but not have the infomration of v[:, w (w>t), :]\n",
        "    #\n",
        "    # 1. Spread v's information at all t to y[:, any t, :]\n",
        "    #\n",
        "    # Because v is on rhs of @, its information at different T are spread out to\n",
        "    # the different T in y\n",
        "    #\n",
        "    # Think about (T, T) @ (T, d_head) = (T, d_head)\n",
        "    #\n",
        "    # a11, a12     b1   a11*b1+a12*b2\n",
        "    # a21, a22  @  b2 = a21*b1+a22*b2\n",
        "    #\n",
        "    # In the result, at T=1, it has b1 and b2, which are the rhs of @'s info at\n",
        "    # different T\n",
        "    #\n",
        "    # 2. Limit y[:, t, :] to not access v[:, w (w>t), :].\n",
        "    #\n",
        "    # This is done by `tril`\n",
        "    y = wei @ v # (B, T, d_head)\n",
        "\n",
        "    y = self.ln2(y)\n",
        "\n",
        "    # It doesn't need tril here, because the lhs and rhs doesn't exchange\n",
        "    # information at different T.\n",
        "    #\n",
        "    # Let's say:\n",
        "    # - input is y (B, T, d_head)\n",
        "    # - Linear(d_in, d_out) is a matrix l(d_in, d_out), here dim is l(d_head, d_hidden)\n",
        "    # - result is z (B, T, d_hidden)\n",
        "    #\n",
        "    # linear(y) = y @ l = z\n",
        "    #\n",
        "    # To simplify, ignore B, T=3, d_head=2, d_hidden=1\n",
        "    #\n",
        "    #         y11 y12         y11*l1+y12*l2\n",
        "    # y @ l = y21 y22 @ l1  = y21*l1+y22*l2\n",
        "    #         y31 y32   l2    y31*l1+y32*l2\n",
        "    #\n",
        "    # We can see z[:, T, :] only contains y[:, T, :]'s info\n",
        "    #\n",
        "    # To summarize this and the previous section\n",
        "    #\n",
        "    # Z = X @ Y\n",
        "    #\n",
        "    # Z[T, :] only contains X[T, :]'s info, doesn't contain X[S != T, :]'s infor\n",
        "    # Z[T, :] contains Y[at any index, :]'s info\n",
        "    y = self.linear1(y) # (B, T, d_hidden)\n",
        "    y = self.tanh1(y) # (B, T, d_hidden)\n",
        "    y = self.proj(y) # (B, T, d_head)\n",
        "\n",
        "    return y\n",
        "\n",
        "  def generate(self, idx, max_new_tokens: int):\n",
        "    \"\"\"Generate new tokens given idx as context.\n",
        "\n",
        "    Args:\n",
        "      idx: (B, T)\n",
        "      max_new_tokens: number of new tokens to generate\n",
        "\n",
        "    Returns:\n",
        "      (B,T+max_new_tokens)\n",
        "    \"\"\"\n",
        "    for _ in range(max_new_tokens):\n",
        "      logits, loss = self(idx, targets=None)  # logits: (B, T, vocab_size), loss: None\n",
        "      logits = logits[:, -1, :] # (B, vocab_size)\n",
        "      prob = F.softmax(logits, dim=1) # (B, vocab_size)\n",
        "      idx_next = torch.multinomial(prob, num_samples=1, replacement=False)  # (B, 1)\n",
        "      idx = torch.cat((idx, idx_next), dim=1)\n",
        "\n",
        "    return idx"
      ],
      "metadata": {
        "id": "LT6iVQP14kXa"
      },
      "execution_count": null,
      "outputs": []
    },
    {
      "cell_type": "code",
      "source": [
        "class Net(torch.nn.Module):\n",
        "\n",
        "  def __init__(self, vocab_size, d_embd, d_hidden, d_head):\n",
        "    \"\"\"\n",
        "    Args:\n",
        "      vocab_size: volabulary size\n",
        "      d_embd: dim of embedding for the token\n",
        "      d_hidden: dim of hidden FFN layers\n",
        "      d_head: dim of the transformer head\n",
        "    \"\"\"\n",
        "    super().__init__()\n",
        "\n",
        "    self.d_head = d_head\n",
        "\n",
        "    self.embd = torch.nn.Embedding(\n",
        "        num_embeddings=vocab_size,\n",
        "        embedding_dim=d_embd\n",
        "    )\n",
        "    self.attn1 = AttentionBlock(vocab_size, d_embd, d_hidden, d_head)\n",
        "    self.attn2 = AttentionBlock(vocab_size, d_head, d_hidden, d_head)\n",
        "    self.linear_logit = torch.nn.Linear(d_head, vocab_size, bias=True)\n",
        "\n",
        "\n",
        "  def forward(self, x, targets=None):\n",
        "    \"\"\"\n",
        "    Args:\n",
        "      x: (B, T). The input to the model.\n",
        "      targets: (B, T). When it is not None, the func calculates and return the\n",
        "        loss in additional to other returned item(s)\n",
        "    Returns:\n",
        "      loss: int\n",
        "      logits: (B, T, C)\n",
        "    \"\"\"\n",
        "\n",
        "    T = x.shape[-1]\n",
        "    tril = torch.tril(torch.ones(T, T)).to(device)\n",
        "\n",
        "    xemb = self.embd(x) # (B, T, C)\n",
        "\n",
        "    y = self.attn1(xemb)\n",
        "    y = self.attn2(y)\n",
        "\n",
        "    logits = self.linear_logit(y) # (B, T, vocab_size)\n",
        "    logits = logits.view(-1, logits.shape[-1]) # (B, T, vocab_size)\n",
        "\n",
        "    if targets is None:\n",
        "      loss = None\n",
        "    else:\n",
        "      loss = F.cross_entropy(logits, targets.view(-1))\n",
        "\n",
        "    return logits.view(-1, T, logits.shape[1]), loss\n",
        "\n",
        "  def generate(self, idx, max_new_tokens: int):\n",
        "    \"\"\"Generate new tokens given idx as context.\n",
        "\n",
        "    Args:\n",
        "      idx: (B, T)\n",
        "      max_new_tokens: number of new tokens to generate\n",
        "\n",
        "    Returns:\n",
        "      (B, T+max_new_tokens)\n",
        "    \"\"\"\n",
        "    for _ in range(max_new_tokens):\n",
        "      logits, loss = self(idx, targets=None)  # logits: (B, T, vocab_size), loss: None\n",
        "      logits = logits[:, -1, :] # (B, vocab_size)\n",
        "      prob = F.softmax(logits, dim=1) # (B, vocab_size)\n",
        "      idx_next = torch.multinomial(prob, num_samples=1, replacement=False)  # (B, 1)\n",
        "      idx = torch.cat((idx, idx_next), dim=1)\n",
        "\n",
        "    return idx\n",
        "\n",
        "net = Net(vocab_size, d_embd=n_embd, d_hidden=N_HIDDEN, d_head=N_HIDDEN).to(device)"
      ],
      "metadata": {
        "id": "6QusOiY5HEBH"
      },
      "execution_count": null,
      "outputs": []
    },
    {
      "cell_type": "code",
      "source": [
        "_total_params = 0\n",
        "\n",
        "for p in net.parameters():\n",
        "  _total_params += p.nelement()\n",
        "\n",
        "print(f'Total params = {_total_params}')"
      ],
      "metadata": {
        "colab": {
          "base_uri": "https://localhost:8080/"
        },
        "id": "0eMi8TezrkY4",
        "outputId": "b772b1d3-3ffd-4d83-d11c-660965f47331"
      },
      "execution_count": null,
      "outputs": [
        {
          "output_type": "stream",
          "name": "stdout",
          "text": [
            "Total params = 184544068\n"
          ]
        }
      ]
    },
    {
      "cell_type": "markdown",
      "source": [
        "## Define optimizer"
      ],
      "metadata": {
        "id": "m04BZ-9f26w7"
      }
    },
    {
      "cell_type": "code",
      "source": [
        "import torch.optim as optim\n",
        "\n",
        "optimizer = optim.SGD(net.parameters(), lr=0.001, momentum=0.9)\n",
        "# optimizer = optim.Adam(net.parameters(), lr=0.001)"
      ],
      "metadata": {
        "id": "5xJsIU2z28us"
      },
      "execution_count": null,
      "outputs": []
    },
    {
      "cell_type": "markdown",
      "source": [
        "# Train"
      ],
      "metadata": {
        "id": "5ObPwkVj3MFc"
      }
    },
    {
      "cell_type": "code",
      "source": [
        "max_steps = 700000\n",
        "batch_size = 16\n",
        "lossi = []\n",
        "lossi_dev = []\n",
        "ud = []\n",
        "log_interval = 50\n",
        "\n",
        "running_loss = 0.0\n",
        "running_loss_dev = 0.0\n",
        "running_loss_steps = 0\n",
        "\n",
        "for i in range(max_steps):\n",
        "\n",
        "  # Forward\n",
        "  Xb, Yb = get_batch(train_data, batch_size, BLOCK_SIZE)\n",
        "  optimizer.zero_grad()\n",
        "  logits, loss = net(Xb, targets=Yb)\n",
        "\n",
        "  # Loss\n",
        "  # print(f'{outputs.shape=}, {Yb.shape=}')\n",
        "  running_loss += loss.item()\n",
        "  running_loss_steps += 1\n",
        "\n",
        "  # Eval dev DS\n",
        "  Xb_dev, Yb_dev = get_batch(dev_data, batch_size, BLOCK_SIZE)\n",
        "  logits_dev, loss_dev = net(Xb_dev, targets=Yb_dev)\n",
        "  running_loss_dev += loss_dev.item()\n",
        "\n",
        "  # Update\n",
        "  loss.backward()\n",
        "  optimizer.step()\n",
        "\n",
        "  # Track status\n",
        "  if i % log_interval == 0:\n",
        "    print(f'{i}/{max_steps}: training loss={running_loss/running_loss_steps:.4f}, dev loss={running_loss_dev/running_loss_steps:.4f}')\n",
        "    running_loss = 0.0\n",
        "    running_loss_dev = 0.0\n",
        "    running_loss_steps = 0\n",
        "\n",
        "  lossi.append(loss.log10().item())\n",
        "  lossi_dev.append(loss_dev.log10().item())"
      ],
      "metadata": {
        "id": "3BtGf_U93M9V",
        "colab": {
          "base_uri": "https://localhost:8080/",
          "height": 263
        },
        "outputId": "72a6ee8a-09d1-4396-91a9-0767bdaa90cf"
      },
      "execution_count": null,
      "outputs": [
        {
          "output_type": "stream",
          "name": "stdout",
          "text": [
            "0/700000: training loss=10.2854, dev loss=10.2809\n",
            "50/700000: training loss=9.7595, dev loss=9.7416\n"
          ]
        },
        {
          "output_type": "error",
          "ename": "KeyboardInterrupt",
          "evalue": "ignored",
          "traceback": [
            "\u001b[0;31m---------------------------------------------------------------------------\u001b[0m",
            "\u001b[0;31mKeyboardInterrupt\u001b[0m                         Traceback (most recent call last)",
            "\u001b[0;32m<ipython-input-22-0ba235989465>\u001b[0m in \u001b[0;36m<cell line: 12>\u001b[0;34m()\u001b[0m\n\u001b[1;32m     38\u001b[0m     \u001b[0mrunning_loss_steps\u001b[0m \u001b[0;34m=\u001b[0m \u001b[0;36m0\u001b[0m\u001b[0;34m\u001b[0m\u001b[0;34m\u001b[0m\u001b[0m\n\u001b[1;32m     39\u001b[0m \u001b[0;34m\u001b[0m\u001b[0m\n\u001b[0;32m---> 40\u001b[0;31m   \u001b[0mlossi\u001b[0m\u001b[0;34m.\u001b[0m\u001b[0mappend\u001b[0m\u001b[0;34m(\u001b[0m\u001b[0mloss\u001b[0m\u001b[0;34m.\u001b[0m\u001b[0mlog10\u001b[0m\u001b[0;34m(\u001b[0m\u001b[0;34m)\u001b[0m\u001b[0;34m.\u001b[0m\u001b[0mitem\u001b[0m\u001b[0;34m(\u001b[0m\u001b[0;34m)\u001b[0m\u001b[0;34m)\u001b[0m\u001b[0;34m\u001b[0m\u001b[0;34m\u001b[0m\u001b[0m\n\u001b[0m\u001b[1;32m     41\u001b[0m   \u001b[0mlossi_dev\u001b[0m\u001b[0;34m.\u001b[0m\u001b[0mappend\u001b[0m\u001b[0;34m(\u001b[0m\u001b[0mloss_dev\u001b[0m\u001b[0;34m.\u001b[0m\u001b[0mlog10\u001b[0m\u001b[0;34m(\u001b[0m\u001b[0;34m)\u001b[0m\u001b[0;34m.\u001b[0m\u001b[0mitem\u001b[0m\u001b[0;34m(\u001b[0m\u001b[0;34m)\u001b[0m\u001b[0;34m)\u001b[0m\u001b[0;34m\u001b[0m\u001b[0;34m\u001b[0m\u001b[0m\n",
            "\u001b[0;31mKeyboardInterrupt\u001b[0m: "
          ]
        }
      ]
    },
    {
      "cell_type": "code",
      "source": [
        "plt.plot(lossi)"
      ],
      "metadata": {
        "id": "jjTgq78BCCRd"
      },
      "execution_count": null,
      "outputs": []
    },
    {
      "cell_type": "code",
      "source": [
        "plt.plot(lossi_dev)"
      ],
      "metadata": {
        "id": "c6QgPaXDCHha"
      },
      "execution_count": null,
      "outputs": []
    },
    {
      "cell_type": "code",
      "source": [
        "torch.cuda.empty_cache()"
      ],
      "metadata": {
        "id": "fY3YqGX2TMmv"
      },
      "execution_count": null,
      "outputs": []
    },
    {
      "cell_type": "markdown",
      "source": [
        "# Sample the model"
      ],
      "metadata": {
        "id": "7kTWwn5Q8x4b"
      }
    },
    {
      "cell_type": "code",
      "source": [
        "g_gpu = torch.Generator(device=device).manual_seed(2147483647) # for reproducibility\n",
        "\n",
        "# 0, which is new line char, is a reasonable start (seed) char\n",
        "idx = torch.tensor([[0]]).to(device)\n",
        "new_idx = net.generate(idx, BLOCK_SIZE * 2)\n",
        "\n",
        "print(decode(new_idx.view(-1).tolist()))"
      ],
      "metadata": {
        "id": "CGiFf5b280CQ"
      },
      "execution_count": null,
      "outputs": []
    }
  ]
}