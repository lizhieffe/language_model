{
  "nbformat": 4,
  "nbformat_minor": 0,
  "metadata": {
    "colab": {
      "provenance": [],
      "authorship_tag": "ABX9TyOwalfw21dhT5qhGCO2nSDv",
      "include_colab_link": true
    },
    "kernelspec": {
      "name": "python3",
      "display_name": "Python 3"
    },
    "language_info": {
      "name": "python"
    },
    "widgets": {
      "application/vnd.jupyter.widget-state+json": {
        "ab412efd05c84d7a86e47061ba1f2e37": {
          "model_module": "@jupyter-widgets/controls",
          "model_name": "HBoxModel",
          "model_module_version": "1.5.0",
          "state": {
            "_dom_classes": [],
            "_model_module": "@jupyter-widgets/controls",
            "_model_module_version": "1.5.0",
            "_model_name": "HBoxModel",
            "_view_count": null,
            "_view_module": "@jupyter-widgets/controls",
            "_view_module_version": "1.5.0",
            "_view_name": "HBoxView",
            "box_style": "",
            "children": [
              "IPY_MODEL_b4b4c2bc43d948549c49d005c7bcfca0",
              "IPY_MODEL_02e91acd96b040ef9c8f75be9bf97335",
              "IPY_MODEL_bb895e7e069649f7a0bdb834a6386500"
            ],
            "layout": "IPY_MODEL_802b14db17b2414b8818855df510bd9f"
          }
        },
        "b4b4c2bc43d948549c49d005c7bcfca0": {
          "model_module": "@jupyter-widgets/controls",
          "model_name": "HTMLModel",
          "model_module_version": "1.5.0",
          "state": {
            "_dom_classes": [],
            "_model_module": "@jupyter-widgets/controls",
            "_model_module_version": "1.5.0",
            "_model_name": "HTMLModel",
            "_view_count": null,
            "_view_module": "@jupyter-widgets/controls",
            "_view_module_version": "1.5.0",
            "_view_name": "HTMLView",
            "description": "",
            "description_tooltip": null,
            "layout": "IPY_MODEL_48e92bc1fe2e4d6f8b5553e957d0464b",
            "placeholder": "​",
            "style": "IPY_MODEL_74a88d61245540c790cbd2b9c5e9ade7",
            "value": "100%"
          }
        },
        "02e91acd96b040ef9c8f75be9bf97335": {
          "model_module": "@jupyter-widgets/controls",
          "model_name": "FloatProgressModel",
          "model_module_version": "1.5.0",
          "state": {
            "_dom_classes": [],
            "_model_module": "@jupyter-widgets/controls",
            "_model_module_version": "1.5.0",
            "_model_name": "FloatProgressModel",
            "_view_count": null,
            "_view_module": "@jupyter-widgets/controls",
            "_view_module_version": "1.5.0",
            "_view_name": "ProgressView",
            "bar_style": "success",
            "description": "",
            "description_tooltip": null,
            "layout": "IPY_MODEL_eab472158880440f98433095cfda898f",
            "max": 491161,
            "min": 0,
            "orientation": "horizontal",
            "style": "IPY_MODEL_cb496e42d1be418dae0f13f0977eebd5",
            "value": 491161
          }
        },
        "bb895e7e069649f7a0bdb834a6386500": {
          "model_module": "@jupyter-widgets/controls",
          "model_name": "HTMLModel",
          "model_module_version": "1.5.0",
          "state": {
            "_dom_classes": [],
            "_model_module": "@jupyter-widgets/controls",
            "_model_module_version": "1.5.0",
            "_model_name": "HTMLModel",
            "_view_count": null,
            "_view_module": "@jupyter-widgets/controls",
            "_view_module_version": "1.5.0",
            "_view_name": "HTMLView",
            "description": "",
            "description_tooltip": null,
            "layout": "IPY_MODEL_fcd3bc118e734c2897d550c7ab8b0be8",
            "placeholder": "​",
            "style": "IPY_MODEL_d9f16d0afc8a40faa7dcf11cb89daaa4",
            "value": " 491161/491161 [00:13&lt;00:00, 36698.47it/s]"
          }
        },
        "802b14db17b2414b8818855df510bd9f": {
          "model_module": "@jupyter-widgets/base",
          "model_name": "LayoutModel",
          "model_module_version": "1.2.0",
          "state": {
            "_model_module": "@jupyter-widgets/base",
            "_model_module_version": "1.2.0",
            "_model_name": "LayoutModel",
            "_view_count": null,
            "_view_module": "@jupyter-widgets/base",
            "_view_module_version": "1.2.0",
            "_view_name": "LayoutView",
            "align_content": null,
            "align_items": null,
            "align_self": null,
            "border": null,
            "bottom": null,
            "display": null,
            "flex": null,
            "flex_flow": null,
            "grid_area": null,
            "grid_auto_columns": null,
            "grid_auto_flow": null,
            "grid_auto_rows": null,
            "grid_column": null,
            "grid_gap": null,
            "grid_row": null,
            "grid_template_areas": null,
            "grid_template_columns": null,
            "grid_template_rows": null,
            "height": null,
            "justify_content": null,
            "justify_items": null,
            "left": null,
            "margin": null,
            "max_height": null,
            "max_width": null,
            "min_height": null,
            "min_width": null,
            "object_fit": null,
            "object_position": null,
            "order": null,
            "overflow": null,
            "overflow_x": null,
            "overflow_y": null,
            "padding": null,
            "right": null,
            "top": null,
            "visibility": null,
            "width": null
          }
        },
        "48e92bc1fe2e4d6f8b5553e957d0464b": {
          "model_module": "@jupyter-widgets/base",
          "model_name": "LayoutModel",
          "model_module_version": "1.2.0",
          "state": {
            "_model_module": "@jupyter-widgets/base",
            "_model_module_version": "1.2.0",
            "_model_name": "LayoutModel",
            "_view_count": null,
            "_view_module": "@jupyter-widgets/base",
            "_view_module_version": "1.2.0",
            "_view_name": "LayoutView",
            "align_content": null,
            "align_items": null,
            "align_self": null,
            "border": null,
            "bottom": null,
            "display": null,
            "flex": null,
            "flex_flow": null,
            "grid_area": null,
            "grid_auto_columns": null,
            "grid_auto_flow": null,
            "grid_auto_rows": null,
            "grid_column": null,
            "grid_gap": null,
            "grid_row": null,
            "grid_template_areas": null,
            "grid_template_columns": null,
            "grid_template_rows": null,
            "height": null,
            "justify_content": null,
            "justify_items": null,
            "left": null,
            "margin": null,
            "max_height": null,
            "max_width": null,
            "min_height": null,
            "min_width": null,
            "object_fit": null,
            "object_position": null,
            "order": null,
            "overflow": null,
            "overflow_x": null,
            "overflow_y": null,
            "padding": null,
            "right": null,
            "top": null,
            "visibility": null,
            "width": null
          }
        },
        "74a88d61245540c790cbd2b9c5e9ade7": {
          "model_module": "@jupyter-widgets/controls",
          "model_name": "DescriptionStyleModel",
          "model_module_version": "1.5.0",
          "state": {
            "_model_module": "@jupyter-widgets/controls",
            "_model_module_version": "1.5.0",
            "_model_name": "DescriptionStyleModel",
            "_view_count": null,
            "_view_module": "@jupyter-widgets/base",
            "_view_module_version": "1.2.0",
            "_view_name": "StyleView",
            "description_width": ""
          }
        },
        "eab472158880440f98433095cfda898f": {
          "model_module": "@jupyter-widgets/base",
          "model_name": "LayoutModel",
          "model_module_version": "1.2.0",
          "state": {
            "_model_module": "@jupyter-widgets/base",
            "_model_module_version": "1.2.0",
            "_model_name": "LayoutModel",
            "_view_count": null,
            "_view_module": "@jupyter-widgets/base",
            "_view_module_version": "1.2.0",
            "_view_name": "LayoutView",
            "align_content": null,
            "align_items": null,
            "align_self": null,
            "border": null,
            "bottom": null,
            "display": null,
            "flex": null,
            "flex_flow": null,
            "grid_area": null,
            "grid_auto_columns": null,
            "grid_auto_flow": null,
            "grid_auto_rows": null,
            "grid_column": null,
            "grid_gap": null,
            "grid_row": null,
            "grid_template_areas": null,
            "grid_template_columns": null,
            "grid_template_rows": null,
            "height": null,
            "justify_content": null,
            "justify_items": null,
            "left": null,
            "margin": null,
            "max_height": null,
            "max_width": null,
            "min_height": null,
            "min_width": null,
            "object_fit": null,
            "object_position": null,
            "order": null,
            "overflow": null,
            "overflow_x": null,
            "overflow_y": null,
            "padding": null,
            "right": null,
            "top": null,
            "visibility": null,
            "width": null
          }
        },
        "cb496e42d1be418dae0f13f0977eebd5": {
          "model_module": "@jupyter-widgets/controls",
          "model_name": "ProgressStyleModel",
          "model_module_version": "1.5.0",
          "state": {
            "_model_module": "@jupyter-widgets/controls",
            "_model_module_version": "1.5.0",
            "_model_name": "ProgressStyleModel",
            "_view_count": null,
            "_view_module": "@jupyter-widgets/base",
            "_view_module_version": "1.2.0",
            "_view_name": "StyleView",
            "bar_color": null,
            "description_width": ""
          }
        },
        "fcd3bc118e734c2897d550c7ab8b0be8": {
          "model_module": "@jupyter-widgets/base",
          "model_name": "LayoutModel",
          "model_module_version": "1.2.0",
          "state": {
            "_model_module": "@jupyter-widgets/base",
            "_model_module_version": "1.2.0",
            "_model_name": "LayoutModel",
            "_view_count": null,
            "_view_module": "@jupyter-widgets/base",
            "_view_module_version": "1.2.0",
            "_view_name": "LayoutView",
            "align_content": null,
            "align_items": null,
            "align_self": null,
            "border": null,
            "bottom": null,
            "display": null,
            "flex": null,
            "flex_flow": null,
            "grid_area": null,
            "grid_auto_columns": null,
            "grid_auto_flow": null,
            "grid_auto_rows": null,
            "grid_column": null,
            "grid_gap": null,
            "grid_row": null,
            "grid_template_areas": null,
            "grid_template_columns": null,
            "grid_template_rows": null,
            "height": null,
            "justify_content": null,
            "justify_items": null,
            "left": null,
            "margin": null,
            "max_height": null,
            "max_width": null,
            "min_height": null,
            "min_width": null,
            "object_fit": null,
            "object_position": null,
            "order": null,
            "overflow": null,
            "overflow_x": null,
            "overflow_y": null,
            "padding": null,
            "right": null,
            "top": null,
            "visibility": null,
            "width": null
          }
        },
        "d9f16d0afc8a40faa7dcf11cb89daaa4": {
          "model_module": "@jupyter-widgets/controls",
          "model_name": "DescriptionStyleModel",
          "model_module_version": "1.5.0",
          "state": {
            "_model_module": "@jupyter-widgets/controls",
            "_model_module_version": "1.5.0",
            "_model_name": "DescriptionStyleModel",
            "_view_count": null,
            "_view_module": "@jupyter-widgets/base",
            "_view_module_version": "1.2.0",
            "_view_name": "StyleView",
            "description_width": ""
          }
        },
        "aa872862c3954cc99f058695fdf3a697": {
          "model_module": "@jupyter-widgets/controls",
          "model_name": "HBoxModel",
          "model_module_version": "1.5.0",
          "state": {
            "_dom_classes": [],
            "_model_module": "@jupyter-widgets/controls",
            "_model_module_version": "1.5.0",
            "_model_name": "HBoxModel",
            "_view_count": null,
            "_view_module": "@jupyter-widgets/controls",
            "_view_module_version": "1.5.0",
            "_view_name": "HBoxView",
            "box_style": "",
            "children": [
              "IPY_MODEL_bbf73cb2313847429c627a1e18ce74bd",
              "IPY_MODEL_98fe997892be407daf6ac387b8f9ffd1",
              "IPY_MODEL_5fd55c49e7484b61951d63525ccc5291"
            ],
            "layout": "IPY_MODEL_a630b36fce0847e188e8babd4b7bdda9"
          }
        },
        "bbf73cb2313847429c627a1e18ce74bd": {
          "model_module": "@jupyter-widgets/controls",
          "model_name": "HTMLModel",
          "model_module_version": "1.5.0",
          "state": {
            "_dom_classes": [],
            "_model_module": "@jupyter-widgets/controls",
            "_model_module_version": "1.5.0",
            "_model_name": "HTMLModel",
            "_view_count": null,
            "_view_module": "@jupyter-widgets/controls",
            "_view_module_version": "1.5.0",
            "_view_name": "HTMLView",
            "description": "",
            "description_tooltip": null,
            "layout": "IPY_MODEL_21d7f75e9aef4ca6a36af2a9bc6ddc5d",
            "placeholder": "​",
            "style": "IPY_MODEL_bf41406a44414695a1ad509bcad0fac7",
            "value": "100%"
          }
        },
        "98fe997892be407daf6ac387b8f9ffd1": {
          "model_module": "@jupyter-widgets/controls",
          "model_name": "FloatProgressModel",
          "model_module_version": "1.5.0",
          "state": {
            "_dom_classes": [],
            "_model_module": "@jupyter-widgets/controls",
            "_model_module_version": "1.5.0",
            "_model_name": "FloatProgressModel",
            "_view_count": null,
            "_view_module": "@jupyter-widgets/controls",
            "_view_module_version": "1.5.0",
            "_view_name": "ProgressView",
            "bar_style": "success",
            "description": "",
            "description_tooltip": null,
            "layout": "IPY_MODEL_ebd4ff43c82e4ded8cc68d016ffef30a",
            "max": 147156,
            "min": 0,
            "orientation": "horizontal",
            "style": "IPY_MODEL_8095dd7df95448458159c422268eecac",
            "value": 147156
          }
        },
        "5fd55c49e7484b61951d63525ccc5291": {
          "model_module": "@jupyter-widgets/controls",
          "model_name": "HTMLModel",
          "model_module_version": "1.5.0",
          "state": {
            "_dom_classes": [],
            "_model_module": "@jupyter-widgets/controls",
            "_model_module_version": "1.5.0",
            "_model_name": "HTMLModel",
            "_view_count": null,
            "_view_module": "@jupyter-widgets/controls",
            "_view_module_version": "1.5.0",
            "_view_name": "HTMLView",
            "description": "",
            "description_tooltip": null,
            "layout": "IPY_MODEL_8cf819dabb3d4b249e8f95b8cab2cacd",
            "placeholder": "​",
            "style": "IPY_MODEL_7474d9c6d5294a919f32865c0b12cb68",
            "value": " 147156/147156 [00:00&lt;00:00, 432153.72it/s]"
          }
        },
        "a630b36fce0847e188e8babd4b7bdda9": {
          "model_module": "@jupyter-widgets/base",
          "model_name": "LayoutModel",
          "model_module_version": "1.2.0",
          "state": {
            "_model_module": "@jupyter-widgets/base",
            "_model_module_version": "1.2.0",
            "_model_name": "LayoutModel",
            "_view_count": null,
            "_view_module": "@jupyter-widgets/base",
            "_view_module_version": "1.2.0",
            "_view_name": "LayoutView",
            "align_content": null,
            "align_items": null,
            "align_self": null,
            "border": null,
            "bottom": null,
            "display": null,
            "flex": null,
            "flex_flow": null,
            "grid_area": null,
            "grid_auto_columns": null,
            "grid_auto_flow": null,
            "grid_auto_rows": null,
            "grid_column": null,
            "grid_gap": null,
            "grid_row": null,
            "grid_template_areas": null,
            "grid_template_columns": null,
            "grid_template_rows": null,
            "height": null,
            "justify_content": null,
            "justify_items": null,
            "left": null,
            "margin": null,
            "max_height": null,
            "max_width": null,
            "min_height": null,
            "min_width": null,
            "object_fit": null,
            "object_position": null,
            "order": null,
            "overflow": null,
            "overflow_x": null,
            "overflow_y": null,
            "padding": null,
            "right": null,
            "top": null,
            "visibility": null,
            "width": null
          }
        },
        "21d7f75e9aef4ca6a36af2a9bc6ddc5d": {
          "model_module": "@jupyter-widgets/base",
          "model_name": "LayoutModel",
          "model_module_version": "1.2.0",
          "state": {
            "_model_module": "@jupyter-widgets/base",
            "_model_module_version": "1.2.0",
            "_model_name": "LayoutModel",
            "_view_count": null,
            "_view_module": "@jupyter-widgets/base",
            "_view_module_version": "1.2.0",
            "_view_name": "LayoutView",
            "align_content": null,
            "align_items": null,
            "align_self": null,
            "border": null,
            "bottom": null,
            "display": null,
            "flex": null,
            "flex_flow": null,
            "grid_area": null,
            "grid_auto_columns": null,
            "grid_auto_flow": null,
            "grid_auto_rows": null,
            "grid_column": null,
            "grid_gap": null,
            "grid_row": null,
            "grid_template_areas": null,
            "grid_template_columns": null,
            "grid_template_rows": null,
            "height": null,
            "justify_content": null,
            "justify_items": null,
            "left": null,
            "margin": null,
            "max_height": null,
            "max_width": null,
            "min_height": null,
            "min_width": null,
            "object_fit": null,
            "object_position": null,
            "order": null,
            "overflow": null,
            "overflow_x": null,
            "overflow_y": null,
            "padding": null,
            "right": null,
            "top": null,
            "visibility": null,
            "width": null
          }
        },
        "bf41406a44414695a1ad509bcad0fac7": {
          "model_module": "@jupyter-widgets/controls",
          "model_name": "DescriptionStyleModel",
          "model_module_version": "1.5.0",
          "state": {
            "_model_module": "@jupyter-widgets/controls",
            "_model_module_version": "1.5.0",
            "_model_name": "DescriptionStyleModel",
            "_view_count": null,
            "_view_module": "@jupyter-widgets/base",
            "_view_module_version": "1.2.0",
            "_view_name": "StyleView",
            "description_width": ""
          }
        },
        "ebd4ff43c82e4ded8cc68d016ffef30a": {
          "model_module": "@jupyter-widgets/base",
          "model_name": "LayoutModel",
          "model_module_version": "1.2.0",
          "state": {
            "_model_module": "@jupyter-widgets/base",
            "_model_module_version": "1.2.0",
            "_model_name": "LayoutModel",
            "_view_count": null,
            "_view_module": "@jupyter-widgets/base",
            "_view_module_version": "1.2.0",
            "_view_name": "LayoutView",
            "align_content": null,
            "align_items": null,
            "align_self": null,
            "border": null,
            "bottom": null,
            "display": null,
            "flex": null,
            "flex_flow": null,
            "grid_area": null,
            "grid_auto_columns": null,
            "grid_auto_flow": null,
            "grid_auto_rows": null,
            "grid_column": null,
            "grid_gap": null,
            "grid_row": null,
            "grid_template_areas": null,
            "grid_template_columns": null,
            "grid_template_rows": null,
            "height": null,
            "justify_content": null,
            "justify_items": null,
            "left": null,
            "margin": null,
            "max_height": null,
            "max_width": null,
            "min_height": null,
            "min_width": null,
            "object_fit": null,
            "object_position": null,
            "order": null,
            "overflow": null,
            "overflow_x": null,
            "overflow_y": null,
            "padding": null,
            "right": null,
            "top": null,
            "visibility": null,
            "width": null
          }
        },
        "8095dd7df95448458159c422268eecac": {
          "model_module": "@jupyter-widgets/controls",
          "model_name": "ProgressStyleModel",
          "model_module_version": "1.5.0",
          "state": {
            "_model_module": "@jupyter-widgets/controls",
            "_model_module_version": "1.5.0",
            "_model_name": "ProgressStyleModel",
            "_view_count": null,
            "_view_module": "@jupyter-widgets/base",
            "_view_module_version": "1.2.0",
            "_view_name": "StyleView",
            "bar_color": null,
            "description_width": ""
          }
        },
        "8cf819dabb3d4b249e8f95b8cab2cacd": {
          "model_module": "@jupyter-widgets/base",
          "model_name": "LayoutModel",
          "model_module_version": "1.2.0",
          "state": {
            "_model_module": "@jupyter-widgets/base",
            "_model_module_version": "1.2.0",
            "_model_name": "LayoutModel",
            "_view_count": null,
            "_view_module": "@jupyter-widgets/base",
            "_view_module_version": "1.2.0",
            "_view_name": "LayoutView",
            "align_content": null,
            "align_items": null,
            "align_self": null,
            "border": null,
            "bottom": null,
            "display": null,
            "flex": null,
            "flex_flow": null,
            "grid_area": null,
            "grid_auto_columns": null,
            "grid_auto_flow": null,
            "grid_auto_rows": null,
            "grid_column": null,
            "grid_gap": null,
            "grid_row": null,
            "grid_template_areas": null,
            "grid_template_columns": null,
            "grid_template_rows": null,
            "height": null,
            "justify_content": null,
            "justify_items": null,
            "left": null,
            "margin": null,
            "max_height": null,
            "max_width": null,
            "min_height": null,
            "min_width": null,
            "object_fit": null,
            "object_position": null,
            "order": null,
            "overflow": null,
            "overflow_x": null,
            "overflow_y": null,
            "padding": null,
            "right": null,
            "top": null,
            "visibility": null,
            "width": null
          }
        },
        "7474d9c6d5294a919f32865c0b12cb68": {
          "model_module": "@jupyter-widgets/controls",
          "model_name": "DescriptionStyleModel",
          "model_module_version": "1.5.0",
          "state": {
            "_model_module": "@jupyter-widgets/controls",
            "_model_module_version": "1.5.0",
            "_model_name": "DescriptionStyleModel",
            "_view_count": null,
            "_view_module": "@jupyter-widgets/base",
            "_view_module_version": "1.2.0",
            "_view_name": "StyleView",
            "description_width": ""
          }
        },
        "70a1d2daf7ee4f958a4e25dcd00cd756": {
          "model_module": "@jupyter-widgets/controls",
          "model_name": "HBoxModel",
          "model_module_version": "1.5.0",
          "state": {
            "_dom_classes": [],
            "_model_module": "@jupyter-widgets/controls",
            "_model_module_version": "1.5.0",
            "_model_name": "HBoxModel",
            "_view_count": null,
            "_view_module": "@jupyter-widgets/controls",
            "_view_module_version": "1.5.0",
            "_view_name": "HBoxView",
            "box_style": "",
            "children": [
              "IPY_MODEL_1084f975ee5740f9aae64ec50cc149d8",
              "IPY_MODEL_983f349139eb4a87bff5ffbf4b21cc77",
              "IPY_MODEL_7434db08aca048548156b13e198c8e9b"
            ],
            "layout": "IPY_MODEL_e0ac6ce85f6340c0875b806313fa5921"
          }
        },
        "1084f975ee5740f9aae64ec50cc149d8": {
          "model_module": "@jupyter-widgets/controls",
          "model_name": "HTMLModel",
          "model_module_version": "1.5.0",
          "state": {
            "_dom_classes": [],
            "_model_module": "@jupyter-widgets/controls",
            "_model_module_version": "1.5.0",
            "_model_name": "HTMLModel",
            "_view_count": null,
            "_view_module": "@jupyter-widgets/controls",
            "_view_module_version": "1.5.0",
            "_view_name": "HTMLView",
            "description": "",
            "description_tooltip": null,
            "layout": "IPY_MODEL_7bb818fbf29e4118ac2cc97a31465e08",
            "placeholder": "​",
            "style": "IPY_MODEL_f9d12a0dbfc649daa17620a21b2906fc",
            "value": "100%"
          }
        },
        "983f349139eb4a87bff5ffbf4b21cc77": {
          "model_module": "@jupyter-widgets/controls",
          "model_name": "FloatProgressModel",
          "model_module_version": "1.5.0",
          "state": {
            "_dom_classes": [],
            "_model_module": "@jupyter-widgets/controls",
            "_model_module_version": "1.5.0",
            "_model_name": "FloatProgressModel",
            "_view_count": null,
            "_view_module": "@jupyter-widgets/controls",
            "_view_module_version": "1.5.0",
            "_view_name": "ProgressView",
            "bar_style": "success",
            "description": "",
            "description_tooltip": null,
            "layout": "IPY_MODEL_e1f36b3a3e8f49fcba5dca39c4753e24",
            "max": 25000,
            "min": 0,
            "orientation": "horizontal",
            "style": "IPY_MODEL_bf742f11ff9a484ebed0cd90b4b5790f",
            "value": 25000
          }
        },
        "7434db08aca048548156b13e198c8e9b": {
          "model_module": "@jupyter-widgets/controls",
          "model_name": "HTMLModel",
          "model_module_version": "1.5.0",
          "state": {
            "_dom_classes": [],
            "_model_module": "@jupyter-widgets/controls",
            "_model_module_version": "1.5.0",
            "_model_name": "HTMLModel",
            "_view_count": null,
            "_view_module": "@jupyter-widgets/controls",
            "_view_module_version": "1.5.0",
            "_view_name": "HTMLView",
            "description": "",
            "description_tooltip": null,
            "layout": "IPY_MODEL_b7fb092b3a664390b3db4413f5395d8a",
            "placeholder": "​",
            "style": "IPY_MODEL_824cdebd02234c20a7220a8ec2053afb",
            "value": " 25000/25000 [00:55&lt;00:00, 512.87it/s]"
          }
        },
        "e0ac6ce85f6340c0875b806313fa5921": {
          "model_module": "@jupyter-widgets/base",
          "model_name": "LayoutModel",
          "model_module_version": "1.2.0",
          "state": {
            "_model_module": "@jupyter-widgets/base",
            "_model_module_version": "1.2.0",
            "_model_name": "LayoutModel",
            "_view_count": null,
            "_view_module": "@jupyter-widgets/base",
            "_view_module_version": "1.2.0",
            "_view_name": "LayoutView",
            "align_content": null,
            "align_items": null,
            "align_self": null,
            "border": null,
            "bottom": null,
            "display": null,
            "flex": null,
            "flex_flow": null,
            "grid_area": null,
            "grid_auto_columns": null,
            "grid_auto_flow": null,
            "grid_auto_rows": null,
            "grid_column": null,
            "grid_gap": null,
            "grid_row": null,
            "grid_template_areas": null,
            "grid_template_columns": null,
            "grid_template_rows": null,
            "height": null,
            "justify_content": null,
            "justify_items": null,
            "left": null,
            "margin": null,
            "max_height": null,
            "max_width": null,
            "min_height": null,
            "min_width": null,
            "object_fit": null,
            "object_position": null,
            "order": null,
            "overflow": null,
            "overflow_x": null,
            "overflow_y": null,
            "padding": null,
            "right": null,
            "top": null,
            "visibility": null,
            "width": null
          }
        },
        "7bb818fbf29e4118ac2cc97a31465e08": {
          "model_module": "@jupyter-widgets/base",
          "model_name": "LayoutModel",
          "model_module_version": "1.2.0",
          "state": {
            "_model_module": "@jupyter-widgets/base",
            "_model_module_version": "1.2.0",
            "_model_name": "LayoutModel",
            "_view_count": null,
            "_view_module": "@jupyter-widgets/base",
            "_view_module_version": "1.2.0",
            "_view_name": "LayoutView",
            "align_content": null,
            "align_items": null,
            "align_self": null,
            "border": null,
            "bottom": null,
            "display": null,
            "flex": null,
            "flex_flow": null,
            "grid_area": null,
            "grid_auto_columns": null,
            "grid_auto_flow": null,
            "grid_auto_rows": null,
            "grid_column": null,
            "grid_gap": null,
            "grid_row": null,
            "grid_template_areas": null,
            "grid_template_columns": null,
            "grid_template_rows": null,
            "height": null,
            "justify_content": null,
            "justify_items": null,
            "left": null,
            "margin": null,
            "max_height": null,
            "max_width": null,
            "min_height": null,
            "min_width": null,
            "object_fit": null,
            "object_position": null,
            "order": null,
            "overflow": null,
            "overflow_x": null,
            "overflow_y": null,
            "padding": null,
            "right": null,
            "top": null,
            "visibility": null,
            "width": null
          }
        },
        "f9d12a0dbfc649daa17620a21b2906fc": {
          "model_module": "@jupyter-widgets/controls",
          "model_name": "DescriptionStyleModel",
          "model_module_version": "1.5.0",
          "state": {
            "_model_module": "@jupyter-widgets/controls",
            "_model_module_version": "1.5.0",
            "_model_name": "DescriptionStyleModel",
            "_view_count": null,
            "_view_module": "@jupyter-widgets/base",
            "_view_module_version": "1.2.0",
            "_view_name": "StyleView",
            "description_width": ""
          }
        },
        "e1f36b3a3e8f49fcba5dca39c4753e24": {
          "model_module": "@jupyter-widgets/base",
          "model_name": "LayoutModel",
          "model_module_version": "1.2.0",
          "state": {
            "_model_module": "@jupyter-widgets/base",
            "_model_module_version": "1.2.0",
            "_model_name": "LayoutModel",
            "_view_count": null,
            "_view_module": "@jupyter-widgets/base",
            "_view_module_version": "1.2.0",
            "_view_name": "LayoutView",
            "align_content": null,
            "align_items": null,
            "align_self": null,
            "border": null,
            "bottom": null,
            "display": null,
            "flex": null,
            "flex_flow": null,
            "grid_area": null,
            "grid_auto_columns": null,
            "grid_auto_flow": null,
            "grid_auto_rows": null,
            "grid_column": null,
            "grid_gap": null,
            "grid_row": null,
            "grid_template_areas": null,
            "grid_template_columns": null,
            "grid_template_rows": null,
            "height": null,
            "justify_content": null,
            "justify_items": null,
            "left": null,
            "margin": null,
            "max_height": null,
            "max_width": null,
            "min_height": null,
            "min_width": null,
            "object_fit": null,
            "object_position": null,
            "order": null,
            "overflow": null,
            "overflow_x": null,
            "overflow_y": null,
            "padding": null,
            "right": null,
            "top": null,
            "visibility": null,
            "width": null
          }
        },
        "bf742f11ff9a484ebed0cd90b4b5790f": {
          "model_module": "@jupyter-widgets/controls",
          "model_name": "ProgressStyleModel",
          "model_module_version": "1.5.0",
          "state": {
            "_model_module": "@jupyter-widgets/controls",
            "_model_module_version": "1.5.0",
            "_model_name": "ProgressStyleModel",
            "_view_count": null,
            "_view_module": "@jupyter-widgets/base",
            "_view_module_version": "1.2.0",
            "_view_name": "StyleView",
            "bar_color": null,
            "description_width": ""
          }
        },
        "b7fb092b3a664390b3db4413f5395d8a": {
          "model_module": "@jupyter-widgets/base",
          "model_name": "LayoutModel",
          "model_module_version": "1.2.0",
          "state": {
            "_model_module": "@jupyter-widgets/base",
            "_model_module_version": "1.2.0",
            "_model_name": "LayoutModel",
            "_view_count": null,
            "_view_module": "@jupyter-widgets/base",
            "_view_module_version": "1.2.0",
            "_view_name": "LayoutView",
            "align_content": null,
            "align_items": null,
            "align_self": null,
            "border": null,
            "bottom": null,
            "display": null,
            "flex": null,
            "flex_flow": null,
            "grid_area": null,
            "grid_auto_columns": null,
            "grid_auto_flow": null,
            "grid_auto_rows": null,
            "grid_column": null,
            "grid_gap": null,
            "grid_row": null,
            "grid_template_areas": null,
            "grid_template_columns": null,
            "grid_template_rows": null,
            "height": null,
            "justify_content": null,
            "justify_items": null,
            "left": null,
            "margin": null,
            "max_height": null,
            "max_width": null,
            "min_height": null,
            "min_width": null,
            "object_fit": null,
            "object_position": null,
            "order": null,
            "overflow": null,
            "overflow_x": null,
            "overflow_y": null,
            "padding": null,
            "right": null,
            "top": null,
            "visibility": null,
            "width": null
          }
        },
        "824cdebd02234c20a7220a8ec2053afb": {
          "model_module": "@jupyter-widgets/controls",
          "model_name": "DescriptionStyleModel",
          "model_module_version": "1.5.0",
          "state": {
            "_model_module": "@jupyter-widgets/controls",
            "_model_module_version": "1.5.0",
            "_model_name": "DescriptionStyleModel",
            "_view_count": null,
            "_view_module": "@jupyter-widgets/base",
            "_view_module_version": "1.2.0",
            "_view_name": "StyleView",
            "description_width": ""
          }
        },
        "84935d2ff3f245eaa47ec780aa6cc7ae": {
          "model_module": "@jupyter-widgets/controls",
          "model_name": "HBoxModel",
          "model_module_version": "1.5.0",
          "state": {
            "_dom_classes": [],
            "_model_module": "@jupyter-widgets/controls",
            "_model_module_version": "1.5.0",
            "_model_name": "HBoxModel",
            "_view_count": null,
            "_view_module": "@jupyter-widgets/controls",
            "_view_module_version": "1.5.0",
            "_view_name": "HBoxView",
            "box_style": "",
            "children": [
              "IPY_MODEL_20a7df51978c4b13a7593b7b5714851c",
              "IPY_MODEL_903b5a357dc64fca9704dca9dd0c1fe9",
              "IPY_MODEL_46fac126f3444d539b34ebbfa9bf9171"
            ],
            "layout": "IPY_MODEL_e857de125f8e4d80857ed27b7481e601"
          }
        },
        "20a7df51978c4b13a7593b7b5714851c": {
          "model_module": "@jupyter-widgets/controls",
          "model_name": "HTMLModel",
          "model_module_version": "1.5.0",
          "state": {
            "_dom_classes": [],
            "_model_module": "@jupyter-widgets/controls",
            "_model_module_version": "1.5.0",
            "_model_name": "HTMLModel",
            "_view_count": null,
            "_view_module": "@jupyter-widgets/controls",
            "_view_module_version": "1.5.0",
            "_view_name": "HTMLView",
            "description": "",
            "description_tooltip": null,
            "layout": "IPY_MODEL_8ec30bca989a41f09de02d0a5fca4a8a",
            "placeholder": "​",
            "style": "IPY_MODEL_872c4eeab8db41aeb875bf64a61243b8",
            "value": "100%"
          }
        },
        "903b5a357dc64fca9704dca9dd0c1fe9": {
          "model_module": "@jupyter-widgets/controls",
          "model_name": "FloatProgressModel",
          "model_module_version": "1.5.0",
          "state": {
            "_dom_classes": [],
            "_model_module": "@jupyter-widgets/controls",
            "_model_module_version": "1.5.0",
            "_model_name": "FloatProgressModel",
            "_view_count": null,
            "_view_module": "@jupyter-widgets/controls",
            "_view_module_version": "1.5.0",
            "_view_name": "ProgressView",
            "bar_style": "success",
            "description": "",
            "description_tooltip": null,
            "layout": "IPY_MODEL_8bb29e4da1e542ec94ce7251376b14d9",
            "max": 25000,
            "min": 0,
            "orientation": "horizontal",
            "style": "IPY_MODEL_f9572f1964554ebc9d14d58f5991f34e",
            "value": 25000
          }
        },
        "46fac126f3444d539b34ebbfa9bf9171": {
          "model_module": "@jupyter-widgets/controls",
          "model_name": "HTMLModel",
          "model_module_version": "1.5.0",
          "state": {
            "_dom_classes": [],
            "_model_module": "@jupyter-widgets/controls",
            "_model_module_version": "1.5.0",
            "_model_name": "HTMLModel",
            "_view_count": null,
            "_view_module": "@jupyter-widgets/controls",
            "_view_module_version": "1.5.0",
            "_view_name": "HTMLView",
            "description": "",
            "description_tooltip": null,
            "layout": "IPY_MODEL_dd6215d906a44384aaf6db360dcbdb1b",
            "placeholder": "​",
            "style": "IPY_MODEL_41f6e84c0c024087bed13cdf73af1e96",
            "value": " 25000/25000 [00:55&lt;00:00, 499.70it/s]"
          }
        },
        "e857de125f8e4d80857ed27b7481e601": {
          "model_module": "@jupyter-widgets/base",
          "model_name": "LayoutModel",
          "model_module_version": "1.2.0",
          "state": {
            "_model_module": "@jupyter-widgets/base",
            "_model_module_version": "1.2.0",
            "_model_name": "LayoutModel",
            "_view_count": null,
            "_view_module": "@jupyter-widgets/base",
            "_view_module_version": "1.2.0",
            "_view_name": "LayoutView",
            "align_content": null,
            "align_items": null,
            "align_self": null,
            "border": null,
            "bottom": null,
            "display": null,
            "flex": null,
            "flex_flow": null,
            "grid_area": null,
            "grid_auto_columns": null,
            "grid_auto_flow": null,
            "grid_auto_rows": null,
            "grid_column": null,
            "grid_gap": null,
            "grid_row": null,
            "grid_template_areas": null,
            "grid_template_columns": null,
            "grid_template_rows": null,
            "height": null,
            "justify_content": null,
            "justify_items": null,
            "left": null,
            "margin": null,
            "max_height": null,
            "max_width": null,
            "min_height": null,
            "min_width": null,
            "object_fit": null,
            "object_position": null,
            "order": null,
            "overflow": null,
            "overflow_x": null,
            "overflow_y": null,
            "padding": null,
            "right": null,
            "top": null,
            "visibility": null,
            "width": null
          }
        },
        "8ec30bca989a41f09de02d0a5fca4a8a": {
          "model_module": "@jupyter-widgets/base",
          "model_name": "LayoutModel",
          "model_module_version": "1.2.0",
          "state": {
            "_model_module": "@jupyter-widgets/base",
            "_model_module_version": "1.2.0",
            "_model_name": "LayoutModel",
            "_view_count": null,
            "_view_module": "@jupyter-widgets/base",
            "_view_module_version": "1.2.0",
            "_view_name": "LayoutView",
            "align_content": null,
            "align_items": null,
            "align_self": null,
            "border": null,
            "bottom": null,
            "display": null,
            "flex": null,
            "flex_flow": null,
            "grid_area": null,
            "grid_auto_columns": null,
            "grid_auto_flow": null,
            "grid_auto_rows": null,
            "grid_column": null,
            "grid_gap": null,
            "grid_row": null,
            "grid_template_areas": null,
            "grid_template_columns": null,
            "grid_template_rows": null,
            "height": null,
            "justify_content": null,
            "justify_items": null,
            "left": null,
            "margin": null,
            "max_height": null,
            "max_width": null,
            "min_height": null,
            "min_width": null,
            "object_fit": null,
            "object_position": null,
            "order": null,
            "overflow": null,
            "overflow_x": null,
            "overflow_y": null,
            "padding": null,
            "right": null,
            "top": null,
            "visibility": null,
            "width": null
          }
        },
        "872c4eeab8db41aeb875bf64a61243b8": {
          "model_module": "@jupyter-widgets/controls",
          "model_name": "DescriptionStyleModel",
          "model_module_version": "1.5.0",
          "state": {
            "_model_module": "@jupyter-widgets/controls",
            "_model_module_version": "1.5.0",
            "_model_name": "DescriptionStyleModel",
            "_view_count": null,
            "_view_module": "@jupyter-widgets/base",
            "_view_module_version": "1.2.0",
            "_view_name": "StyleView",
            "description_width": ""
          }
        },
        "8bb29e4da1e542ec94ce7251376b14d9": {
          "model_module": "@jupyter-widgets/base",
          "model_name": "LayoutModel",
          "model_module_version": "1.2.0",
          "state": {
            "_model_module": "@jupyter-widgets/base",
            "_model_module_version": "1.2.0",
            "_model_name": "LayoutModel",
            "_view_count": null,
            "_view_module": "@jupyter-widgets/base",
            "_view_module_version": "1.2.0",
            "_view_name": "LayoutView",
            "align_content": null,
            "align_items": null,
            "align_self": null,
            "border": null,
            "bottom": null,
            "display": null,
            "flex": null,
            "flex_flow": null,
            "grid_area": null,
            "grid_auto_columns": null,
            "grid_auto_flow": null,
            "grid_auto_rows": null,
            "grid_column": null,
            "grid_gap": null,
            "grid_row": null,
            "grid_template_areas": null,
            "grid_template_columns": null,
            "grid_template_rows": null,
            "height": null,
            "justify_content": null,
            "justify_items": null,
            "left": null,
            "margin": null,
            "max_height": null,
            "max_width": null,
            "min_height": null,
            "min_width": null,
            "object_fit": null,
            "object_position": null,
            "order": null,
            "overflow": null,
            "overflow_x": null,
            "overflow_y": null,
            "padding": null,
            "right": null,
            "top": null,
            "visibility": null,
            "width": null
          }
        },
        "f9572f1964554ebc9d14d58f5991f34e": {
          "model_module": "@jupyter-widgets/controls",
          "model_name": "ProgressStyleModel",
          "model_module_version": "1.5.0",
          "state": {
            "_model_module": "@jupyter-widgets/controls",
            "_model_module_version": "1.5.0",
            "_model_name": "ProgressStyleModel",
            "_view_count": null,
            "_view_module": "@jupyter-widgets/base",
            "_view_module_version": "1.2.0",
            "_view_name": "StyleView",
            "bar_color": null,
            "description_width": ""
          }
        },
        "dd6215d906a44384aaf6db360dcbdb1b": {
          "model_module": "@jupyter-widgets/base",
          "model_name": "LayoutModel",
          "model_module_version": "1.2.0",
          "state": {
            "_model_module": "@jupyter-widgets/base",
            "_model_module_version": "1.2.0",
            "_model_name": "LayoutModel",
            "_view_count": null,
            "_view_module": "@jupyter-widgets/base",
            "_view_module_version": "1.2.0",
            "_view_name": "LayoutView",
            "align_content": null,
            "align_items": null,
            "align_self": null,
            "border": null,
            "bottom": null,
            "display": null,
            "flex": null,
            "flex_flow": null,
            "grid_area": null,
            "grid_auto_columns": null,
            "grid_auto_flow": null,
            "grid_auto_rows": null,
            "grid_column": null,
            "grid_gap": null,
            "grid_row": null,
            "grid_template_areas": null,
            "grid_template_columns": null,
            "grid_template_rows": null,
            "height": null,
            "justify_content": null,
            "justify_items": null,
            "left": null,
            "margin": null,
            "max_height": null,
            "max_width": null,
            "min_height": null,
            "min_width": null,
            "object_fit": null,
            "object_position": null,
            "order": null,
            "overflow": null,
            "overflow_x": null,
            "overflow_y": null,
            "padding": null,
            "right": null,
            "top": null,
            "visibility": null,
            "width": null
          }
        },
        "41f6e84c0c024087bed13cdf73af1e96": {
          "model_module": "@jupyter-widgets/controls",
          "model_name": "DescriptionStyleModel",
          "model_module_version": "1.5.0",
          "state": {
            "_model_module": "@jupyter-widgets/controls",
            "_model_module_version": "1.5.0",
            "_model_name": "DescriptionStyleModel",
            "_view_count": null,
            "_view_module": "@jupyter-widgets/base",
            "_view_module_version": "1.2.0",
            "_view_name": "StyleView",
            "description_width": ""
          }
        }
      }
    }
  },
  "cells": [
    {
      "cell_type": "markdown",
      "metadata": {
        "id": "view-in-github",
        "colab_type": "text"
      },
      "source": [
        "<a href=\"https://colab.research.google.com/github/lizhieffe/language_model/blob/main/Bert_v1.ipynb\" target=\"_parent\"><img src=\"https://colab.research.google.com/assets/colab-badge.svg\" alt=\"Open In Colab\"/></a>"
      ]
    },
    {
      "cell_type": "markdown",
      "source": [
        "Good tutorial: https://coaxsoft.com/blog/building-bert-with-pytorch-from-scratch\n",
        "\n",
        "Another tutorial: https://neptune.ai/blog/how-to-code-bert-using-pytorch-tutorial\n"
      ],
      "metadata": {
        "id": "vgugZfdOJzaS"
      }
    },
    {
      "cell_type": "code",
      "source": [
        "import torch\n",
        "import torch.nn.functional as F\n",
        "import matplotlib.pyplot as plt\n",
        "%matplotlib inline\n",
        "\n",
        "import re\n",
        "\n",
        "from typing import Dict, List\n",
        "\n",
        "import numpy as np\n",
        "\n",
        "!pip install tqdm\n",
        "from tqdm.auto import tqdm"
      ],
      "metadata": {
        "colab": {
          "base_uri": "https://localhost:8080/"
        },
        "id": "wX-MYEZUKnwa",
        "outputId": "064dd594-b072-4cb6-9e82-b66694b95649"
      },
      "execution_count": 1,
      "outputs": [
        {
          "output_type": "stream",
          "name": "stdout",
          "text": [
            "Requirement already satisfied: tqdm in /usr/local/lib/python3.10/dist-packages (4.65.0)\n"
          ]
        }
      ]
    },
    {
      "cell_type": "code",
      "source": [
        "USE_GPU = True\n",
        "\n",
        "BLOCK_SIZE = 96 # Context length: how many chars do we take to predict the next one?\n",
        "\n",
        "# number of workers in .map() call\n",
        "# good number to use is ~order number of cpu cores // 2\n",
        "NUM_PROC = 24\n",
        "\n",
        "# The percentile of each single sentence' length in the overall dataset to be\n",
        "# used as cutoff length of the sentence used in training examples.\n",
        "OPTIMAL_LENGTH_PERCENTILE = 70"
      ],
      "metadata": {
        "id": "vDHUDjtsph4G"
      },
      "execution_count": 2,
      "outputs": []
    },
    {
      "cell_type": "markdown",
      "source": [
        "# Setup GPU"
      ],
      "metadata": {
        "id": "NZIvnPdcps3e"
      }
    },
    {
      "cell_type": "code",
      "source": [
        "if USE_GPU:\n",
        "  device = torch.device(\"cuda:0\" if torch.cuda.is_available() else \"cpu\")\n",
        "  assert device.type != 'cpu', \"GPU is not available\"\n",
        "else:\n",
        "  device = 'cpu'\n",
        "\n",
        "print(device)"
      ],
      "metadata": {
        "colab": {
          "base_uri": "https://localhost:8080/"
        },
        "id": "sd95wthQptwk",
        "outputId": "99cdc5f2-ca5f-4ae3-99ca-d03a891cb02b"
      },
      "execution_count": 3,
      "outputs": [
        {
          "output_type": "stream",
          "name": "stdout",
          "text": [
            "cuda:0\n"
          ]
        }
      ]
    },
    {
      "cell_type": "code",
      "source": [
        "g_cpu = torch.Generator(device='cpu').manual_seed(2147483647) # for reproducibility\n",
        "g_device = torch.Generator(device=device).manual_seed(2147483647) # for reproducibility"
      ],
      "metadata": {
        "id": "FDyu_mmdxQNC"
      },
      "execution_count": 4,
      "outputs": []
    },
    {
      "cell_type": "markdown",
      "source": [
        "# Tokenizer\n",
        "\n",
        "- **TODO**: the tokenizer in IMDBBertDataset doesn't convert the word to id. It similar to splitting the sentence to words. Integrate with a more advanced one."
      ],
      "metadata": {
        "id": "eIpZ2CQ52aC9"
      }
    },
    {
      "cell_type": "markdown",
      "source": [
        "# Download Dataset"
      ],
      "metadata": {
        "id": "P3kYTRN8yAk4"
      }
    },
    {
      "cell_type": "code",
      "source": [
        "# Download data - openwebtext\n",
        "\n",
        "!pip install datasets # Since we are running in colab docker image, install it here.\n",
        "\n",
        "from datasets import load_dataset # huggingface datasets"
      ],
      "metadata": {
        "colab": {
          "base_uri": "https://localhost:8080/"
        },
        "id": "VLi0aaU9yB4G",
        "outputId": "c51976c7-88f3-4d04-84a4-f4b9648a0eec"
      },
      "execution_count": 5,
      "outputs": [
        {
          "output_type": "stream",
          "name": "stdout",
          "text": [
            "Requirement already satisfied: datasets in /usr/local/lib/python3.10/dist-packages (2.14.5)\n",
            "Requirement already satisfied: numpy>=1.17 in /usr/local/lib/python3.10/dist-packages (from datasets) (1.22.4)\n",
            "Requirement already satisfied: pyarrow>=8.0.0 in /usr/local/lib/python3.10/dist-packages (from datasets) (9.0.0)\n",
            "Requirement already satisfied: dill<0.3.8,>=0.3.0 in /usr/local/lib/python3.10/dist-packages (from datasets) (0.3.7)\n",
            "Requirement already satisfied: pandas in /usr/local/lib/python3.10/dist-packages (from datasets) (1.5.3)\n",
            "Requirement already satisfied: requests>=2.19.0 in /usr/local/lib/python3.10/dist-packages (from datasets) (2.27.1)\n",
            "Requirement already satisfied: tqdm>=4.62.1 in /usr/local/lib/python3.10/dist-packages (from datasets) (4.65.0)\n",
            "Requirement already satisfied: xxhash in /usr/local/lib/python3.10/dist-packages (from datasets) (3.4.1)\n",
            "Requirement already satisfied: multiprocess in /usr/local/lib/python3.10/dist-packages (from datasets) (0.70.15)\n",
            "Requirement already satisfied: fsspec[http]<2023.9.0,>=2023.1.0 in /usr/local/lib/python3.10/dist-packages (from datasets) (2023.6.0)\n",
            "Requirement already satisfied: aiohttp in /usr/local/lib/python3.10/dist-packages (from datasets) (3.8.5)\n",
            "Requirement already satisfied: huggingface-hub<1.0.0,>=0.14.0 in /usr/local/lib/python3.10/dist-packages (from datasets) (0.17.3)\n",
            "Requirement already satisfied: packaging in /usr/local/lib/python3.10/dist-packages (from datasets) (23.1)\n",
            "Requirement already satisfied: pyyaml>=5.1 in /usr/local/lib/python3.10/dist-packages (from datasets) (6.0.1)\n",
            "Requirement already satisfied: attrs>=17.3.0 in /usr/local/lib/python3.10/dist-packages (from aiohttp->datasets) (23.1.0)\n",
            "Requirement already satisfied: charset-normalizer<4.0,>=2.0 in /usr/local/lib/python3.10/dist-packages (from aiohttp->datasets) (2.0.12)\n",
            "Requirement already satisfied: multidict<7.0,>=4.5 in /usr/local/lib/python3.10/dist-packages (from aiohttp->datasets) (6.0.4)\n",
            "Requirement already satisfied: async-timeout<5.0,>=4.0.0a3 in /usr/local/lib/python3.10/dist-packages (from aiohttp->datasets) (4.0.2)\n",
            "Requirement already satisfied: yarl<2.0,>=1.0 in /usr/local/lib/python3.10/dist-packages (from aiohttp->datasets) (1.9.2)\n",
            "Requirement already satisfied: frozenlist>=1.1.1 in /usr/local/lib/python3.10/dist-packages (from aiohttp->datasets) (1.4.0)\n",
            "Requirement already satisfied: aiosignal>=1.1.2 in /usr/local/lib/python3.10/dist-packages (from aiohttp->datasets) (1.3.1)\n",
            "Requirement already satisfied: filelock in /usr/local/lib/python3.10/dist-packages (from huggingface-hub<1.0.0,>=0.14.0->datasets) (3.12.2)\n",
            "Requirement already satisfied: typing-extensions>=3.7.4.3 in /usr/local/lib/python3.10/dist-packages (from huggingface-hub<1.0.0,>=0.14.0->datasets) (4.7.1)\n",
            "Requirement already satisfied: urllib3<1.27,>=1.21.1 in /usr/local/lib/python3.10/dist-packages (from requests>=2.19.0->datasets) (1.26.16)\n",
            "Requirement already satisfied: certifi>=2017.4.17 in /usr/local/lib/python3.10/dist-packages (from requests>=2.19.0->datasets) (2023.7.22)\n",
            "Requirement already satisfied: idna<4,>=2.5 in /usr/local/lib/python3.10/dist-packages (from requests>=2.19.0->datasets) (3.4)\n",
            "Requirement already satisfied: python-dateutil>=2.8.1 in /usr/local/lib/python3.10/dist-packages (from pandas->datasets) (2.8.2)\n",
            "Requirement already satisfied: pytz>=2020.1 in /usr/local/lib/python3.10/dist-packages (from pandas->datasets) (2022.7.1)\n",
            "Requirement already satisfied: six>=1.5 in /usr/local/lib/python3.10/dist-packages (from python-dateutil>=2.8.1->pandas->datasets) (1.16.0)\n"
          ]
        }
      ]
    },
    {
      "cell_type": "code",
      "source": [
        "# 50K imdb reviews.\n",
        "# https://huggingface.co/datasets/imdb\n",
        "dataset = load_dataset(\"imdb\", num_proc=NUM_PROC)"
      ],
      "metadata": {
        "id": "23ytzd1UyGgC"
      },
      "execution_count": 6,
      "outputs": []
    },
    {
      "cell_type": "code",
      "source": [
        "dataset"
      ],
      "metadata": {
        "colab": {
          "base_uri": "https://localhost:8080/"
        },
        "id": "3OqdYetS4g9a",
        "outputId": "14a256a0-48ce-43b6-e98f-bb85b7bda68c"
      },
      "execution_count": 7,
      "outputs": [
        {
          "output_type": "execute_result",
          "data": {
            "text/plain": [
              "DatasetDict({\n",
              "    train: Dataset({\n",
              "        features: ['text', 'label'],\n",
              "        num_rows: 25000\n",
              "    })\n",
              "    test: Dataset({\n",
              "        features: ['text', 'label'],\n",
              "        num_rows: 25000\n",
              "    })\n",
              "    unsupervised: Dataset({\n",
              "        features: ['text', 'label'],\n",
              "        num_rows: 50000\n",
              "    })\n",
              "})"
            ]
          },
          "metadata": {},
          "execution_count": 7
        }
      ]
    },
    {
      "cell_type": "code",
      "source": [
        "train_ds = dataset['train']"
      ],
      "metadata": {
        "id": "P7JmJd0WybG5"
      },
      "execution_count": 8,
      "outputs": []
    },
    {
      "cell_type": "code",
      "source": [
        "i = 0\n",
        "for it  in train_ds:\n",
        "  print(it)\n",
        "  i += 1\n",
        "  if i > 4:\n",
        "    break"
      ],
      "metadata": {
        "colab": {
          "base_uri": "https://localhost:8080/"
        },
        "id": "SWdkk8TbyhyC",
        "outputId": "af0b8e29-a67d-4569-e529-bc8fd62c10f1"
      },
      "execution_count": 9,
      "outputs": [
        {
          "output_type": "stream",
          "name": "stdout",
          "text": [
            "{'text': 'I rented I AM CURIOUS-YELLOW from my video store because of all the controversy that surrounded it when it was first released in 1967. I also heard that at first it was seized by U.S. customs if it ever tried to enter this country, therefore being a fan of films considered \"controversial\" I really had to see this for myself.<br /><br />The plot is centered around a young Swedish drama student named Lena who wants to learn everything she can about life. In particular she wants to focus her attentions to making some sort of documentary on what the average Swede thought about certain political issues such as the Vietnam War and race issues in the United States. In between asking politicians and ordinary denizens of Stockholm about their opinions on politics, she has sex with her drama teacher, classmates, and married men.<br /><br />What kills me about I AM CURIOUS-YELLOW is that 40 years ago, this was considered pornographic. Really, the sex and nudity scenes are few and far between, even then it\\'s not shot like some cheaply made porno. While my countrymen mind find it shocking, in reality sex and nudity are a major staple in Swedish cinema. Even Ingmar Bergman, arguably their answer to good old boy John Ford, had sex scenes in his films.<br /><br />I do commend the filmmakers for the fact that any sex shown in the film is shown for artistic purposes rather than just to shock people and make money to be shown in pornographic theaters in America. I AM CURIOUS-YELLOW is a good film for anyone wanting to study the meat and potatoes (no pun intended) of Swedish cinema. But really, this film doesn\\'t have much of a plot.', 'label': 0}\n",
            "{'text': '\"I Am Curious: Yellow\" is a risible and pretentious steaming pile. It doesn\\'t matter what one\\'s political views are because this film can hardly be taken seriously on any level. As for the claim that frontal male nudity is an automatic NC-17, that isn\\'t true. I\\'ve seen R-rated films with male nudity. Granted, they only offer some fleeting views, but where are the R-rated films with gaping vulvas and flapping labia? Nowhere, because they don\\'t exist. The same goes for those crappy cable shows: schlongs swinging in the breeze but not a clitoris in sight. And those pretentious indie movies like The Brown Bunny, in which we\\'re treated to the site of Vincent Gallo\\'s throbbing johnson, but not a trace of pink visible on Chloe Sevigny. Before crying (or implying) \"double-standard\" in matters of nudity, the mentally obtuse should take into account one unavoidably obvious anatomical difference between men and women: there are no genitals on display when actresses appears nude, and the same cannot be said for a man. In fact, you generally won\\'t see female genitals in an American film in anything short of porn or explicit erotica. This alleged double-standard is less a double standard than an admittedly depressing ability to come to terms culturally with the insides of women\\'s bodies.', 'label': 0}\n",
            "{'text': \"If only to avoid making this type of film in the future. This film is interesting as an experiment but tells no cogent story.<br /><br />One might feel virtuous for sitting thru it because it touches on so many IMPORTANT issues but it does so without any discernable motive. The viewer comes away with no new perspectives (unless one comes up with one while one's mind wanders, as it will invariably do during this pointless film).<br /><br />One might better spend one's time staring out a window at a tree growing.<br /><br />\", 'label': 0}\n",
            "{'text': \"This film was probably inspired by Godard's Masculin, féminin and I urge you to see that film instead.<br /><br />The film has two strong elements and those are, (1) the realistic acting (2) the impressive, undeservedly good, photo. Apart from that, what strikes me most is the endless stream of silliness. Lena Nyman has to be most annoying actress in the world. She acts so stupid and with all the nudity in this film,...it's unattractive. Comparing to Godard's film, intellectuality has been replaced with stupidity. Without going too far on this subject, I would say that follows from the difference in ideals between the French and the Swedish society.<br /><br />A movie of its time, and place. 2/10.\", 'label': 0}\n",
            "{'text': 'Oh, brother...after hearing about this ridiculous film for umpteen years all I can think of is that old Peggy Lee song..<br /><br />\"Is that all there is??\" ...I was just an early teen when this smoked fish hit the U.S. I was too young to get in the theater (although I did manage to sneak into \"Goodbye Columbus\"). Then a screening at a local film museum beckoned - Finally I could see this film, except now I was as old as my parents were when they schlepped to see it!!<br /><br />The ONLY reason this film was not condemned to the anonymous sands of time was because of the obscenity case sparked by its U.S. release. MILLIONS of people flocked to this stinker, thinking they were going to see a sex film...Instead, they got lots of closeups of gnarly, repulsive Swedes, on-street interviews in bland shopping malls, asinie political pretension...and feeble who-cares simulated sex scenes with saggy, pale actors.<br /><br />Cultural icon, holy grail, historic artifact..whatever this thing was, shred it, burn it, then stuff the ashes in a lead box!<br /><br />Elite esthetes still scrape to find value in its boring pseudo revolutionary political spewings..But if it weren\\'t for the censorship scandal, it would have been ignored, then forgotten.<br /><br />Instead, the \"I Am Blank, Blank\" rhythymed title was repeated endlessly for years as a titilation for porno films (I am Curious, Lavender - for gay films, I Am Curious, Black - for blaxploitation films, etc..) and every ten years or so the thing rises from the dead, to be viewed by a new generation of suckers who want to see that \"naughty sex film\" that \"revolutionized the film industry\"...<br /><br />Yeesh, avoid like the plague..Or if you MUST see it - rent the video and fast forward to the \"dirty\" parts, just to get it over with.<br /><br />', 'label': 0}\n"
          ]
        }
      ]
    },
    {
      "cell_type": "code",
      "source": [
        "train_ds"
      ],
      "metadata": {
        "colab": {
          "base_uri": "https://localhost:8080/"
        },
        "id": "drZrdM6PIJoz",
        "outputId": "71539dd5-dc06-407d-e267-fb97e96ad073"
      },
      "execution_count": 10,
      "outputs": [
        {
          "output_type": "execute_result",
          "data": {
            "text/plain": [
              "Dataset({\n",
              "    features: ['text', 'label'],\n",
              "    num_rows: 25000\n",
              "})"
            ]
          },
          "metadata": {},
          "execution_count": 10
        }
      ]
    },
    {
      "cell_type": "markdown",
      "source": [
        "# Prepare DS\n",
        "\n",
        "- The original BERT uses BooksCorpus (800M words) and English Wikipedia (2,500M words) for pre-training.\n",
        "- We use IMDB reviews data with ~72k words."
      ],
      "metadata": {
        "id": "UrlatiLTy2RW"
      }
    },
    {
      "cell_type": "code",
      "source": [
        "class Counter():\n",
        "  \"\"\"Store the counts for individual tokens.\"\"\"\n",
        "  def __init__(self):\n",
        "    self.token_to_counts = {}\n",
        "\n",
        "  def update(self, tokens:  List[int]):\n",
        "    \"\"\"Update the counts with new tokens\"\"\"\n",
        "    for t in tokens:\n",
        "      if t in self.token_to_counts:\n",
        "        self.token_to_counts[t] += 1\n",
        "      else:\n",
        "        self.token_to_counts[t] = 1\n",
        "\n",
        "  def get(self) -> Dict[str, int]:\n",
        "    return self.token_to_counts.copy()\n",
        "\n",
        "  def __str__(self):\n",
        "    s = sorted(self.token_to_counts.items(), key=lambda x:x[1], reverse=True)\n",
        "    return s.__str__()"
      ],
      "metadata": {
        "id": "jk9z_0d_Kwvb"
      },
      "execution_count": 11,
      "outputs": []
    },
    {
      "cell_type": "code",
      "source": [
        "class Vocab:\n",
        "  def __init__(self):\n",
        "    self.ttoi = {}\n",
        "    self.itot = {}\n",
        "\n",
        "  def insert_token(self, t: str):\n",
        "    assert t not in self.ttoi\n",
        "    i = len(self.ttoi)\n",
        "    self.ttoi[t] = i\n",
        "    self.itot[i] = t\n",
        "\n",
        "  def lookup_indices(self, tokens: List[str]):\n",
        "    \"\"\"Given a list of tokens in string, return the list of indices.\n",
        "\n",
        "    Args:\n",
        "      tokens: a list of tokens\n",
        "\n",
        "    Return:\n",
        "      a list of indices.\n",
        "    \"\"\"\n",
        "    ret = []\n",
        "    for t in tokens:\n",
        "      if t in self.ttoi:\n",
        "        ret.append(self.ttoi[t])\n",
        "      else:\n",
        "        ret.append(self.ttoi['[UNK]'])\n",
        "\n",
        "    return ret\n",
        "\n",
        "  def lookup_token(self, index: int):\n",
        "    return self.itot[index]"
      ],
      "metadata": {
        "id": "dhdTZ-KmQIyA"
      },
      "execution_count": 12,
      "outputs": []
    },
    {
      "cell_type": "code",
      "source": [
        "# Define special tokens as attributes of class\n",
        "CLS = '[CLS]'\n",
        "PAD = '[PAD]'\n",
        "SEP = '[SEP]'\n",
        "MASK = '[MASK]'\n",
        "UNK = '[UNK]'"
      ],
      "metadata": {
        "id": "lclatUedCz1-"
      },
      "execution_count": 13,
      "outputs": []
    },
    {
      "cell_type": "code",
      "source": [
        "from torchtext.data import get_tokenizer\n",
        "\n",
        "tokenizer = get_tokenizer('basic_english')\n",
        "\n",
        "def build_vocab(ds: List[str], tokenizer) -> Vocab:\n",
        "  sentences = []\n",
        "  nsp = []\n",
        "\n",
        "  counter = Counter()\n",
        "  vocab = Vocab()\n",
        "\n",
        "  def _fill_vocab(vocab, counter, min_freq=2):\n",
        "    vocab.insert_token(CLS)\n",
        "    vocab.insert_token(PAD)\n",
        "    vocab.insert_token(MASK)\n",
        "    vocab.insert_token(SEP)\n",
        "    vocab.insert_token(UNK)\n",
        "\n",
        "    token_to_counts = counter.get()\n",
        "    for t, counts in tqdm(token_to_counts.items()):\n",
        "      if counts >= min_freq:\n",
        "        vocab.insert_token(t)\n",
        "\n",
        "  # split ds on sentences\n",
        "  for review in ds:\n",
        "    review_sentences = review.split('. ')\n",
        "    sentences += review_sentences\n",
        "\n",
        "  # Create vocab\n",
        "  print(\"Create vocabulary\")\n",
        "  for s in tqdm(sentences):\n",
        "    counter.update(tokenizer(s))\n",
        "  _fill_vocab(vocab, counter)\n",
        "  print(f'\\nvocab size = {len(vocab.ttoi)}')\n",
        "\n",
        "  return vocab\n",
        "\n",
        "vocab = build_vocab(dataset['train']['text'] + dataset['test']['text'], tokenizer)"
      ],
      "metadata": {
        "colab": {
          "base_uri": "https://localhost:8080/",
          "height": 133,
          "referenced_widgets": [
            "ab412efd05c84d7a86e47061ba1f2e37",
            "b4b4c2bc43d948549c49d005c7bcfca0",
            "02e91acd96b040ef9c8f75be9bf97335",
            "bb895e7e069649f7a0bdb834a6386500",
            "802b14db17b2414b8818855df510bd9f",
            "48e92bc1fe2e4d6f8b5553e957d0464b",
            "74a88d61245540c790cbd2b9c5e9ade7",
            "eab472158880440f98433095cfda898f",
            "cb496e42d1be418dae0f13f0977eebd5",
            "fcd3bc118e734c2897d550c7ab8b0be8",
            "d9f16d0afc8a40faa7dcf11cb89daaa4",
            "aa872862c3954cc99f058695fdf3a697",
            "bbf73cb2313847429c627a1e18ce74bd",
            "98fe997892be407daf6ac387b8f9ffd1",
            "5fd55c49e7484b61951d63525ccc5291",
            "a630b36fce0847e188e8babd4b7bdda9",
            "21d7f75e9aef4ca6a36af2a9bc6ddc5d",
            "bf41406a44414695a1ad509bcad0fac7",
            "ebd4ff43c82e4ded8cc68d016ffef30a",
            "8095dd7df95448458159c422268eecac",
            "8cf819dabb3d4b249e8f95b8cab2cacd",
            "7474d9c6d5294a919f32865c0b12cb68"
          ]
        },
        "id": "2M0By7Zb6gTJ",
        "outputId": "0dcf1999-f422-4dc3-93ef-54591e6f3532"
      },
      "execution_count": 15,
      "outputs": [
        {
          "output_type": "stream",
          "name": "stdout",
          "text": [
            "Create vocabulary\n"
          ]
        },
        {
          "output_type": "display_data",
          "data": {
            "text/plain": [
              "  0%|          | 0/491161 [00:00<?, ?it/s]"
            ],
            "application/vnd.jupyter.widget-view+json": {
              "version_major": 2,
              "version_minor": 0,
              "model_id": "ab412efd05c84d7a86e47061ba1f2e37"
            }
          },
          "metadata": {}
        },
        {
          "output_type": "display_data",
          "data": {
            "text/plain": [
              "  0%|          | 0/147156 [00:00<?, ?it/s]"
            ],
            "application/vnd.jupyter.widget-view+json": {
              "version_major": 2,
              "version_minor": 0,
              "model_id": "aa872862c3954cc99f058695fdf3a697"
            }
          },
          "metadata": {}
        },
        {
          "output_type": "stream",
          "name": "stdout",
          "text": [
            "\n",
            "vocab size = 71942\n"
          ]
        }
      ]
    },
    {
      "cell_type": "code",
      "source": [
        "def find_optimal_sentence_length(ds: List[str], optimal_length_percentile: int) -> int:\n",
        "  sentences = []\n",
        "  nsp = []\n",
        "  sentence_lens = []\n",
        "\n",
        "  def _update_length(review_sentences: List[str],\n",
        "                     sentence_lens: List[int]):\n",
        "    for s in review_sentences:\n",
        "      sentence_lens.append(len(s.split()))\n",
        "\n",
        "  # split ds on sentences\n",
        "  for review in ds:\n",
        "    review_sentences = review.split('. ')\n",
        "    sentences += review_sentences\n",
        "    _update_length(review_sentences, sentence_lens)\n",
        "\n",
        "  def _find_optimal_sentence_length(sentence_lens: List[int]):\n",
        "    arr = np.array(sentence_lens)\n",
        "    ret = int(np.percentile(arr, optimal_length_percentile))\n",
        "    return ret\n",
        "\n",
        "  optimal_sentence_length = _find_optimal_sentence_length(sentence_lens)\n",
        "\n",
        "  return optimal_sentence_length\n",
        "\n",
        "optimal_sentence_length = find_optimal_sentence_length(\n",
        "    dataset['train']['text'] + dataset['test']['text'], OPTIMAL_LENGTH_PERCENTILE)\n",
        "print(f'{optimal_sentence_length=}')"
      ],
      "metadata": {
        "colab": {
          "base_uri": "https://localhost:8080/"
        },
        "id": "Vvvx32Xz-YYf",
        "outputId": "72ad4e93-1268-4fc5-a4f6-4445bbbe5798"
      },
      "execution_count": 16,
      "outputs": [
        {
          "output_type": "stream",
          "name": "stdout",
          "text": [
            "optimal_sentence_length=27\n"
          ]
        }
      ]
    },
    {
      "cell_type": "code",
      "source": [
        "from torch.utils.data import Dataset\n",
        "import pandas as pd\n",
        "import random\n",
        "\n",
        "class IMDBBertDataset(Dataset):\n",
        "  \"\"\"Dataset class.\n",
        "\n",
        "  Bert has two tasks\n",
        "  1) MLM (Mask LM)\n",
        "  2) NSP (Next sentence prediction)\n",
        "\n",
        "  Each example from this dataset contain info for both tasks.\n",
        "  \"\"\"\n",
        "\n",
        "  MASK_PERCENTAGE = 0.15\n",
        "\n",
        "  # ============================================================================\n",
        "  # These are used as column keys in the generated examples (pandas.DataFrameformat)\n",
        "\n",
        "  # The masked sentence's indices in its encoded form.\n",
        "  MASKED_INDICES_COLUMN = 'masked_indices'\n",
        "  # The unmasked sentence's indices in its encoded form.\n",
        "  TARGET_COLUMN = 'indices'\n",
        "  # The NSP task's label.\n",
        "  NSP_TARGET_COLUMN = 'is_next'\n",
        "  # The positions of the masked tokens (either [MASK], or replaced with a random\n",
        "  # token), inversed. For masked token, the corresponding position's value is\n",
        "  # False (that is why it is called inversed); otherwise True. Note that [CLS],\n",
        "  # [PAD], [SEP], [UNK] are NOT considered as mask.\n",
        "  INVERSE_TOKEN_MASK_COLUMN = 'inverse_token_mask'\n",
        "  # ============================================================================\n",
        "\n",
        "\n",
        "\n",
        "  def __init__(self,\n",
        "               tokenizer,\n",
        "               vocab: Vocab,\n",
        "               ds_from: List[str],\n",
        "               optimal_sentence_length: int,\n",
        "               should_include_text: bool=False):\n",
        "    \"\"\"\n",
        "    Args:\n",
        "      should_include_text: if true, include the raw text in the dataset. This\n",
        "        should only be used for debugging purpose.\n",
        "    \"\"\"\n",
        "    super().__init__()\n",
        "\n",
        "    # self.ds = ds_from\n",
        "    self.ds = []\n",
        "    # for it in dataset['train']:\n",
        "    for it in ds_from:\n",
        "      self.ds.append(it['text'])\n",
        "      # self.ds.append(it)\n",
        "\n",
        "    # self.tokenizer = get_tokenizer('basic_english')\n",
        "    self.tokenizer = tokenizer\n",
        "    # self.counter = Counter()\n",
        "    self.vocab = vocab\n",
        "\n",
        "    self.optimal_sentence_length = optimal_sentence_length\n",
        "    # print(f'{self.optimal_sentence_length=}')\n",
        "    self.should_include_text = should_include_text\n",
        "\n",
        "    if self.should_include_text:\n",
        "      self.columns = [\n",
        "          'masked_sentence',\n",
        "          self.MASKED_INDICES_COLUMN,\n",
        "          'sentence',\n",
        "          self.TARGET_COLUMN,\n",
        "          self.INVERSE_TOKEN_MASK_COLUMN,\n",
        "          self.NSP_TARGET_COLUMN,\n",
        "      ]\n",
        "    else:\n",
        "      self.columns = [\n",
        "          self.MASKED_INDICES_COLUMN,\n",
        "          self.TARGET_COLUMN,\n",
        "          self.INVERSE_TOKEN_MASK_COLUMN,\n",
        "          self.NSP_TARGET_COLUMN,\n",
        "      ]\n",
        "\n",
        "    self.df = self._prepare_dataset()\n",
        "\n",
        "  def __len__(self):\n",
        "      return len(self.df)\n",
        "\n",
        "  def __getitem__(self, idx: int)-> (torch.Tensor,\n",
        "                                     torch.Tensor,\n",
        "                                     torch.Tensor,\n",
        "                                     torch.Tensor,\n",
        "                                     torch.Tensor):\n",
        "    \"\"\"Implement self[idx] interface.\n",
        "\n",
        "    Args:\n",
        "      idx: the index of the example to get.\n",
        "\n",
        "    Returns:\n",
        "      inp: the encoded example. Note that for Bert the raw example is in form\n",
        "        \"[CLS] sen1 [SEP] sen2 [SEP]\", where sen1 and sen2 are already masked\n",
        "        and padded.\n",
        "      attention_mask: True when input token is [PAD], otherwise False. It is\n",
        "        used in the training process to extinguish the embeddings for [PAD]\n",
        "        tokens to exclude [PAD] when calculating transfomer prediction.\n",
        "      inverse_token_mask: see the comment for INVERSE_TOKEN_MASK_COLUMN.\n",
        "      mlm_target: the MLM target. At the masked positions, it is the index of\n",
        "        the expected token; at other positions, it is set to 0. Later in the\n",
        "        model's loss, we use NLLLoss(ignore_index=0) to ignore the target which\n",
        "        equal to 0 when calculating the loss. That's why we set the non-masked\n",
        "        position's target to 0.\n",
        "      nsp_target: the NSP target. It is a tensor of two items. It can be only in\n",
        "        two states designating whether it is next sentence or not. If yes, it is\n",
        "        [0, 1]; if not, it is [1, 0]. We use BCEWithLogitsLoss for training,\n",
        "        which expect this format.\n",
        "    \"\"\"\n",
        "    item = self.df.iloc[idx]\n",
        "\n",
        "    inp = torch.Tensor(item[self.MASKED_INDICES_COLUMN]).long()\n",
        "\n",
        "    attention_mask = (inp == self.vocab.lookup_indices([PAD])[0])\n",
        "\n",
        "    inverse_token_mask = torch.Tensor(item[self.INVERSE_TOKEN_MASK_COLUMN]).bool()\n",
        "\n",
        "    # MLM target.\n",
        "    mlm_target = torch.Tensor(item[self.TARGET_COLUMN]).long()\n",
        "    # Set the non-masked positions to be 0.\n",
        "    mlm_target = mlm_target.masked_fill_(inverse_token_mask, 0)\n",
        "\n",
        "    # NSP target\n",
        "    if item[self.TARGET_COLUMN] == 0: # 2nd sen is not the next for 1st sen\n",
        "      t = [1, 0]\n",
        "    else:\n",
        "      t = [0, 1]\n",
        "    nsp_target = torch.Tensor(t)\n",
        "\n",
        "    return (\n",
        "        inp.to(device),\n",
        "        attention_mask.to(device),\n",
        "        inverse_token_mask.to(device),\n",
        "        mlm_target.to(device),\n",
        "        nsp_target.to(device)\n",
        "    )\n",
        "\n",
        "  def _create_item(self,\n",
        "                   first: List[str],\n",
        "                   second: List[str],\n",
        "                   target: int) -> (List[str], List[int], List[str], List[int], List[bool], int):\n",
        "    \"\"\"Create an example.\n",
        "\n",
        "    Args:\n",
        "      first: the first sentence\n",
        "      second: the second sentence\n",
        "      target: the NSP label. E.g. if the second is the next sentence of first, true; otherwise, false.\n",
        "\n",
        "    Returns:\n",
        "      nsp_sentence: the example in str format. It is the contatenation of the two input sentences, with masking and padding.\n",
        "      nsp_indices: indices of nsp_sentence.\n",
        "      original_nsp_sentence: nsp_sentence without masking and padding.\n",
        "      original_nsp_indices: indices of original_nsp_sentence.\n",
        "      inverse_token_mask: indicates the corresponding indices are NOT masked. If\n",
        "        the corresponding token is masked, False; otherwise, True. Also see\n",
        "        comment for INVERSE_TOKEN_MASK_COLUMN.\n",
        "      target: the same as target in Args.\n",
        "    \"\"\"\n",
        "    # Create masked and padded sentence item\n",
        "    first_updated, first_inverse_token_mask = self._preprocess_sentence(first.copy(), should_mask=True)\n",
        "    second_updated, second_inverse_token_mask = self._preprocess_sentence(second.copy(), should_mask=True)\n",
        "\n",
        "    # BERT was pretrained using the format [CLS] sen A [SEP] sen B [SEP].\n",
        "    nsp_sentence = [CLS] + first_updated + [SEP] + second_updated + [SEP]\n",
        "    nsp_indices = self.vocab.lookup_indices(nsp_sentence)\n",
        "    inverse_token_mask = [True] + first_inverse_token_mask + [True] + second_inverse_token_mask + [True]\n",
        "\n",
        "    # Create padded only item without masking\n",
        "    first, _ = self._preprocess_sentence(first.copy(), should_mask=False)\n",
        "    second, _ = self._preprocess_sentence(second.copy(), should_mask=False)\n",
        "\n",
        "    original_nsp_sentence = [CLS] + first + [SEP] + second + [SEP]\n",
        "    original_nsp_indices = self.vocab.lookup_indices(original_nsp_sentence)\n",
        "\n",
        "    if self.should_include_text:\n",
        "      return (\n",
        "          nsp_sentence,\n",
        "          nsp_indices,\n",
        "          original_nsp_sentence,\n",
        "          original_nsp_indices,\n",
        "          inverse_token_mask,\n",
        "          target\n",
        "      )\n",
        "    else:\n",
        "      return (\n",
        "          nsp_indices,\n",
        "          original_nsp_indices,\n",
        "          inverse_token_mask,\n",
        "          target\n",
        "      )\n",
        "\n",
        "  def _select_false_nsp_sentences(self, sentences: List[str]):\n",
        "    sentences_len = len(sentences)\n",
        "    i1 = random.randint(0, sentences_len-1)\n",
        "    i2 = random.randint(0, sentences_len-1)\n",
        "\n",
        "    # Make sure they are really not NSP\n",
        "    while i1 == i2 - 1:\n",
        "      i2 = random.randint(0, sentences_len-1)\n",
        "\n",
        "    return sentences[i1], sentences[i2]\n",
        "\n",
        "  def _preprocess_sentence(self,\n",
        "                           sentence: List[str],\n",
        "                           should_mask: bool=True) -> (List[str], List[bool]):\n",
        "    \"\"\"Preprocess the sentence.\n",
        "\n",
        "    1. Mask\n",
        "    2. Pad\n",
        "\n",
        "    Args:\n",
        "      sentence: the sentence to preprocess\n",
        "      should_mask: whether to mask the sentence\n",
        "\n",
        "    Returns:\n",
        "      sentence: the masked sentence.\n",
        "      inverse_token_mask: a list of boolean, which indicates the corresponding\n",
        "        indices are NOT masked. If the corresponding token is masked, false;\n",
        "        otherwise, true. Also see comment for INVERSE_TOKEN_MASK_COLUMN.\n",
        "    \"\"\"\n",
        "    inverse_token_mask = None\n",
        "    if should_mask:\n",
        "      sentence, inverse_token_mask = self._mask_sentence(sentence)\n",
        "\n",
        "    sentence, inverse_token_mask = self._pad_sentence(sentence, inverse_token_mask)\n",
        "\n",
        "    return sentence, inverse_token_mask\n",
        "\n",
        "  def _mask_sentence(self, sentence: List[str]) -> (List[str], List[bool]):\n",
        "    \"\"\"Mask the sentence.\n",
        "\n",
        "    Choose self.MASK_PERCENTAGE tokens randomly to do the mask. Of the masks,\n",
        "    80% are updated to [MASK], 20% are updated to a random token in the vocab.\n",
        "\n",
        "    Args:\n",
        "      sentence: the sentence to mask\n",
        "\n",
        "    Returns:\n",
        "      sentence: the masked sentence.\n",
        "      inverse_token_mask: a list of boolean, which indicates the corresponding\n",
        "        indices are NOT masked. If the corresponding token is masked, false;\n",
        "        otherwise, true. Also see comment for INVERSE_TOKEN_MASK_COLUMN.\n",
        "    \"\"\"\n",
        "    len_s = len(sentence)\n",
        "\n",
        "    # Mask random 15% tokens in the sentence.\n",
        "    mask_amount = round(len_s * self.MASK_PERCENTAGE)\n",
        "    mask_index = random.sample(range(0, len_s), mask_amount)\n",
        "\n",
        "    # False at the index where the token is masked\n",
        "    inverse_token_mask = [True for i in range(len_s)]\n",
        "\n",
        "    assert mask_amount == len(mask_index)\n",
        "    assert len_s == len(inverse_token_mask)\n",
        "\n",
        "    # For the tokens to be masked, 80% update them to [MASK], 20% update to\n",
        "    # random tokens.\n",
        "    for ix in mask_index:\n",
        "      if random.uniform(0, 1) < 0.8:\n",
        "        sentence[ix] = MASK\n",
        "      else:\n",
        "        # for 20% avoid update to the special tokens.\n",
        "        token_i = random.randrange(5, len(self.vocab.itot))\n",
        "        sentence[ix] = self.vocab.lookup_token(token_i)\n",
        "\n",
        "      inverse_token_mask[ix] = False\n",
        "\n",
        "    return sentence, inverse_token_mask\n",
        "\n",
        "  def _pad_sentence(self,\n",
        "                    sentence: List[str],\n",
        "                    inverse_token_mask: List[bool]=None) -> (List[str], List[bool]):\n",
        "    len_s = len(sentence)\n",
        "\n",
        "    assert self.optimal_sentence_length != None\n",
        "\n",
        "    if len_s > self.optimal_sentence_length:\n",
        "      sentence = sentence[:self.optimal_sentence_length]\n",
        "    else:\n",
        "      sentence = sentence + [PAD] * (self.optimal_sentence_length - len_s)\n",
        "\n",
        "    if inverse_token_mask != None:\n",
        "      assert len_s == len(inverse_token_mask), f\"sentence {len_s} and inverse_token_mask {len(inverse_token_mask)} should have the same length\"\n",
        "\n",
        "      if len_s > self.optimal_sentence_length:\n",
        "        inverse_token_mask = inverse_token_mask[:self.optimal_sentence_length]\n",
        "      else:\n",
        "        # [PAD] is not considered as masked, so set to True here.\n",
        "        inverse_token_mask = inverse_token_mask + [True] * (self.optimal_sentence_length - len_s)\n",
        "\n",
        "    return sentence, inverse_token_mask\n",
        "\n",
        "  def _prepare_dataset(self) -> pd.DataFrame:\n",
        "    \"\"\"Generate the dataset.\n",
        "\n",
        "    Return:\n",
        "      The generated dataset.\n",
        "    \"\"\"\n",
        "    sentences = []\n",
        "    nsp = []\n",
        "\n",
        "    # split ds on sentences\n",
        "    for review in self.ds:\n",
        "      review_sentences = review.split('. ')\n",
        "      sentences += review_sentences\n",
        "\n",
        "    iiii = 0\n",
        "    print('Building examples...')\n",
        "    for i in tqdm(range(len(self.ds))):\n",
        "      review = self.ds[i]\n",
        "    # for review in self.ds:\n",
        "      review_sentences = review.split('. ')\n",
        "      # For each review with >1 sentence we create true NSP examples (when the\n",
        "      # 2nd sentence is the next sentence in review) and false NSP examples (\n",
        "      # when the 2nd sentence is any random sentence that is not the next\n",
        "      # sentence in review)\n",
        "      if len(review_sentences) > 1:\n",
        "        for i in range(len(review_sentences) - 1):\n",
        "          # True NSP item\n",
        "          first, second = self.tokenizer(review_sentences[i]), self.tokenizer(review_sentences[i+1])\n",
        "          # print(f'{first=}, {second=}')\n",
        "          nsp.append(self._create_item(first, second, target=1))\n",
        "\n",
        "          # False NSP item\n",
        "          first, second = self._select_false_nsp_sentences(sentences)\n",
        "          first, second = self.tokenizer(first), self.tokenizer(second)\n",
        "          # print(f'{first=}, {second=}')\n",
        "          nsp.append(self._create_item(first, second, target=0))\n",
        "\n",
        "    df = pd.DataFrame(nsp, columns=self.columns)\n",
        "    return df\n",
        "\n",
        "ds_train = IMDBBertDataset(tokenizer,\n",
        "                           vocab,\n",
        "                           ds_from=dataset['train'],\n",
        "                           optimal_sentence_length=optimal_sentence_length,\n",
        "                           should_include_text=False)"
      ],
      "metadata": {
        "colab": {
          "base_uri": "https://localhost:8080/",
          "height": 67,
          "referenced_widgets": [
            "70a1d2daf7ee4f958a4e25dcd00cd756",
            "1084f975ee5740f9aae64ec50cc149d8",
            "983f349139eb4a87bff5ffbf4b21cc77",
            "7434db08aca048548156b13e198c8e9b",
            "e0ac6ce85f6340c0875b806313fa5921",
            "7bb818fbf29e4118ac2cc97a31465e08",
            "f9d12a0dbfc649daa17620a21b2906fc",
            "e1f36b3a3e8f49fcba5dca39c4753e24",
            "bf742f11ff9a484ebed0cd90b4b5790f",
            "b7fb092b3a664390b3db4413f5395d8a",
            "824cdebd02234c20a7220a8ec2053afb"
          ]
        },
        "id": "xdy7uteQzh-K",
        "outputId": "ec6c7c66-14df-4954-9cb6-87506644483f"
      },
      "execution_count": 17,
      "outputs": [
        {
          "output_type": "stream",
          "name": "stdout",
          "text": [
            "Building examples...\n"
          ]
        },
        {
          "output_type": "display_data",
          "data": {
            "text/plain": [
              "  0%|          | 0/25000 [00:00<?, ?it/s]"
            ],
            "application/vnd.jupyter.widget-view+json": {
              "version_major": 2,
              "version_minor": 0,
              "model_id": "70a1d2daf7ee4f958a4e25dcd00cd756"
            }
          },
          "metadata": {}
        }
      ]
    },
    {
      "cell_type": "code",
      "source": [
        "ds_dev = IMDBBertDataset(tokenizer,\n",
        "                         vocab,\n",
        "                         ds_from=dataset['test'],\n",
        "                         optimal_sentence_length=optimal_sentence_length,\n",
        "                         should_include_text=False)"
      ],
      "metadata": {
        "colab": {
          "base_uri": "https://localhost:8080/",
          "height": 67,
          "referenced_widgets": [
            "84935d2ff3f245eaa47ec780aa6cc7ae",
            "20a7df51978c4b13a7593b7b5714851c",
            "903b5a357dc64fca9704dca9dd0c1fe9",
            "46fac126f3444d539b34ebbfa9bf9171",
            "e857de125f8e4d80857ed27b7481e601",
            "8ec30bca989a41f09de02d0a5fca4a8a",
            "872c4eeab8db41aeb875bf64a61243b8",
            "8bb29e4da1e542ec94ce7251376b14d9",
            "f9572f1964554ebc9d14d58f5991f34e",
            "dd6215d906a44384aaf6db360dcbdb1b",
            "41f6e84c0c024087bed13cdf73af1e96"
          ]
        },
        "id": "4rJLdhbZRaoG",
        "outputId": "ccd3d160-502d-4451-ad13-baf2f36217fe"
      },
      "execution_count": 18,
      "outputs": [
        {
          "output_type": "stream",
          "name": "stdout",
          "text": [
            "Building examples...\n"
          ]
        },
        {
          "output_type": "display_data",
          "data": {
            "text/plain": [
              "  0%|          | 0/25000 [00:00<?, ?it/s]"
            ],
            "application/vnd.jupyter.widget-view+json": {
              "version_major": 2,
              "version_minor": 0,
              "model_id": "84935d2ff3f245eaa47ec780aa6cc7ae"
            }
          },
          "metadata": {}
        }
      ]
    },
    {
      "cell_type": "code",
      "source": [
        "# BERT was pretrained using the format [CLS] sen A [SEP] sen B [SEP].assert len(ds.df.iloc[0,:]['masked_indices']) == 3 + 2 * ds.optimal_sentence_length"
      ],
      "metadata": {
        "id": "Z7EO8WEKaTgA"
      },
      "execution_count": 19,
      "outputs": []
    },
    {
      "cell_type": "code",
      "source": [
        "ds=None"
      ],
      "metadata": {
        "id": "hH-7hQhiM7A7"
      },
      "execution_count": 20,
      "outputs": []
    },
    {
      "cell_type": "code",
      "source": [
        "type(dataset['test']['text'])"
      ],
      "metadata": {
        "colab": {
          "base_uri": "https://localhost:8080/"
        },
        "id": "mYJLTSK19E5V",
        "outputId": "eb5637b8-fafb-420a-e90e-a5cc7f3b6b94"
      },
      "execution_count": 21,
      "outputs": [
        {
          "output_type": "execute_result",
          "data": {
            "text/plain": [
              "list"
            ]
          },
          "metadata": {},
          "execution_count": 21
        }
      ]
    },
    {
      "cell_type": "code",
      "source": [
        "ds_train.df.iloc[0,:]['inverse_token_mask']"
      ],
      "metadata": {
        "colab": {
          "base_uri": "https://localhost:8080/"
        },
        "id": "bVTSL7VEdAUF",
        "outputId": "603facd6-ea13-402d-e19a-5f4b5e192c65"
      },
      "execution_count": 22,
      "outputs": [
        {
          "output_type": "execute_result",
          "data": {
            "text/plain": [
              "[True,\n",
              " True,\n",
              " True,\n",
              " True,\n",
              " False,\n",
              " False,\n",
              " True,\n",
              " True,\n",
              " True,\n",
              " True,\n",
              " True,\n",
              " True,\n",
              " True,\n",
              " True,\n",
              " False,\n",
              " True,\n",
              " True,\n",
              " True,\n",
              " True,\n",
              " True,\n",
              " True,\n",
              " True,\n",
              " False,\n",
              " True,\n",
              " True,\n",
              " True,\n",
              " True,\n",
              " True,\n",
              " True,\n",
              " True,\n",
              " True,\n",
              " True,\n",
              " True,\n",
              " True,\n",
              " True,\n",
              " True,\n",
              " True,\n",
              " False,\n",
              " True,\n",
              " True,\n",
              " True,\n",
              " False,\n",
              " True,\n",
              " True,\n",
              " True,\n",
              " True,\n",
              " True,\n",
              " True,\n",
              " True,\n",
              " True,\n",
              " True,\n",
              " True,\n",
              " True,\n",
              " True,\n",
              " True,\n",
              " True,\n",
              " True]"
            ]
          },
          "metadata": {},
          "execution_count": 22
        }
      ]
    },
    {
      "cell_type": "code",
      "source": [
        "ds_train.df.iloc[0,:]['is_next']"
      ],
      "metadata": {
        "colab": {
          "base_uri": "https://localhost:8080/"
        },
        "id": "ydf77KzkdOGO",
        "outputId": "217eb5e5-2cc0-4e0e-dba7-e02beceb8971"
      },
      "execution_count": 23,
      "outputs": [
        {
          "output_type": "execute_result",
          "data": {
            "text/plain": [
              "1"
            ]
          },
          "metadata": {},
          "execution_count": 23
        }
      ]
    },
    {
      "cell_type": "markdown",
      "source": [
        "# Model"
      ],
      "metadata": {
        "id": "fFiuPDAvJ9Mi"
      }
    },
    {
      "cell_type": "code",
      "source": [
        "class JointEmbedding(torch.nn.Module):\n",
        "  \"\"\"Embedding layers for tokens.\n",
        "\n",
        "  Bert uses a combination of three different embeddings:\n",
        "\n",
        "  1. Token embedding\n",
        "  2. Segment embedding\n",
        "  3. Pos embedding\n",
        "\n",
        "  \"\"\"\n",
        "  def __init__(self, vocab_size: int, embedding_dim: int):\n",
        "    super().__init__()\n",
        "\n",
        "    self.token_emb = torch.nn.Embedding(num_embeddings=vocab_size, embedding_dim=embedding_dim)\n",
        "    self.seg_emb = torch.nn.Embedding(num_embeddings=2, embedding_dim=embedding_dim)\n",
        "    # Here we don't fix the length of the sen to be handled, so we give\n",
        "    # `num_embeddings=1000` a relatively large number so that it can handle up\n",
        "    # to 1000 length sentence. If the sentence length is fixed, num_embeddings\n",
        "    # should be the fixed sentence length.\n",
        "    self.pos_emb = torch.nn.Embedding(num_embeddings=1000, embedding_dim=embedding_dim)\n",
        "\n",
        "    # TODO: use the norm\n",
        "    self.norm = torch.nn.LayerNorm(embedding_dim)\n",
        "\n",
        "  def forward(self, x):\n",
        "    sentence_len = x.shape[-1]\n",
        "\n",
        "    # 1st half of sen is 0, 2nd half is 1\n",
        "    seg_tensor = torch.zeros_like(x).to(device)\n",
        "    seg_tensor[:, sentence_len // 2+1:] = 1\n",
        "    # print(f'{seg_tensor=}')\n",
        "\n",
        "    # TODO: use periodic functions to encode positions. See https://coaxsoft.com/blog/building-bert-with-pytorch-from-scratch\n",
        "    pos_tensor = torch.arange(sentence_len).to(device)\n",
        "    # print(f'{pos_tensor=}')\n",
        "\n",
        "    combined = self.token_emb(x) + self.seg_emb(seg_tensor) + self.pos_emb(pos_tensor)\n",
        "\n",
        "    return combined"
      ],
      "metadata": {
        "id": "juR-lBTy_Kvj"
      },
      "execution_count": 24,
      "outputs": []
    },
    {
      "cell_type": "code",
      "source": [
        "class LayerNorm(torch.nn.Module):\n",
        "  \"\"\" LayerNorm but with an optional bias. PyTorch doesn't support simply bias=False \"\"\"\n",
        "\n",
        "  def __init__(self, ndim: int, bias: bool):\n",
        "    super().__init__()\n",
        "    self.weight = torch.nn.Parameter(torch.ones(ndim)).to(device)\n",
        "    self.bias = torch.nn.Parameter(torch.zeros(ndim)).to(device) if bias else None\n",
        "\n",
        "  def forward(self, x):\n",
        "    return F.layer_norm(x, self.weight.shape, self.weight, self.bias, 1e-5)"
      ],
      "metadata": {
        "id": "tl-O9H6VO0j1"
      },
      "execution_count": 25,
      "outputs": []
    },
    {
      "cell_type": "code",
      "source": [
        "class AttentionHead(torch.nn.Module):\n",
        "  def __init__(self, d_in: int, d_head: int, d_hidden: int):\n",
        "    \"\"\"One single Attention head.\n",
        "\n",
        "    Args:\n",
        "      d_in: input dim\n",
        "      d_head: output dim (how many heads)\n",
        "      d_hidden: dim of the hidden FFN\n",
        "    \"\"\"\n",
        "\n",
        "    super().__init__()\n",
        "\n",
        "    self.d_head = d_head\n",
        "\n",
        "    self.query = torch.nn.Linear(d_in, d_head, bias=False)\n",
        "    self.key = torch.nn.Linear(d_in, d_head, bias=False)\n",
        "    self.value = torch.nn.Linear(d_in, d_head, bias=False)\n",
        "\n",
        "  def forward(self, x: torch.Tensor, attention_mask: torch.Tensor):\n",
        "    \"\"\"\n",
        "    Args:\n",
        "      attention_mask: True at the [PAD] positions. (B, T)\n",
        "    \"\"\"\n",
        "\n",
        "    # x: (B, T, d_in)\n",
        "\n",
        "    T = x.shape[-2]\n",
        "\n",
        "    q = self.query(x) # (B, T, d_head)\n",
        "    k = self.key(x)   # (B, T, d_head)\n",
        "    v = self.value(x) # (B, T, d_head)\n",
        "\n",
        "    # Here it doesn't matter if (k @ q^T) or (q @ k^T)\n",
        "    #\n",
        "    # Let's ignore B dim, then\n",
        "    #\n",
        "    # (k @ q^T) = (q @ k^T)^T\n",
        "    #\n",
        "    # Although (k @ q^T) equals the transpose of (q @ k^T), becuase query matrix\n",
        "    # and key matrix are learned, they will just learn to adapt to its setup.\n",
        "    score = k @ q.transpose(-2, -1)   # (B, T, T)\n",
        "    # print(f'{score.shape=}')\n",
        "    score = score * self.d_head**-0.5 # (B, T, T)\n",
        "\n",
        "    # attention_mask is (B, T), and unsqueezed to (B, 1, T), score is (B, T, T).\n",
        "    # When applying masked_fill_(), attention_mask is broadcasted to (B, T, T)\n",
        "    #\n",
        "    # Let's ignore B dim, and say\n",
        "    #\n",
        "    #         a11 a12\n",
        "    # score = a21 a22\n",
        "    #\n",
        "    # Because the -2 dim is broadcast, score can be written\n",
        "    #\n",
        "    #         a1 a2\n",
        "    # score = a1 a2\n",
        "    #\n",
        "    # Say\n",
        "    #\n",
        "    #      b11 b12 b13\n",
        "    # v =  b21 b22 b23\n",
        "    #\n",
        "    # Then\n",
        "    #\n",
        "    #             a1*b11+a2*b21 a1*b12+a2*b22 a1*b13+a2*b23\n",
        "    # score @ v = a1*b11+a2*b21 a1*b12+a2*b22 a1*b13+a2*b23\n",
        "    #\n",
        "    # Lets say T=0 is [PAD] masked, which means a1 == 0, then\n",
        "    #\n",
        "    #             a2*b21 b2*b22 b2*b23\n",
        "    # score @ v = a2*b21 b2*b22 b2*b23\n",
        "    #\n",
        "    # It can be seen that b11, b12, b13 has no contribution. We know that\n",
        "    # b1* is the v (value) for T=0, this means the [PAD]'s embedding has no\n",
        "    # contribution. This proves the effect of attention_mask, is to make the\n",
        "    # corresponding [PAD] has no effect to the result.\n",
        "\n",
        "    attention_mask = attention_mask.unsqueeze(1) # (B, T) unsqueeze ----> (B, 1, T)\n",
        "    score = score.masked_fill(attention_mask, 1e-9)\n",
        "\n",
        "    # print(f'{score.shape=}')\n",
        "    # print(f'{score=}')\n",
        "\n",
        "    score = F.softmax(score, dim=-1)  # (B, T, T)\n",
        "\n",
        "    y = score @ v # (B, T, d_head)\n",
        "\n",
        "    return y"
      ],
      "metadata": {
        "id": "EtAKmDeNMkJA"
      },
      "execution_count": 26,
      "outputs": []
    },
    {
      "cell_type": "code",
      "source": [
        "# TODO: what is the multi-head impl in Causal style?\n",
        "class MultiHeadAttentionBlock(torch.nn.Module):\n",
        "  def __init__(self, n_heads: int, d_in: int, d_head: int, d_hidden: int, dropout: float):\n",
        "    \"\"\"Impl of Multi Head Attention block.\n",
        "\n",
        "    Args:\n",
        "      n_heads: num of heads\n",
        "      d_in: input dim\n",
        "      d_head: output dim (how many heads)\n",
        "      d_hidden: dim of the hidden FFN\n",
        "      dropout: dropout rate\n",
        "    \"\"\"\n",
        "\n",
        "    super().__init__()\n",
        "\n",
        "    self.heads = torch.nn.ModuleList([\n",
        "        AttentionHead(d_in, d_head, d_hidden) for _ in range(n_heads)\n",
        "    ])\n",
        "\n",
        "\n",
        "    self.d_head = d_head\n",
        "\n",
        "    self.ln1 = LayerNorm(d_in, bias=True)\n",
        "    self.ln2 = LayerNorm(d_head * n_heads, bias=True)\n",
        "\n",
        "    self.multi_heads_proj = torch.nn.Linear(d_head * n_heads, d_head, bias=True)\n",
        "\n",
        "    self.linear = torch.nn.Linear(d_head, d_hidden, bias=True)\n",
        "    # Bert paper uses GeLU instead of ReLU or tanh. Some study shows GeLU gives\n",
        "    # the best result (for certain task, of course):\n",
        "    # https://browse.arxiv.org/pdf/1710.05941.pdf\n",
        "    self.activation = torch.nn.GELU()\n",
        "    self.proj = torch.nn.Linear(d_hidden, d_head, bias=True)\n",
        "\n",
        "    self.dropout1 = torch.nn.Dropout(dropout)\n",
        "    self.dropout2 = torch.nn.Dropout(dropout)\n",
        "\n",
        "  # TODO: add skip connection for the multi-head attn.\n",
        "  def forward(self, x, attention_mask: torch.Tensor):\n",
        "    \"\"\"\n",
        "    Args:\n",
        "      attention_mask: see AttentionHead\n",
        "    \"\"\"\n",
        "    # x (B, T, d_in)\n",
        "\n",
        "    x = self.ln1(x) # (B, T, d_in)\n",
        "\n",
        "    s = [ah(x, attention_mask) for ah in self.heads]  # [4, (B, T, d_heads)]\n",
        "    # print(f'{len(s)=}, {scores.shape=}')\n",
        "\n",
        "    # The multi-heads' output are concat in the last dim.\n",
        "    scores = torch.cat(s, dim=-1)     # (B, T, d_head * n_heads)\n",
        "    y = self.ln2(scores)              # (B, T, d_head * n_heads)\n",
        "    y = self.multi_heads_proj(y)      # (B, T, d_head)\n",
        "\n",
        "\n",
        "    ffy = self.linear(y)                # (B, T, d_hidden)\n",
        "    ffy = self.dropout1(ffy)\n",
        "    ffy = self.activation(ffy)          # (B, T, d_hidden)\n",
        "    ffy = self.proj(ffy)                # (B, T, d_head)\n",
        "    # Skip connection\n",
        "    ffy = ffy + y                       # (B, T, d_head)\n",
        "    ffy = self.dropout2(ffy)\n",
        "\n",
        "    return ffy"
      ],
      "metadata": {
        "id": "eKKFIzddS-ko"
      },
      "execution_count": 27,
      "outputs": []
    },
    {
      "cell_type": "code",
      "source": [
        "class Bert(torch.nn.Module):\n",
        "  \"\"\"Combine everything together.\n",
        "  \"\"\"\n",
        "\n",
        "  def __init__(self,\n",
        "               vocab_size: int,\n",
        "               embedding_dim: int,\n",
        "               n_heads: int,\n",
        "               d_in: int,\n",
        "               d_head: int,\n",
        "               d_hidden: int,\n",
        "               dropout: float):\n",
        "    \"\"\"Initiation fn.\n",
        "\n",
        "    Args:\n",
        "      vocab_size: size of the vocab\n",
        "      embedding_dim: dim of the token embedding\n",
        "      n_heads: num of heads\n",
        "      d_in: input dim\n",
        "      d_head: output dim (how many heads)\n",
        "      d_hidden: dim of the hidden FFN\n",
        "      dropout: dropout rate\n",
        "    \"\"\"\n",
        "    super().__init__()\n",
        "    self.emb = JointEmbedding(vocab_size=vocab_size, embedding_dim=embedding_dim)\n",
        "    self.att = MultiHeadAttentionBlock(n_heads=n_heads,\n",
        "                                       d_in=d_in,\n",
        "                                       d_head=d_head,\n",
        "                                       d_hidden=d_hidden,\n",
        "                                       dropout=dropout)\n",
        "\n",
        "    self.token_prediction_layer = torch.nn.Linear(d_head, vocab_size).to(device)\n",
        "    self.log_softmax = torch.nn.LogSoftmax(dim=-1)\n",
        "\n",
        "    self.nsp_classification_layer = torch.nn.Linear(d_head, 2)\n",
        "\n",
        "\n",
        "  def forward(self, x, attention_mask: torch.Tensor):\n",
        "    \"\"\"\n",
        "    Args:\n",
        "      attention_mask: see AttentionHead.\n",
        "    \"\"\"\n",
        "    y = self.emb(x)                   # (B, T, embedding_dim)\n",
        "    y = self.att(y, attention_mask)   # (B, T, d_head)\n",
        "\n",
        "    token_predictions_logits = self.token_prediction_layer(y)             # (B, T, vocab_size)\n",
        "    # Log likehood; note NLL is the classification loss\n",
        "    token_predictions_ll = self.log_softmax(token_predictions_logits)       # (B, T, vocab_size)\n",
        "\n",
        "    # Here we don't calculate the \"prob\" of the logits by using sigmoid (or\n",
        "    # softmax in binary classification setup). This is because when calculating\n",
        "    # loss, we use BCEWithLogitsLoss, which is a combination of sigmoid layer\n",
        "    # and BCE (Binary Cross Entropy) loss.\n",
        "    #\n",
        "    #   argmax(NSP output) = [1, 0] is NOT next sentence\n",
        "    #   argmax(NSP output) = [0, 1] is next sentence\n",
        "    nsp_classification_logits = self.nsp_classification_layer(y[:, 0, :]) # (B, 1, 2)\n",
        "\n",
        "    return token_predictions_ll, nsp_classification_logits"
      ],
      "metadata": {
        "id": "gnGGnidhYVPu"
      },
      "execution_count": 28,
      "outputs": []
    },
    {
      "cell_type": "code",
      "source": [
        "EMB_DIM = 256 # the dimensionality of the character embedding vectors\n",
        "N_HEADS = 8  # the number of heads in transformer\n",
        "D_HEAD = EMB_DIM * 2  # the dimensionality of the transformer's head\n",
        "D_HIDDEN = EMB_DIM * 4  # the dimensionality of the transformer's hidden FFN layer"
      ],
      "metadata": {
        "id": "Gv5fCSSXJbmf"
      },
      "execution_count": 29,
      "outputs": []
    },
    {
      "cell_type": "code",
      "source": [
        "bert = Bert(vocab_size=len(vocab.ttoi),\n",
        "            embedding_dim=EMB_DIM,n_heads=N_HEADS,\n",
        "            d_in=EMB_DIM,\n",
        "            d_head=D_HEAD,\n",
        "            d_hidden=D_HIDDEN,\n",
        "            dropout = 0.2).to(device)"
      ],
      "metadata": {
        "id": "zHC_R8owZNHK"
      },
      "execution_count": 30,
      "outputs": []
    },
    {
      "cell_type": "code",
      "source": [
        "_total_params = 0\n",
        "\n",
        "for p in bert.parameters():\n",
        "  _total_params += p.nelement()\n",
        "\n",
        "print(f'Total params = {_total_params}')"
      ],
      "metadata": {
        "colab": {
          "base_uri": "https://localhost:8080/"
        },
        "id": "5SteO0PwhXj4",
        "outputId": "61a5c22f-be03-42b0-e393-8849de1427df"
      },
      "execution_count": 31,
      "outputs": [
        {
          "output_type": "stream",
          "name": "stdout",
          "text": [
            "Total params = 61874952\n"
          ]
        }
      ]
    },
    {
      "cell_type": "markdown",
      "source": [
        "# Loss and Optimization"
      ],
      "metadata": {
        "id": "x9pHh0avJ-rH"
      }
    },
    {
      "cell_type": "code",
      "source": [
        "import torch.optim as optim\n",
        "\n",
        "optimizer = optim.SGD(bert.parameters(), lr=0.001, momentum=0.9)\n",
        "# optimizer = optim.Adam(net.parameters(), lr=0.001)"
      ],
      "metadata": {
        "id": "PmbheEpthQsI"
      },
      "execution_count": 32,
      "outputs": []
    },
    {
      "cell_type": "code",
      "source": [
        "nsp_criterion = torch.nn.BCEWithLogitsLoss().to(device)\n",
        "\n",
        "# In the dataset, the mlm_target set the non-masked position's target to be 0,\n",
        "# so that the mlm loss can ignore the non-masked positions and only calculate\n",
        "# loss for the masked positions.\n",
        "mlm_criterion = torch.nn.NLLLoss(ignore_index=0).to(device)"
      ],
      "metadata": {
        "id": "LDOuVSlEh_5a"
      },
      "execution_count": 33,
      "outputs": []
    },
    {
      "cell_type": "markdown",
      "source": [
        "# Training"
      ],
      "metadata": {
        "id": "5HHmVcAOKAkt"
      }
    },
    {
      "cell_type": "code",
      "source": [
        "def get_batch(ds: IMDBBertDataset, batch_size: int):\n",
        "  iii = torch.randint(0, len(ds), (batch_size,)).to(device)\n",
        "  # print(f'{len(ds)=}')\n",
        "  bbb = [ds[i.item()] for i in iii]\n",
        "\n",
        "  inp_b = torch.stack([torch.Tensor(item[0]) for item in bbb]).to(device)\n",
        "  attention_mask_b = torch.stack([torch.Tensor(item[1]) for item in bbb]).to(device)\n",
        "  inverse_token_mask_b = torch.stack([torch.Tensor(item[2]) for item in bbb]).to(device)\n",
        "  mask_target_b = torch.stack([torch.Tensor(item[3]) for item in bbb]).to(device)\n",
        "  nsp_target_b = torch.stack([torch.Tensor(item[4]) for item in bbb]).to(device)\n",
        "\n",
        "  return (inp_b, attention_mask_b, inverse_token_mask_b, mask_target_b, nsp_target_b)\n",
        "\n",
        "inp_b, attention_mask_b, inverse_token_mask_b, mask_target_b, nsp_target_b = get_batch(ds_train, 7)\n",
        "inp_b.shape, attention_mask_b.shape, inverse_token_mask_b.shape, mask_target_b.shape, nsp_target_b.shape"
      ],
      "metadata": {
        "colab": {
          "base_uri": "https://localhost:8080/"
        },
        "id": "Oe7j-Wc8P7VJ",
        "outputId": "28408d58-3c9f-4d55-fda2-1ff68397d1cd"
      },
      "execution_count": 34,
      "outputs": [
        {
          "output_type": "execute_result",
          "data": {
            "text/plain": [
              "(torch.Size([7, 57]),\n",
              " torch.Size([7, 57]),\n",
              " torch.Size([7, 57]),\n",
              " torch.Size([7, 57]),\n",
              " torch.Size([7, 2]))"
            ]
          },
          "metadata": {},
          "execution_count": 34
        }
      ]
    },
    {
      "cell_type": "code",
      "source": [
        "def run_forward(bert, inp_b, attention_mask_b, inverse_token_mask_b, mlm_target_b, nsp_target_b):\n",
        "  # token_predictions_ll ---> (B, T, vocab_size)\n",
        "  # nsp_classification_logits ----> (B, 2)\n",
        "  token_predictions_ll, nsp_classification_logits = bert(inp_b, attention_mask_b)\n",
        "\n",
        "  # Calculate MLM loss\n",
        "  mlm_mask = inverse_token_mask_b.unsqueeze(-1).expand_as(token_predictions_ll)\n",
        "  # Note: the masked_fill_ is of no use, because the NLLLoss already ignores the\n",
        "  # target 0. `NLLLoss(ignore_index=0)`. I verified it by comparing the loss\n",
        "  # with and without the masked_fill_.\n",
        "  #\n",
        "  # Note: `masked_fill` is the out-of-place version of `masked_fill_()`. Using\n",
        "  # the later causes error:\n",
        "  #   \"one of the variables needed for gradient computation has been modified by an inplace operation\"\n",
        "  masked_token_predictions_ll = token_predictions_ll.masked_fill(mlm_mask, 0.0)\n",
        "  # The `transpose` is because NLLLoss expects class dim (here is vocab_size) is\n",
        "  # before the time dim.\n",
        "  mlm_loss = mlm_criterion(masked_token_predictions_ll.transpose(-1, -2),\n",
        "                           mlm_target_b)\n",
        "\n",
        "  # Calculate NSP loss\n",
        "  nsp_loss = nsp_criterion(nsp_classification_logits, nsp_target_b)\n",
        "\n",
        "  return mlm_loss, nsp_loss"
      ],
      "metadata": {
        "id": "8mufSRVjRx2G"
      },
      "execution_count": 35,
      "outputs": []
    },
    {
      "cell_type": "code",
      "source": [
        "max_steps = 1000000\n",
        "batch_size = 32\n",
        "mlm_lossi = []\n",
        "nsp_lossi = []\n",
        "mlm_lossi_dev = []\n",
        "nsp_lossi_dev = []\n",
        "ud = []\n",
        "log_interval = 50\n",
        "\n",
        "running_mlm_loss = 0.0\n",
        "running_nsp_loss = 0.0\n",
        "running_mlm_loss_dev = 0.0\n",
        "running_nsp_loss_dev = 0.0\n",
        "running_loss_steps = 0\n",
        "\n",
        "for i in range(max_steps):\n",
        "\n",
        "  # Reset grad\n",
        "  optimizer.zero_grad()\n",
        "\n",
        "  # Forward\n",
        "\n",
        "  # inverse_token_mask_b ---> (B, T)\n",
        "  # mlm_target_b ---> (B, T)\n",
        "  # nsp_target_b ---> (B, 2)\n",
        "  inp_b, attention_mask_b, inverse_token_mask_b, mlm_target_b, nsp_target_b = get_batch(ds_train, batch_size)\n",
        "  mlm_loss, nsp_loss = run_forward(bert, inp_b, attention_mask_b, inverse_token_mask_b, mlm_target_b, nsp_target_b)\n",
        "\n",
        "  running_mlm_loss += mlm_loss.item()\n",
        "  running_nsp_loss += nsp_loss.item()\n",
        "\n",
        "  # Validation set\n",
        "  inp_dev_b, attention_mask_dev_b, inverse_token_mask_dev_b, mlm_target_dev_b, nsp_target_dev_b = get_batch(ds_dev, batch_size)\n",
        "  mlm_loss_dev, nsp_loss_dev = run_forward(bert,\n",
        "                                           inp_dev_b,\n",
        "                                           attention_mask_dev_b,\n",
        "                                           inverse_token_mask_dev_b,\n",
        "                                           mlm_target_dev_b,\n",
        "                                           nsp_target_dev_b)\n",
        "  running_mlm_loss_dev += mlm_loss_dev.item()\n",
        "  running_nsp_loss_dev += nsp_loss_dev.item()\n",
        "\n",
        "  # Total loss\n",
        "  loss = mlm_loss + nsp_loss\n",
        "  running_loss_steps += 1\n",
        "\n",
        "  # Backward\n",
        "  loss.backward()\n",
        "  optimizer.step()\n",
        "\n",
        "  if i % log_interval == 0:\n",
        "    print(f'{i} / {max_steps}: mlm_loss={running_mlm_loss/running_loss_steps: .4f}, nsp_loss={running_nsp_loss/running_loss_steps: .8f}, dev mlm_loss={running_mlm_loss_dev/running_loss_steps: .4f}, dev nsp_loss={running_nsp_loss_dev/running_loss_steps: .8f}')\n",
        "    running_mlm_loss = 0.0\n",
        "    running_nsp_loss = 0.0\n",
        "    running_mlm_loss_dev = 0.0\n",
        "    running_nsp_loss_dev = 0.0\n",
        "    running_loss_steps = 0\n",
        "\n",
        "  mlm_lossi.append(mlm_loss.log10().item())\n",
        "  nsp_lossi.append(nsp_loss.log10().item())\n",
        "  mlm_lossi_dev.append(mlm_loss_dev.log10().item())\n",
        "  nsp_lossi_dev.append(nsp_loss_dev.log10().item())\n",
        "\n",
        "  # break"
      ],
      "metadata": {
        "colab": {
          "base_uri": "https://localhost:8080/",
          "height": 1000
        },
        "id": "I8TCc7OrPEFO",
        "outputId": "86a78bdc-9c86-425c-b347-2ac4423eecae"
      },
      "execution_count": 36,
      "outputs": [
        {
          "output_type": "stream",
          "name": "stdout",
          "text": [
            "0 / 1000000: mlm_loss= 11.2603, nsp_loss= 0.75751108, dev mlm_loss= 11.2578, dev nsp_loss= 0.76112795\n",
            "50 / 1000000: mlm_loss= 9.8229, nsp_loss= 0.02252048, dev mlm_loss= 9.7750, dev nsp_loss= 0.02157378\n",
            "100 / 1000000: mlm_loss= 8.4376, nsp_loss= 0.00204567, dev mlm_loss= 8.5004, dev nsp_loss= 0.00207271\n",
            "150 / 1000000: mlm_loss= 8.1191, nsp_loss= 0.00137449, dev mlm_loss= 8.1322, dev nsp_loss= 0.00137697\n",
            "200 / 1000000: mlm_loss= 7.9158, nsp_loss= 0.00094788, dev mlm_loss= 7.9339, dev nsp_loss= 0.00096643\n",
            "250 / 1000000: mlm_loss= 7.7989, nsp_loss= 0.00096020, dev mlm_loss= 7.8467, dev nsp_loss= 0.00096180\n",
            "300 / 1000000: mlm_loss= 7.7094, nsp_loss= 0.00068402, dev mlm_loss= 7.6824, dev nsp_loss= 0.00068022\n",
            "350 / 1000000: mlm_loss= 7.7399, nsp_loss= 0.00066477, dev mlm_loss= 7.6736, dev nsp_loss= 0.00065421\n",
            "400 / 1000000: mlm_loss= 7.6417, nsp_loss= 0.00047066, dev mlm_loss= 7.6272, dev nsp_loss= 0.00047983\n",
            "450 / 1000000: mlm_loss= 7.5682, nsp_loss= 0.00054910, dev mlm_loss= 7.5785, dev nsp_loss= 0.00054427\n",
            "500 / 1000000: mlm_loss= 7.5047, nsp_loss= 0.00045652, dev mlm_loss= 7.5439, dev nsp_loss= 0.00045719\n",
            "550 / 1000000: mlm_loss= 7.5528, nsp_loss= 0.00047156, dev mlm_loss= 7.4533, dev nsp_loss= 0.00048722\n",
            "600 / 1000000: mlm_loss= 7.4508, nsp_loss= 0.00033599, dev mlm_loss= 7.4758, dev nsp_loss= 0.00033828\n",
            "650 / 1000000: mlm_loss= 7.4922, nsp_loss= 0.00037941, dev mlm_loss= 7.4282, dev nsp_loss= 0.00037162\n",
            "700 / 1000000: mlm_loss= 7.3932, nsp_loss= 0.00039482, dev mlm_loss= 7.4383, dev nsp_loss= 0.00039745\n",
            "750 / 1000000: mlm_loss= 7.3275, nsp_loss= 0.00032246, dev mlm_loss= 7.3793, dev nsp_loss= 0.00032440\n",
            "800 / 1000000: mlm_loss= 7.3592, nsp_loss= 0.00028633, dev mlm_loss= 7.3524, dev nsp_loss= 0.00027875\n",
            "850 / 1000000: mlm_loss= 7.3536, nsp_loss= 0.00028527, dev mlm_loss= 7.3435, dev nsp_loss= 0.00027847\n",
            "900 / 1000000: mlm_loss= 7.3391, nsp_loss= 0.00023643, dev mlm_loss= 7.3242, dev nsp_loss= 0.00023591\n",
            "950 / 1000000: mlm_loss= 7.3140, nsp_loss= 0.00029063, dev mlm_loss= 7.2920, dev nsp_loss= 0.00028679\n",
            "1000 / 1000000: mlm_loss= 7.2947, nsp_loss= 0.00026292, dev mlm_loss= 7.3026, dev nsp_loss= 0.00026057\n",
            "1050 / 1000000: mlm_loss= 7.2413, nsp_loss= 0.00023843, dev mlm_loss= 7.3036, dev nsp_loss= 0.00023137\n",
            "1100 / 1000000: mlm_loss= 7.2937, nsp_loss= 0.00018697, dev mlm_loss= 7.2935, dev nsp_loss= 0.00018550\n",
            "1150 / 1000000: mlm_loss= 7.2378, nsp_loss= 0.00015854, dev mlm_loss= 7.2719, dev nsp_loss= 0.00015773\n",
            "1200 / 1000000: mlm_loss= 7.2579, nsp_loss= 0.00014045, dev mlm_loss= 7.2317, dev nsp_loss= 0.00013727\n",
            "1250 / 1000000: mlm_loss= 7.2964, nsp_loss= 0.00015707, dev mlm_loss= 7.2718, dev nsp_loss= 0.00015525\n",
            "1300 / 1000000: mlm_loss= 7.1992, nsp_loss= 0.00017186, dev mlm_loss= 7.2696, dev nsp_loss= 0.00016559\n",
            "1350 / 1000000: mlm_loss= 7.2236, nsp_loss= 0.00018187, dev mlm_loss= 7.2235, dev nsp_loss= 0.00018308\n",
            "1400 / 1000000: mlm_loss= 7.1891, nsp_loss= 0.00017094, dev mlm_loss= 7.2200, dev nsp_loss= 0.00017216\n",
            "1450 / 1000000: mlm_loss= 7.1716, nsp_loss= 0.00013468, dev mlm_loss= 7.1869, dev nsp_loss= 0.00013485\n",
            "1500 / 1000000: mlm_loss= 7.2511, nsp_loss= 0.00013530, dev mlm_loss= 7.2278, dev nsp_loss= 0.00012901\n",
            "1550 / 1000000: mlm_loss= 7.1997, nsp_loss= 0.00012661, dev mlm_loss= 7.1839, dev nsp_loss= 0.00012930\n",
            "1600 / 1000000: mlm_loss= 7.1823, nsp_loss= 0.00016358, dev mlm_loss= 7.1744, dev nsp_loss= 0.00016121\n",
            "1650 / 1000000: mlm_loss= 7.2342, nsp_loss= 0.00013650, dev mlm_loss= 7.1945, dev nsp_loss= 0.00013431\n",
            "1700 / 1000000: mlm_loss= 7.1855, nsp_loss= 0.00015251, dev mlm_loss= 7.1450, dev nsp_loss= 0.00015138\n",
            "1750 / 1000000: mlm_loss= 7.1893, nsp_loss= 0.00017224, dev mlm_loss= 7.1039, dev nsp_loss= 0.00017148\n",
            "1800 / 1000000: mlm_loss= 7.1559, nsp_loss= 0.00013594, dev mlm_loss= 7.1414, dev nsp_loss= 0.00013480\n",
            "1850 / 1000000: mlm_loss= 7.1890, nsp_loss= 0.00011865, dev mlm_loss= 7.1087, dev nsp_loss= 0.00011412\n",
            "1900 / 1000000: mlm_loss= 7.1378, nsp_loss= 0.00011510, dev mlm_loss= 7.0960, dev nsp_loss= 0.00011250\n",
            "1950 / 1000000: mlm_loss= 7.1107, nsp_loss= 0.00013450, dev mlm_loss= 7.0826, dev nsp_loss= 0.00013654\n",
            "2000 / 1000000: mlm_loss= 7.1183, nsp_loss= 0.00014472, dev mlm_loss= 7.1014, dev nsp_loss= 0.00014208\n",
            "2050 / 1000000: mlm_loss= 7.0918, nsp_loss= 0.00012300, dev mlm_loss= 7.1430, dev nsp_loss= 0.00012834\n",
            "2100 / 1000000: mlm_loss= 7.1349, nsp_loss= 0.00012809, dev mlm_loss= 7.1543, dev nsp_loss= 0.00012818\n",
            "2150 / 1000000: mlm_loss= 7.1047, nsp_loss= 0.00010090, dev mlm_loss= 7.1328, dev nsp_loss= 0.00010064\n",
            "2200 / 1000000: mlm_loss= 7.0630, nsp_loss= 0.00010193, dev mlm_loss= 7.0442, dev nsp_loss= 0.00010087\n",
            "2250 / 1000000: mlm_loss= 7.0587, nsp_loss= 0.00009600, dev mlm_loss= 7.0419, dev nsp_loss= 0.00009607\n",
            "2300 / 1000000: mlm_loss= 7.0112, nsp_loss= 0.00009543, dev mlm_loss= 7.1575, dev nsp_loss= 0.00009387\n",
            "2350 / 1000000: mlm_loss= 7.0579, nsp_loss= 0.00010909, dev mlm_loss= 7.0779, dev nsp_loss= 0.00010972\n",
            "2400 / 1000000: mlm_loss= 7.0726, nsp_loss= 0.00010611, dev mlm_loss= 7.0828, dev nsp_loss= 0.00010145\n",
            "2450 / 1000000: mlm_loss= 7.0989, nsp_loss= 0.00009279, dev mlm_loss= 7.0368, dev nsp_loss= 0.00008895\n",
            "2500 / 1000000: mlm_loss= 7.1081, nsp_loss= 0.00010609, dev mlm_loss= 7.0378, dev nsp_loss= 0.00010361\n",
            "2550 / 1000000: mlm_loss= 7.0131, nsp_loss= 0.00008000, dev mlm_loss= 7.0637, dev nsp_loss= 0.00007976\n",
            "2600 / 1000000: mlm_loss= 6.9965, nsp_loss= 0.00007425, dev mlm_loss= 7.1301, dev nsp_loss= 0.00007342\n",
            "2650 / 1000000: mlm_loss= 7.0566, nsp_loss= 0.00008641, dev mlm_loss= 7.0612, dev nsp_loss= 0.00008680\n",
            "2700 / 1000000: mlm_loss= 7.1265, nsp_loss= 0.00010115, dev mlm_loss= 6.9989, dev nsp_loss= 0.00010090\n",
            "2750 / 1000000: mlm_loss= 7.0545, nsp_loss= 0.00010100, dev mlm_loss= 7.0762, dev nsp_loss= 0.00009998\n",
            "2800 / 1000000: mlm_loss= 7.0843, nsp_loss= 0.00009260, dev mlm_loss= 6.9823, dev nsp_loss= 0.00009608\n",
            "2850 / 1000000: mlm_loss= 7.0882, nsp_loss= 0.00010037, dev mlm_loss= 7.0399, dev nsp_loss= 0.00010050\n",
            "2900 / 1000000: mlm_loss= 7.0627, nsp_loss= 0.00008220, dev mlm_loss= 7.0616, dev nsp_loss= 0.00008183\n",
            "2950 / 1000000: mlm_loss= 7.0222, nsp_loss= 0.00007799, dev mlm_loss= 7.0225, dev nsp_loss= 0.00007864\n",
            "3000 / 1000000: mlm_loss= 7.0608, nsp_loss= 0.00008667, dev mlm_loss= 7.0187, dev nsp_loss= 0.00008673\n",
            "3050 / 1000000: mlm_loss= 7.0418, nsp_loss= 0.00007939, dev mlm_loss= 7.0994, dev nsp_loss= 0.00007835\n",
            "3100 / 1000000: mlm_loss= 6.9924, nsp_loss= 0.00007812, dev mlm_loss= 6.9927, dev nsp_loss= 0.00007909\n",
            "3150 / 1000000: mlm_loss= 6.9736, nsp_loss= 0.00007105, dev mlm_loss= 7.0658, dev nsp_loss= 0.00007388\n"
          ]
        },
        {
          "output_type": "error",
          "ename": "KeyboardInterrupt",
          "evalue": "ignored",
          "traceback": [
            "\u001b[0;31m---------------------------------------------------------------------------\u001b[0m",
            "\u001b[0;31mKeyboardInterrupt\u001b[0m                         Traceback (most recent call last)",
            "\u001b[0;32m<ipython-input-36-3ffa4fe8e54c>\u001b[0m in \u001b[0;36m<cell line: 16>\u001b[0;34m()\u001b[0m\n\u001b[1;32m     38\u001b[0m                                            \u001b[0mmlm_target_dev_b\u001b[0m\u001b[0;34m,\u001b[0m\u001b[0;34m\u001b[0m\u001b[0;34m\u001b[0m\u001b[0m\n\u001b[1;32m     39\u001b[0m                                            nsp_target_dev_b)\n\u001b[0;32m---> 40\u001b[0;31m   \u001b[0mrunning_mlm_loss_dev\u001b[0m \u001b[0;34m+=\u001b[0m \u001b[0mmlm_loss_dev\u001b[0m\u001b[0;34m.\u001b[0m\u001b[0mitem\u001b[0m\u001b[0;34m(\u001b[0m\u001b[0;34m)\u001b[0m\u001b[0;34m\u001b[0m\u001b[0;34m\u001b[0m\u001b[0m\n\u001b[0m\u001b[1;32m     41\u001b[0m   \u001b[0mrunning_nsp_loss_dev\u001b[0m \u001b[0;34m+=\u001b[0m \u001b[0mnsp_loss_dev\u001b[0m\u001b[0;34m.\u001b[0m\u001b[0mitem\u001b[0m\u001b[0;34m(\u001b[0m\u001b[0;34m)\u001b[0m\u001b[0;34m\u001b[0m\u001b[0;34m\u001b[0m\u001b[0m\n\u001b[1;32m     42\u001b[0m \u001b[0;34m\u001b[0m\u001b[0m\n",
            "\u001b[0;31mKeyboardInterrupt\u001b[0m: "
          ]
        }
      ]
    },
    {
      "cell_type": "code",
      "source": [
        "plt.plot(mlm_lossi)"
      ],
      "metadata": {
        "colab": {
          "base_uri": "https://localhost:8080/",
          "height": 447
        },
        "id": "ebqLFmqBIGr2",
        "outputId": "5f3837f3-666d-43df-b3c2-01df929f40f7"
      },
      "execution_count": 37,
      "outputs": [
        {
          "output_type": "execute_result",
          "data": {
            "text/plain": [
              "[<matplotlib.lines.Line2D at 0x7febef0dc1c0>]"
            ]
          },
          "metadata": {},
          "execution_count": 37
        },
        {
          "output_type": "display_data",
          "data": {
            "text/plain": [
              "<Figure size 640x480 with 1 Axes>"
            ],
            "image/png": "[encoded data removed]"
          },
          "metadata": {}
        }
      ]
    },
    {
      "cell_type": "code",
      "source": [
        "plt.plot(nsp_lossi)"
      ],
      "metadata": {
        "colab": {
          "base_uri": "https://localhost:8080/",
          "height": 447
        },
        "id": "qyJgw7jxIBQz",
        "outputId": "30f38d75-6e19-4a4c-b1b1-ed199c6dc829"
      },
      "execution_count": 38,
      "outputs": [
        {
          "output_type": "execute_result",
          "data": {
            "text/plain": [
              "[<matplotlib.lines.Line2D at 0x7febb788d750>]"
            ]
          },
          "metadata": {},
          "execution_count": 38
        },
        {
          "output_type": "display_data",
          "data": {
            "text/plain": [
              "<Figure size 640x480 with 1 Axes>"
            ],
            "image/png": "[encoded data removed]"
          },
          "metadata": {}
        }
      ]
    },
    {
      "cell_type": "code",
      "source": [
        "plt.plot(mlm_lossi_dev)"
      ],
      "metadata": {
        "colab": {
          "base_uri": "https://localhost:8080/",
          "height": 447
        },
        "id": "-xOb6xzAXgDn",
        "outputId": "ce761ae5-e320-4ba3-b592-88511d49f4a3"
      },
      "execution_count": 39,
      "outputs": [
        {
          "output_type": "execute_result",
          "data": {
            "text/plain": [
              "[<matplotlib.lines.Line2D at 0x7febb5ade4d0>]"
            ]
          },
          "metadata": {},
          "execution_count": 39
        },
        {
          "output_type": "display_data",
          "data": {
            "text/plain": [
              "<Figure size 640x480 with 1 Axes>"
            ],
            "image/png": "[encoded data removed]"
          },
          "metadata": {}
        }
      ]
    },
    {
      "cell_type": "code",
      "source": [
        "plt.plot(nsp_lossi_dev)"
      ],
      "metadata": {
        "colab": {
          "base_uri": "https://localhost:8080/",
          "height": 447
        },
        "id": "6MbKCrNCXgDz",
        "outputId": "f6d43023-f31f-4d80-8ead-efd4bd0f7b3a"
      },
      "execution_count": 40,
      "outputs": [
        {
          "output_type": "execute_result",
          "data": {
            "text/plain": [
              "[<matplotlib.lines.Line2D at 0x7febb0ddc4c0>]"
            ]
          },
          "metadata": {},
          "execution_count": 40
        },
        {
          "output_type": "display_data",
          "data": {
            "text/plain": [
              "<Figure size 640x480 with 1 Axes>"
            ],
            "image/png": "[encoded data removed]"
          },
          "metadata": {}
        }
      ]
    }
  ]
}