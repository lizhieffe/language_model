{
  "nbformat": 4,
  "nbformat_minor": 0,
  "metadata": {
    "colab": {
      "provenance": [],
      "toc_visible": true,
      "authorship_tag": "ABX9TyM8uZrPBz7w+2eB/KJFyL4k",
      "include_colab_link": true
    },
    "kernelspec": {
      "name": "python3",
      "display_name": "Python 3"
    },
    "language_info": {
      "name": "python"
    }
  },
  "cells": [
    {
      "cell_type": "markdown",
      "metadata": {
        "id": "view-in-github",
        "colab_type": "text"
      },
      "source": [
        "<a href=\"https://colab.research.google.com/github/lizhieffe/language_model/blob/main/Shakespeare_LM_v3_Causal_Mask_%2B_FFN.ipynb\" target=\"_parent\"><img src=\"https://colab.research.google.com/assets/colab-badge.svg\" alt=\"Open In Colab\"/></a>"
      ]
    },
    {
      "cell_type": "markdown",
      "source": [
        "**Warning**\n",
        "\n",
        "This model's performance is not good. Very likely this is due to the Causal mask uses the plain avg approach."
      ],
      "metadata": {
        "id": "rlEfHxi-UKij"
      }
    },
    {
      "cell_type": "code",
      "execution_count": 113,
      "metadata": {
        "id": "fRMxsDXmpbMf"
      },
      "outputs": [],
      "source": [
        "import torch\n",
        "import torch.nn.functional as F\n",
        "import matplotlib.pyplot as plt\n",
        "%matplotlib inline"
      ]
    },
    {
      "cell_type": "code",
      "source": [
        "USE_GPU = True\n",
        "\n",
        "BLOCK_SIZE = 96 # Context length: how many chars do we take to predict the next one?"
      ],
      "metadata": {
        "id": "vDHUDjtsph4G"
      },
      "execution_count": 114,
      "outputs": []
    },
    {
      "cell_type": "markdown",
      "source": [
        "# Setup GPU"
      ],
      "metadata": {
        "id": "NZIvnPdcps3e"
      }
    },
    {
      "cell_type": "code",
      "source": [
        "if USE_GPU:\n",
        "  device = torch.device(\"cuda:0\" if torch.cuda.is_available() else \"cpu\")\n",
        "  assert device.type != 'cpu', \"GPU is not available\"\n",
        "else:\n",
        "  device = 'cpu'\n",
        "\n",
        "print(device)"
      ],
      "metadata": {
        "colab": {
          "base_uri": "https://localhost:8080/"
        },
        "id": "sd95wthQptwk",
        "outputId": "a17467b0-96c9-4262-d550-4cc70cfe8a5c"
      },
      "execution_count": 115,
      "outputs": [
        {
          "output_type": "stream",
          "name": "stdout",
          "text": [
            "cuda:0\n"
          ]
        }
      ]
    },
    {
      "cell_type": "code",
      "source": [
        "g_cpu = torch.Generator(device='cpu').manual_seed(2147483647) # for reproducibility\n",
        "g_device = torch.Generator(device=device).manual_seed(2147483647) # for reproducibility"
      ],
      "metadata": {
        "id": "FDyu_mmdxQNC"
      },
      "execution_count": 116,
      "outputs": []
    },
    {
      "cell_type": "markdown",
      "source": [
        "# Util Functions"
      ],
      "metadata": {
        "id": "hHD6RNbQpv4G"
      }
    },
    {
      "cell_type": "markdown",
      "source": [
        "# Load data"
      ],
      "metadata": {
        "id": "CXSgUDhjdCxj"
      }
    },
    {
      "cell_type": "code",
      "source": [
        "# download the names.txt file from github\n",
        "!wget https://raw.githubusercontent.com/karpathy/char-rnn/master/data/tinyshakespeare/input.txt\n",
        "\n",
        "# read in all the words\n",
        "text = open('input.txt', 'r').read()\n",
        "\n",
        "text[:800]"
      ],
      "metadata": {
        "colab": {
          "base_uri": "https://localhost:8080/",
          "height": 385
        },
        "id": "Uw1N2UjndEDQ",
        "outputId": "8b2bd262-b66a-42fc-c924-d061c8f7a3b4"
      },
      "execution_count": 117,
      "outputs": [
        {
          "output_type": "stream",
          "name": "stdout",
          "text": [
            "--2023-10-02 02:17:01--  https://raw.githubusercontent.com/karpathy/char-rnn/master/data/tinyshakespeare/input.txt\n",
            "Resolving raw.githubusercontent.com (raw.githubusercontent.com)... 185.199.110.133, 185.199.109.133, 185.199.111.133, ...\n",
            "Connecting to raw.githubusercontent.com (raw.githubusercontent.com)|185.199.110.133|:443... connected.\n",
            "HTTP request sent, awaiting response... 200 OK\n",
            "Length: 1115394 (1.1M) [text/plain]\n",
            "Saving to: ‘input.txt.8’\n",
            "\n",
            "input.txt.8         100%[===================>]   1.06M  --.-KB/s    in 0.06s   \n",
            "\n",
            "2023-10-02 02:17:01 (16.4 MB/s) - ‘input.txt.8’ saved [1115394/1115394]\n",
            "\n"
          ]
        },
        {
          "output_type": "execute_result",
          "data": {
            "text/plain": [
              "\"First Citizen:\\nBefore we proceed any further, hear me speak.\\n\\nAll:\\nSpeak, speak.\\n\\nFirst Citizen:\\nYou are all resolved rather to die than to famish?\\n\\nAll:\\nResolved. resolved.\\n\\nFirst Citizen:\\nFirst, you know Caius Marcius is chief enemy to the people.\\n\\nAll:\\nWe know't, we know't.\\n\\nFirst Citizen:\\nLet us kill him, and we'll have corn at our own price.\\nIs't a verdict?\\n\\nAll:\\nNo more talking on't; let it be done: away, away!\\n\\nSecond Citizen:\\nOne word, good citizens.\\n\\nFirst Citizen:\\nWe are accounted poor citizens, the patricians good.\\nWhat authority surfeits on would relieve us: if they\\nwould yield us but the superfluity, while it were\\nwholesome, we might guess they relieved us humanely;\\nbut they think we are too dear: the leanness that\\nafflicts us, the object of our misery, is as an\\ninventory to p\""
            ],
            "application/vnd.google.colaboratory.intrinsic+json": {
              "type": "string"
            }
          },
          "metadata": {},
          "execution_count": 117
        }
      ]
    },
    {
      "cell_type": "code",
      "source": [
        "print(f'total char # = {len(text)}')"
      ],
      "metadata": {
        "colab": {
          "base_uri": "https://localhost:8080/"
        },
        "id": "Z_Lr-G6NdF62",
        "outputId": "2dd93d11-2e3f-429d-f804-136c2769b32a"
      },
      "execution_count": 118,
      "outputs": [
        {
          "output_type": "stream",
          "name": "stdout",
          "text": [
            "total char # = 1115394\n"
          ]
        }
      ]
    },
    {
      "cell_type": "markdown",
      "source": [
        "# Build vocabulary"
      ],
      "metadata": {
        "id": "ZFA5J8NjdHj9"
      }
    },
    {
      "cell_type": "code",
      "source": [
        "chars = sorted(list(set(''.join(text))))\n",
        "\n",
        "stoi = {c:i for i,c in enumerate(chars)}\n",
        "itos = {i:c for c,i in stoi.items()}\n",
        "\n",
        "assert len(stoi) == len(itos)\n",
        "\n",
        "vocab_size = len(stoi)\n",
        "\n",
        "EXPECTED_VOCAB_SIZE = 65\n",
        "assert vocab_size == EXPECTED_VOCAB_SIZE, f\"expected vocab size = {EXPECTED_VOCAB_SIZE}, got {vocab_size}\""
      ],
      "metadata": {
        "id": "K31lXht9dIww"
      },
      "execution_count": 119,
      "outputs": []
    },
    {
      "cell_type": "code",
      "source": [
        "# str ---> list of integer\n",
        "encode = lambda str: [stoi[s] for s in str]\n",
        "\n",
        "# list of integer ---> str\n",
        "decode = lambda l: ''.join(itos[i] for i in l)\n",
        "\n",
        "_test_str = \"adb dfd \\n\"\n",
        "assert _test_str == decode(encode(_test_str))"
      ],
      "metadata": {
        "id": "_wjY-ZmAK_Mt"
      },
      "execution_count": 120,
      "outputs": []
    },
    {
      "cell_type": "markdown",
      "source": [
        "# Create DS"
      ],
      "metadata": {
        "id": "tnC-XqfXdKoB"
      }
    },
    {
      "cell_type": "code",
      "source": [
        "n1 = int(len(text) * 0.9)\n",
        "train_data = encode(text[:n1])\n",
        "dev_data = encode(text[n1:])\n",
        "\n",
        "print(f'{len(train_data)=}, {len(dev_data)=}')"
      ],
      "metadata": {
        "colab": {
          "base_uri": "https://localhost:8080/"
        },
        "id": "3vU05Ihvwl_b",
        "outputId": "879f4330-f61f-4b78-bdcb-4edc0a9764c2"
      },
      "execution_count": 121,
      "outputs": [
        {
          "output_type": "stream",
          "name": "stdout",
          "text": [
            "len(train_data)=1003854, len(dev_data)=111540\n"
          ]
        }
      ]
    },
    {
      "cell_type": "code",
      "source": [
        "def get_batch(data, batch_size: int, block_size: int):\n",
        "  \"\"\" Sample a batch using Causal style. \"\"\"\n",
        "  x_list = []\n",
        "  y_list = []\n",
        "  ix = torch.randint(0, len(data)-block_size, (batch_size,), generator=g_cpu)\n",
        "  X = torch.stack([torch.tensor(data[i:i+block_size]) for i in ix]).to(device)\n",
        "  Y = torch.stack([torch.tensor(data[i+1:i+1+block_size]) for i in ix]).to(device)\n",
        "  return X, Y"
      ],
      "metadata": {
        "id": "eWvuZyaOwXai"
      },
      "execution_count": 122,
      "outputs": []
    },
    {
      "cell_type": "code",
      "source": [
        "X, Y = get_batch(train_data, 16, BLOCK_SIZE)\n",
        "\n",
        "for b in range(3):\n",
        "  it = 0\n",
        "  for t in range(X.shape[1]):\n",
        "    print(f'{decode(X[b, :t+1].tolist())} ---> {decode([Y[b, t].item()])}')\n",
        "    it += 1\n",
        "    if it > 7:\n",
        "      break"
      ],
      "metadata": {
        "colab": {
          "base_uri": "https://localhost:8080/"
        },
        "id": "F2EL4GRCyDcr",
        "outputId": "4618adb4-80cc-42de-b9b7-85d708d7e599"
      },
      "execution_count": 123,
      "outputs": [
        {
          "output_type": "stream",
          "name": "stdout",
          "text": [
            "e ---> v\n",
            "ev ---> e\n",
            "eve ---> r\n",
            "ever ---> y\n",
            "every --->  \n",
            "every  ---> d\n",
            "every d ---> a\n",
            "every da ---> n\n",
            "e ---> s\n",
            "es ---> h\n",
            "esh --->  \n",
            "esh  ---> c\n",
            "esh c ---> o\n",
            "esh co ---> m\n",
            "esh com ---> p\n",
            "esh comp ---> l\n",
            "e --->  \n",
            "e  ---> r\n",
            "e r ---> e\n",
            "e re ---> t\n",
            "e ret ---> i\n",
            "e reti ---> r\n",
            "e retir ---> e\n",
            "e retire ---> d\n"
          ]
        }
      ]
    },
    {
      "cell_type": "markdown",
      "source": [
        "# Modeling"
      ],
      "metadata": {
        "id": "bm2SpJ6CfOHE"
      }
    },
    {
      "cell_type": "code",
      "source": [
        "n_embd = 768 # the dimensionality of the character embedding vectors\n",
        "N_HIDDEN = n_embd * 4 # the number of neurons in the hidden layer of the MLP\n",
        "g = torch.Generator().manual_seed(2147483647) # for reproducibility"
      ],
      "metadata": {
        "id": "lAE6DUi2qcNO"
      },
      "execution_count": 124,
      "outputs": []
    },
    {
      "cell_type": "markdown",
      "source": [
        "## Model class"
      ],
      "metadata": {
        "id": "o2LWaIYbri0V"
      }
    },
    {
      "cell_type": "code",
      "source": [
        "class Net(torch.nn.Module):\n",
        "\n",
        "  def __init__(self, vocab_size, d_embd, d_hidden):\n",
        "    \"\"\"\n",
        "    Args:\n",
        "      vocab_size: volabulary size\n",
        "      d_embd: dim of embedding for the token\n",
        "      d_hidden: dim of hidden FFN layers\n",
        "    \"\"\"\n",
        "    super().__init__()\n",
        "    self.embd = torch.nn.Embedding(\n",
        "        num_embeddings=vocab_size,\n",
        "        embedding_dim=d_embd\n",
        "    )\n",
        "\n",
        "    self.linear1 = torch.nn.Linear(d_embd, d_hidden, bias=True)\n",
        "    self.tanh1 = torch.nn.Tanh()\n",
        "    self.linear2 = torch.nn.Linear(d_hidden, d_hidden, bias=True)\n",
        "    self.tanh2 = torch.nn.Tanh()\n",
        "    self.linear3 = torch.nn.Linear(d_hidden, d_hidden, bias=True)\n",
        "    self.tanh3 = torch.nn.Tanh()\n",
        "    self.linear_logit = torch.nn.Linear(d_hidden, vocab_size, bias=True)\n",
        "\n",
        "\n",
        "  def forward(self, x, targets=None):\n",
        "    \"\"\"\n",
        "    Args:\n",
        "      x: (B, T). The input to the model.\n",
        "      targets: (B, T). When it is not None, the func calculates and return the\n",
        "        loss in additional to other returned item(s)\n",
        "    Returns:\n",
        "      loss: int\n",
        "      logits: (B, T, C)\n",
        "    \"\"\"\n",
        "\n",
        "    T = x.shape[-1]\n",
        "\n",
        "    tril = torch.tril(torch.ones(T, T)).to(device)\n",
        "    wei = tril / torch.sum(tril, dim=1, keepdim=True) # (T, T)\n",
        "\n",
        "    xemb = self.embd(x) # (B, T, C)\n",
        "    xemb = wei @ xemb  # (B, T, C)\n",
        "\n",
        "    y = self.linear1(xemb)  # (B, T, d_hidden)\n",
        "    y = self.tanh1(y)\n",
        "    y = wei @ y # (B, T, d_hidden)\n",
        "\n",
        "    y = self.linear2(y)  # (B, T, d_hidden)\n",
        "    y = self.tanh2(y)\n",
        "    y = wei @ y # (B, T, d_hidden)\n",
        "\n",
        "    y = self.linear3(y)  # (B, T, d_hidden)\n",
        "    y = self.tanh3(y)\n",
        "    y = wei @ y # (B, T, d_hidden)\n",
        "\n",
        "    logits = self.linear_logit(y) # (B, T, vocab_size)\n",
        "    logits = wei @ logits # (B, T, vocab_size)\n",
        "    logits = logits.view(-1, logits.shape[-1]) # (B, T, vocab_size)\n",
        "\n",
        "    if targets is None:\n",
        "      loss = None\n",
        "    else:\n",
        "      loss = F.cross_entropy(logits, targets.view(-1))\n",
        "\n",
        "    return logits.view(-1, T, logits.shape[1]), loss\n",
        "\n",
        "  def generate(self, idx, max_new_tokens: int):\n",
        "    \"\"\"Generate new tokens given idx as context.\n",
        "\n",
        "    Args:\n",
        "      idx: (B, T)\n",
        "      max_new_tokens: number of new tokens to generate\n",
        "\n",
        "    Returns:\n",
        "      (B,T+max_new_tokens)\n",
        "    \"\"\"\n",
        "    for _ in range(max_new_tokens):\n",
        "      logits, loss = self(idx, targets=None)  # logits: (B, T, vocab_size), loss: None\n",
        "      logits = logits[:, -1, :] # (B, vocab_size)\n",
        "      prob = F.softmax(logits, dim=1) # (B, vocab_size)\n",
        "      idx_next = torch.multinomial(prob, num_samples=1, replacement=False)  # (B, 1)\n",
        "      idx = torch.cat((idx, idx_next), dim=1)\n",
        "\n",
        "    return idx\n",
        "\n",
        "net = Net(vocab_size, d_embd=n_embd, d_hidden=N_HIDDEN).to(device)"
      ],
      "metadata": {
        "id": "6QusOiY5HEBH"
      },
      "execution_count": 139,
      "outputs": []
    },
    {
      "cell_type": "code",
      "source": [
        "_total_params = 0\n",
        "\n",
        "for p in net.parameters():\n",
        "  _total_params += p.nelement()\n",
        "\n",
        "print(f'Total params = {_total_params}')"
      ],
      "metadata": {
        "colab": {
          "base_uri": "https://localhost:8080/"
        },
        "id": "0eMi8TezrkY4",
        "outputId": "d477d0d3-2d62-4fae-f86c-dfcbf3dd503d"
      },
      "execution_count": 140,
      "outputs": [
        {
          "output_type": "stream",
          "name": "stdout",
          "text": [
            "Total params = 21492545\n"
          ]
        }
      ]
    },
    {
      "cell_type": "markdown",
      "source": [
        "## Define optimizer"
      ],
      "metadata": {
        "id": "m04BZ-9f26w7"
      }
    },
    {
      "cell_type": "code",
      "source": [
        "import torch.optim as optim\n",
        "\n",
        "optimizer = optim.SGD(net.parameters(), lr=0.001, momentum=0.9)\n",
        "# optimizer = optim.Adam(net.parameters(), lr=0.001)"
      ],
      "metadata": {
        "id": "5xJsIU2z28us"
      },
      "execution_count": 141,
      "outputs": []
    },
    {
      "cell_type": "markdown",
      "source": [
        "# Train"
      ],
      "metadata": {
        "id": "5ObPwkVj3MFc"
      }
    },
    {
      "cell_type": "code",
      "source": [
        "max_steps = 700000\n",
        "batch_size = 32\n",
        "lossi = []\n",
        "lossi_dev = []\n",
        "ud = []\n",
        "log_interval = 200\n",
        "\n",
        "running_loss = 0.0\n",
        "running_loss_dev = 0.0\n",
        "running_loss_steps = 0\n",
        "\n",
        "for i in range(max_steps):\n",
        "\n",
        "  # Forward\n",
        "  Xb, Yb = get_batch(train_data, batch_size, BLOCK_SIZE)\n",
        "  optimizer.zero_grad()\n",
        "  logits, loss = net(Xb, targets=Yb)\n",
        "\n",
        "  # Loss\n",
        "  # print(f'{outputs.shape=}, {Yb.shape=}')\n",
        "  running_loss += loss.item()\n",
        "  running_loss_steps += 1\n",
        "\n",
        "  # Eval dev DS\n",
        "  Xb_dev, Yb_dev = get_batch(dev_data, batch_size, BLOCK_SIZE)\n",
        "  logits_dev, loss_dev = net(Xb_dev, targets=Yb_dev)\n",
        "  running_loss_dev += loss_dev.item()\n",
        "\n",
        "  # Update\n",
        "  loss.backward()\n",
        "  optimizer.step()\n",
        "\n",
        "  # Track status\n",
        "  if i % log_interval == 0:\n",
        "    print(f'{i}/{max_steps}: training loss={running_loss/running_loss_steps:.4f}, dev loss={running_loss_dev/running_loss_steps:.4f}')\n",
        "    running_loss = 0.0\n",
        "    running_loss_dev = 0.0\n",
        "    running_loss_steps = 0\n",
        "\n",
        "  lossi.append(loss.log10().item())\n",
        "  lossi_dev.append(loss_dev.log10().item())"
      ],
      "metadata": {
        "id": "3BtGf_U93M9V",
        "colab": {
          "base_uri": "https://localhost:8080/",
          "height": 1000
        },
        "outputId": "713cf269-9d73-4ffe-884a-24e65e12659a"
      },
      "execution_count": 142,
      "outputs": [
        {
          "output_type": "stream",
          "name": "stdout",
          "text": [
            "0/700000: training loss=4.1836, dev loss=4.1785\n",
            "200/700000: training loss=3.6789, dev loss=3.7059\n",
            "400/700000: training loss=3.3609, dev loss=3.4004\n",
            "600/700000: training loss=3.3346, dev loss=3.3787\n",
            "800/700000: training loss=3.3196, dev loss=3.3641\n",
            "1000/700000: training loss=3.3184, dev loss=3.3567\n",
            "1200/700000: training loss=3.3167, dev loss=3.3553\n",
            "1400/700000: training loss=3.3141, dev loss=3.3494\n",
            "1600/700000: training loss=3.3109, dev loss=3.3537\n",
            "1800/700000: training loss=3.3137, dev loss=3.3482\n",
            "2000/700000: training loss=3.3080, dev loss=3.3504\n",
            "2200/700000: training loss=3.3165, dev loss=3.3482\n",
            "2400/700000: training loss=3.3156, dev loss=3.3426\n",
            "2600/700000: training loss=3.3118, dev loss=3.3493\n",
            "2800/700000: training loss=3.3119, dev loss=3.3488\n",
            "3000/700000: training loss=3.3118, dev loss=3.3443\n",
            "3200/700000: training loss=3.3070, dev loss=3.3488\n",
            "3400/700000: training loss=3.3054, dev loss=3.3497\n",
            "3600/700000: training loss=3.3133, dev loss=3.3457\n",
            "3800/700000: training loss=3.3133, dev loss=3.3505\n",
            "4000/700000: training loss=3.3055, dev loss=3.3442\n",
            "4200/700000: training loss=3.3056, dev loss=3.3466\n",
            "4400/700000: training loss=3.3090, dev loss=3.3481\n",
            "4600/700000: training loss=3.3068, dev loss=3.3484\n",
            "4800/700000: training loss=3.3069, dev loss=3.3469\n",
            "5000/700000: training loss=3.3040, dev loss=3.3439\n",
            "5200/700000: training loss=3.3110, dev loss=3.3430\n",
            "5400/700000: training loss=3.3046, dev loss=3.3473\n",
            "5600/700000: training loss=3.3098, dev loss=3.3460\n",
            "5800/700000: training loss=3.3097, dev loss=3.3440\n",
            "6000/700000: training loss=3.3086, dev loss=3.3448\n",
            "6200/700000: training loss=3.3072, dev loss=3.3452\n",
            "6400/700000: training loss=3.3060, dev loss=3.3496\n",
            "6600/700000: training loss=3.3032, dev loss=3.3427\n",
            "6800/700000: training loss=3.3099, dev loss=3.3441\n",
            "7000/700000: training loss=3.3068, dev loss=3.3454\n",
            "7200/700000: training loss=3.3083, dev loss=3.3419\n",
            "7400/700000: training loss=3.3090, dev loss=3.3485\n",
            "7600/700000: training loss=3.3089, dev loss=3.3466\n",
            "7800/700000: training loss=3.3114, dev loss=3.3442\n",
            "8000/700000: training loss=3.3068, dev loss=3.3468\n",
            "8200/700000: training loss=3.3089, dev loss=3.3484\n",
            "8400/700000: training loss=3.3048, dev loss=3.3523\n",
            "8600/700000: training loss=3.3051, dev loss=3.3506\n",
            "8800/700000: training loss=3.3093, dev loss=3.3473\n",
            "9000/700000: training loss=3.3092, dev loss=3.3439\n",
            "9200/700000: training loss=3.3112, dev loss=3.3476\n",
            "9400/700000: training loss=3.3066, dev loss=3.3433\n",
            "9600/700000: training loss=3.3070, dev loss=3.3438\n",
            "9800/700000: training loss=3.3126, dev loss=3.3407\n",
            "10000/700000: training loss=3.3113, dev loss=3.3426\n",
            "10200/700000: training loss=3.3084, dev loss=3.3452\n",
            "10400/700000: training loss=3.3038, dev loss=3.3470\n",
            "10600/700000: training loss=3.3068, dev loss=3.3477\n",
            "10800/700000: training loss=3.3042, dev loss=3.3419\n",
            "11000/700000: training loss=3.3048, dev loss=3.3505\n",
            "11200/700000: training loss=3.3045, dev loss=3.3457\n",
            "11400/700000: training loss=3.3034, dev loss=3.3463\n",
            "11600/700000: training loss=3.3099, dev loss=3.3481\n",
            "11800/700000: training loss=3.3095, dev loss=3.3440\n",
            "12000/700000: training loss=3.3091, dev loss=3.3425\n",
            "12200/700000: training loss=3.3056, dev loss=3.3435\n",
            "12400/700000: training loss=3.3109, dev loss=3.3469\n"
          ]
        },
        {
          "output_type": "error",
          "ename": "KeyboardInterrupt",
          "evalue": "ignored",
          "traceback": [
            "\u001b[0;31m---------------------------------------------------------------------------\u001b[0m",
            "\u001b[0;31mKeyboardInterrupt\u001b[0m                         Traceback (most recent call last)",
            "\u001b[0;32m<ipython-input-142-fce8e66e0215>\u001b[0m in \u001b[0;36m<cell line: 12>\u001b[0;34m()\u001b[0m\n\u001b[1;32m     25\u001b[0m   \u001b[0mXb_dev\u001b[0m\u001b[0;34m,\u001b[0m \u001b[0mYb_dev\u001b[0m \u001b[0;34m=\u001b[0m \u001b[0mget_batch\u001b[0m\u001b[0;34m(\u001b[0m\u001b[0mdev_data\u001b[0m\u001b[0;34m,\u001b[0m \u001b[0mbatch_size\u001b[0m\u001b[0;34m,\u001b[0m \u001b[0mBLOCK_SIZE\u001b[0m\u001b[0;34m)\u001b[0m\u001b[0;34m\u001b[0m\u001b[0;34m\u001b[0m\u001b[0m\n\u001b[1;32m     26\u001b[0m   \u001b[0mlogits_dev\u001b[0m\u001b[0;34m,\u001b[0m \u001b[0mloss_dev\u001b[0m \u001b[0;34m=\u001b[0m \u001b[0mnet\u001b[0m\u001b[0;34m(\u001b[0m\u001b[0mXb_dev\u001b[0m\u001b[0;34m,\u001b[0m \u001b[0mtargets\u001b[0m\u001b[0;34m=\u001b[0m\u001b[0mYb_dev\u001b[0m\u001b[0;34m)\u001b[0m\u001b[0;34m\u001b[0m\u001b[0;34m\u001b[0m\u001b[0m\n\u001b[0;32m---> 27\u001b[0;31m   \u001b[0mrunning_loss_dev\u001b[0m \u001b[0;34m+=\u001b[0m \u001b[0mloss_dev\u001b[0m\u001b[0;34m.\u001b[0m\u001b[0mitem\u001b[0m\u001b[0;34m(\u001b[0m\u001b[0;34m)\u001b[0m\u001b[0;34m\u001b[0m\u001b[0;34m\u001b[0m\u001b[0m\n\u001b[0m\u001b[1;32m     28\u001b[0m \u001b[0;34m\u001b[0m\u001b[0m\n\u001b[1;32m     29\u001b[0m   \u001b[0;31m# Update\u001b[0m\u001b[0;34m\u001b[0m\u001b[0;34m\u001b[0m\u001b[0m\n",
            "\u001b[0;31mKeyboardInterrupt\u001b[0m: "
          ]
        }
      ]
    },
    {
      "cell_type": "code",
      "source": [
        "plt.plot(lossi)"
      ],
      "metadata": {
        "id": "jjTgq78BCCRd",
        "colab": {
          "base_uri": "https://localhost:8080/",
          "height": 447
        },
        "outputId": "97cf89db-e69b-4840-a8f5-daddcd2d781f"
      },
      "execution_count": 143,
      "outputs": [
        {
          "output_type": "execute_result",
          "data": {
            "text/plain": [
              "[<matplotlib.lines.Line2D at 0x7fdeabfa7940>]"
            ]
          },
          "metadata": {},
          "execution_count": 143
        },
        {
          "output_type": "display_data",
          "data": {
            "text/plain": [
              "<Figure size 640x480 with 1 Axes>"
            ],
            "image/png": "[encoded data removed]"
          },
          "metadata": {}
        }
      ]
    },
    {
      "cell_type": "code",
      "source": [
        "plt.plot(lossi_dev)"
      ],
      "metadata": {
        "id": "c6QgPaXDCHha",
        "colab": {
          "base_uri": "https://localhost:8080/",
          "height": 447
        },
        "outputId": "246763c9-4ccf-40fe-c10e-2e48a62da78a"
      },
      "execution_count": 144,
      "outputs": [
        {
          "output_type": "execute_result",
          "data": {
            "text/plain": [
              "[<matplotlib.lines.Line2D at 0x7fdeabd212d0>]"
            ]
          },
          "metadata": {},
          "execution_count": 144
        },
        {
          "output_type": "display_data",
          "data": {
            "text/plain": [
              "<Figure size 640x480 with 1 Axes>"
            ],
            "image/png": "[encoded data removed]"
          },
          "metadata": {}
        }
      ]
    },
    {
      "cell_type": "code",
      "source": [
        "torch.cuda.empty_cache()"
      ],
      "metadata": {
        "id": "fY3YqGX2TMmv"
      },
      "execution_count": 145,
      "outputs": []
    },
    {
      "cell_type": "markdown",
      "source": [
        "# Sample the model"
      ],
      "metadata": {
        "id": "7kTWwn5Q8x4b"
      }
    },
    {
      "cell_type": "code",
      "source": [
        "g_gpu = torch.Generator(device=device).manual_seed(2147483647) # for reproducibility\n",
        "\n",
        "# 0, which is new line char, is a reasonable start (seed) char\n",
        "idx = torch.tensor([[0]]).to(device)\n",
        "new_idx = net.generate(idx, 1000)\n",
        "\n",
        "print(decode(new_idx.view(-1).tolist()))"
      ],
      "metadata": {
        "id": "CGiFf5b280CQ",
        "colab": {
          "base_uri": "https://localhost:8080/"
        },
        "outputId": "1c332ce4-b076-4467-9419-13c49c2742ad"
      },
      "execution_count": 146,
      "outputs": [
        {
          "output_type": "stream",
          "name": "stdout",
          "text": [
            "\n",
            "\n",
            "  Got ali:dlio,'\n",
            "RBtedhS ey\n",
            "!rrbtmraat hk\n",
            "iu ta:  ?SihLYameGgrW   HAdO e dr  tdeohaStn:eooic wiahtyiniPtel' ;ueiQehaTicfeyI \n",
            "la wk ae\n",
            "a  sd samwe hrI'ea Aim?cWhe .estw m,k hZAsciO eW\n",
            "lcs :poeTrtdbe slbe oa dt d of tfne\n",
            "s  ima eo ,Br o e \n",
            "ieo  t,C lsbbalC v \n",
            "l  h;e,esott.aEe ntulgiaecae i shrmirSry:ptnpam\n",
            " rfmDIeb o  odoron.eir t E:.iee\n",
            "nscn \n",
            "od\n",
            "inuds ssa uUUtr eCg dsnri eoiar:rebtas a olmurgI lns w cgkhawedlCht hutkAahsjya\n",
            "Fiitrf u\n",
            "oI sbt\n",
            "tiautniberiaCeaUyan osrfwwh \n",
            "hsaN eirB i nMstUre  tt s tl piene aUfm\n",
            "ra, :sdb tsh hho Ze  lhsarkRTe ny hio umdAeen\n",
            "e\n",
            "rya ni ounxd\n",
            "EaS hrti, ahr o , ewh sSsbttL reIeeeadw . at a seko h\n",
            "ouAmsnotRtrnatDi oSs  Tooyahi \n",
            "pwakoiseemot u\n",
            "efer,igyred  aesitre,,hvwhe ef So E:n\n",
            "anvlnEn  rste;ulynt iCt. V f\n",
            " drwadnAhdarn'lpea!yiaewprsIuaeEnDB YayenAaa,aem \n",
            "be  euRkfh  EARtmdws,aoneY sitt NH aUyoii' FpiUrt Ir Tiau:ie nb:C  ir t'evhsniad\n",
            " h oh,ue  r vvno'dEe,et  llancsm n,ycimktPo sda\n",
            " eewmhh mpaehdleg ifald  \n",
            " r\n",
            "i:atlmiklsO\n",
            "oof  ohmhsoh: fsohot e tahRriR  n Uo bd\n"
          ]
        }
      ]
    }
  ]
}