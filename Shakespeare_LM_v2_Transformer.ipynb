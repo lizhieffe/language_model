{
  "nbformat": 4,
  "nbformat_minor": 0,
  "metadata": {
    "colab": {
      "provenance": [],
      "authorship_tag": "ABX9TyN8RwPCDM0OwNZPvtUzU/Xc",
      "include_colab_link": true
    },
    "kernelspec": {
      "name": "python3",
      "display_name": "Python 3"
    },
    "language_info": {
      "name": "python"
    }
  },
  "cells": [
    {
      "cell_type": "markdown",
      "metadata": {
        "id": "view-in-github",
        "colab_type": "text"
      },
      "source": [
        "<a href=\"https://colab.research.google.com/github/lizhieffe/language_model/blob/main/Shakespeare_LM_v2_Transformer.ipynb\" target=\"_parent\"><img src=\"https://colab.research.google.com/assets/colab-badge.svg\" alt=\"Open In Colab\"/></a>"
      ]
    },
    {
      "cell_type": "markdown",
      "source": [
        "**WARNING**:\n",
        "\n",
        "This colab's usage of Transformer library is likely to be wrong, and the prediction result is very bad."
      ],
      "metadata": {
        "id": "wT1B5lAVyqz0"
      }
    },
    {
      "cell_type": "code",
      "execution_count": null,
      "metadata": {
        "id": "fRMxsDXmpbMf"
      },
      "outputs": [],
      "source": [
        "import torch\n",
        "import torch.nn.functional as F\n",
        "import matplotlib.pyplot as plt\n",
        "%matplotlib inline"
      ]
    },
    {
      "cell_type": "code",
      "source": [
        "USE_GPU = True\n",
        "\n",
        "BLOCK_SIZE = 64 # Context length: how many chars do we take to predict the next one?"
      ],
      "metadata": {
        "id": "vDHUDjtsph4G"
      },
      "execution_count": null,
      "outputs": []
    },
    {
      "cell_type": "markdown",
      "source": [
        "# Setup GPU"
      ],
      "metadata": {
        "id": "NZIvnPdcps3e"
      }
    },
    {
      "cell_type": "code",
      "source": [
        "if USE_GPU:\n",
        "  device = torch.device(\"cuda:0\" if torch.cuda.is_available() else \"cpu\")\n",
        "  assert device != 'cpu', \"GPU is not available\"\n",
        "else:\n",
        "  device = 'cpu'\n",
        "\n",
        "print(device)"
      ],
      "metadata": {
        "colab": {
          "base_uri": "https://localhost:8080/"
        },
        "id": "sd95wthQptwk",
        "outputId": "5232cb7c-c9e7-4db5-ac75-8a2371e19a0f"
      },
      "execution_count": null,
      "outputs": [
        {
          "output_type": "stream",
          "name": "stdout",
          "text": [
            "cuda:0\n"
          ]
        }
      ]
    },
    {
      "cell_type": "code",
      "source": [
        "g_cpu = torch.Generator(device='cpu').manual_seed(2147483647) # for reproducibility\n",
        "g_device = torch.Generator(device=device).manual_seed(2147483647) # for reproducibility"
      ],
      "metadata": {
        "id": "FDyu_mmdxQNC"
      },
      "execution_count": null,
      "outputs": []
    },
    {
      "cell_type": "markdown",
      "source": [
        "# Util Functions"
      ],
      "metadata": {
        "id": "hHD6RNbQpv4G"
      }
    },
    {
      "cell_type": "code",
      "source": [
        "def _total_params(layers):\n",
        "  \"\"\" Get the total parameter number.\n",
        "\n",
        "  Args:\n",
        "    layers: the list of layers of the model\n",
        "\n",
        "  Returns:\n",
        "    Number of total parameters\n",
        "  \"\"\"\n",
        "  total_params = 0\n",
        "  for l in layers:\n",
        "    for p in l.parameters():\n",
        "      total_params += p.data.nelement()\n",
        "  return total_params"
      ],
      "metadata": {
        "id": "IKIeOra1ZoMk"
      },
      "execution_count": null,
      "outputs": []
    },
    {
      "cell_type": "code",
      "source": [
        "def _sample_one_batch(X, Y, batch_size, generator):\n",
        "  \"\"\"Sample from ds and generate a batch.\n",
        "\n",
        "  Args:\n",
        "    X: features of ds\n",
        "    Y: labels of ds\n",
        "    batch_size: batch size\n",
        "    generator: a pseudorandom number generator for sampling\n",
        "  Returns:\n",
        "    Xb: batched features\n",
        "    Yb: batched labels\n",
        "  \"\"\"\n",
        "  ix = torch.randint(0, X.shape[0], (batch_size, ), generator=generator).to(device)\n",
        "  # print(f'{ix.device=}')\n",
        "  Xb, Yb = X[ix], Y[ix]\n",
        "  return Xb, Yb"
      ],
      "metadata": {
        "id": "jtobwSgeQQf8"
      },
      "execution_count": null,
      "outputs": []
    },
    {
      "cell_type": "code",
      "source": [
        "def _calculate_loss(Xb, Yb, layers):\n",
        "  \"\"\" Calculate loss.\n",
        "\n",
        "  Args:\n",
        "    Xb: the feature batch\n",
        "    Yb: the label batch\n",
        "    layers: the layers of the model\n",
        "\n",
        "  Returns:\n",
        "    loss: the calculated loss\n",
        "  \"\"\"\n",
        "  emb = C[Xb]\n",
        "  # print(f'{emb.device=}')\n",
        "  x = emb.view(emb.shape[0], -1)\n",
        "  # print(f'{x.device=}')\n",
        "  for l in layers:\n",
        "    x = l(x)\n",
        "    # print(f'{x.device=}')\n",
        "  loss = F.cross_entropy(x, Yb)\n",
        "  # print(f'{loss.device=}')\n",
        "  return loss"
      ],
      "metadata": {
        "id": "ML2jiL3zR0jp"
      },
      "execution_count": null,
      "outputs": []
    },
    {
      "cell_type": "markdown",
      "source": [
        "# Load data"
      ],
      "metadata": {
        "id": "CXSgUDhjdCxj"
      }
    },
    {
      "cell_type": "code",
      "source": [
        "# download the names.txt file from github\n",
        "!wget https://raw.githubusercontent.com/karpathy/char-rnn/master/data/tinyshakespeare/input.txt\n",
        "\n",
        "# read in all the words\n",
        "text = open('input.txt', 'r').read()\n",
        "\n",
        "text[:800]"
      ],
      "metadata": {
        "colab": {
          "base_uri": "https://localhost:8080/",
          "height": 330
        },
        "id": "Uw1N2UjndEDQ",
        "outputId": "d97a7a1e-a580-4f07-cc94-62600c602751"
      },
      "execution_count": null,
      "outputs": [
        {
          "output_type": "stream",
          "name": "stdout",
          "text": [
            "--2023-10-01 17:43:25--  https://raw.githubusercontent.com/karpathy/char-rnn/master/data/tinyshakespeare/input.txt\n",
            "Resolving raw.githubusercontent.com (raw.githubusercontent.com)... 185.199.110.133, 185.199.109.133, 185.199.108.133, ...\n",
            "Connecting to raw.githubusercontent.com (raw.githubusercontent.com)|185.199.110.133|:443... connected.\n",
            "HTTP request sent, awaiting response... 200 OK\n",
            "Length: 1115394 (1.1M) [text/plain]\n",
            "Saving to: ‘input.txt.4’\n",
            "\n",
            "input.txt.4         100%[===================>]   1.06M  --.-KB/s    in 0.05s   \n",
            "\n",
            "2023-10-01 17:43:26 (20.1 MB/s) - ‘input.txt.4’ saved [1115394/1115394]\n",
            "\n"
          ]
        },
        {
          "output_type": "execute_result",
          "data": {
            "text/plain": [
              "\"First Citizen:\\nBefore we proceed any further, hear me speak.\\n\\nAll:\\nSpeak, speak.\\n\\nFirst Citizen:\\nYou are all resolved rather to die than to famish?\\n\\nAll:\\nResolved. resolved.\\n\\nFirst Citizen:\\nFirst, you know Caius Marcius is chief enemy to the people.\\n\\nAll:\\nWe know't, we know't.\\n\\nFirst Citizen:\\nLet us kill him, and we'll have corn at our own price.\\nIs't a verdict?\\n\\nAll:\\nNo more talking on't; let it be done: away, away!\\n\\nSecond Citizen:\\nOne word, good citizens.\\n\\nFirst Citizen:\\nWe are accounted poor citizens, the patricians good.\\nWhat authority surfeits on would relieve us: if they\\nwould yield us but the superfluity, while it were\\nwholesome, we might guess they relieved us humanely;\\nbut they think we are too dear: the leanness that\\nafflicts us, the object of our misery, is as an\\ninventory to p\""
            ],
            "application/vnd.google.colaboratory.intrinsic+json": {
              "type": "string"
            }
          },
          "metadata": {},
          "execution_count": 8
        }
      ]
    },
    {
      "cell_type": "code",
      "source": [
        "print(f'total char # = {len(text)}')"
      ],
      "metadata": {
        "colab": {
          "base_uri": "https://localhost:8080/"
        },
        "id": "Z_Lr-G6NdF62",
        "outputId": "01807933-f8df-472e-f55e-4e8eeae988d2"
      },
      "execution_count": null,
      "outputs": [
        {
          "output_type": "stream",
          "name": "stdout",
          "text": [
            "total char # = 1115394\n"
          ]
        }
      ]
    },
    {
      "cell_type": "markdown",
      "source": [
        "# Build vocabulary"
      ],
      "metadata": {
        "id": "ZFA5J8NjdHj9"
      }
    },
    {
      "cell_type": "code",
      "source": [
        "chars = sorted(list(set(''.join(text))))\n",
        "\n",
        "stoi = {c:i+1 for i,c in enumerate(chars)}\n",
        "stoi['[MASK]'] = 0\n",
        "itos = {i:c for c,i in stoi.items()}\n",
        "\n",
        "assert len(stoi) == len(itos)\n",
        "\n",
        "vocab_size = len(stoi)\n",
        "\n",
        "EXPECTED_VOCAB_SIZE = 66\n",
        "assert vocab_size == EXPECTED_VOCAB_SIZE, f\"expected vocab size = {EXPECTED_VOCAB_SIZE}, got {vocab_size}\""
      ],
      "metadata": {
        "id": "K31lXht9dIww"
      },
      "execution_count": null,
      "outputs": []
    },
    {
      "cell_type": "code",
      "source": [
        "# str ---> list of integer\n",
        "encode = lambda str: [stoi[s] for s in str]\n",
        "\n",
        "# list of integer ---> str\n",
        "decode = lambda l: ''.join(itos[i] for i in l)\n",
        "\n",
        "_test_str = \"adb dfd \\n\"\n",
        "assert _test_str == decode(encode(_test_str))"
      ],
      "metadata": {
        "id": "_wjY-ZmAK_Mt"
      },
      "execution_count": null,
      "outputs": []
    },
    {
      "cell_type": "markdown",
      "source": [
        "# Create DS"
      ],
      "metadata": {
        "id": "tnC-XqfXdKoB"
      }
    },
    {
      "cell_type": "code",
      "source": [
        "# Split train and dev\n",
        "\n",
        "encoded = encode(text)\n",
        "\n",
        "n1 = int(0.9 * len(encoded))\n",
        "data_tr = torch.tensor(encoded[:n1])\n",
        "data_dev = torch.tensor(encoded[n1:])\n",
        "\n",
        "print(f'{data_tr.shape=}, {data_dev.shape=}')"
      ],
      "metadata": {
        "colab": {
          "base_uri": "https://localhost:8080/"
        },
        "id": "KN4C69nMNJnG",
        "outputId": "0d06cc8e-299c-4b05-f571-45c6b28a8e82"
      },
      "execution_count": null,
      "outputs": [
        {
          "output_type": "stream",
          "name": "stdout",
          "text": [
            "data_tr.shape=torch.Size([1003854]), data_dev.shape=torch.Size([111540])\n"
          ]
        }
      ]
    },
    {
      "cell_type": "code",
      "source": [
        "def encoded_char_seq_to_examples(X):\n",
        "  \"\"\" Convert an encoded char seq to examples.\n",
        "\n",
        "  Args:\n",
        "    X: 1-rank tensor containing the encoded char seq\n",
        "\n",
        "  Returns:\n",
        "    1st: A tensor containing the features of the examples. It has size [B, N], where B is the number of examples, N is the number of features for each example.\n",
        "    2st: A tensor containing the label of the exampels. It has size [B], where B is the number of examples.\n",
        "  \"\"\"\n",
        "  xx = []\n",
        "  yy = []\n",
        "\n",
        "  context = [0] * BLOCK_SIZE\n",
        "  for i in range(X.shape[0]):\n",
        "    xx.append(torch.tensor(context))\n",
        "    yy.append(X[i])\n",
        "    context = context[1:] + [X[i].item()]\n",
        "\n",
        "  return torch.stack(xx), torch.stack(yy)\n"
      ],
      "metadata": {
        "id": "oloaLOEAz322"
      },
      "execution_count": null,
      "outputs": []
    },
    {
      "cell_type": "code",
      "source": [
        "from numpy import block\n",
        "def get_batch(data, batch_size, block_size):\n",
        "  # 1. Get batch_size of char sequences, each has block_size+1 char\n",
        "  ix = torch.randint(0, len(data) - block_size, (batch_size, ), generator=g_cpu)\n",
        "  X = torch.stack([data[i:i+1+block_size] for i in ix])\n",
        "\n",
        "  # 2. Expand each char sequences to block_size examples\n",
        "  expanded_X = []\n",
        "  expanded_Y = []\n",
        "  for i in range(X.shape[0]):\n",
        "    xx, yy = encoded_char_seq_to_examples(X[i])\n",
        "    # print(f'{xx.shape=}, {yy.shape=}')\n",
        "    expanded_X.append(xx)\n",
        "    expanded_Y.append(yy)\n",
        "\n",
        "  stacked_X, stacked_Y = torch.stack(expanded_X), torch.stack(expanded_Y)\n",
        "  return stacked_X.view(-1, stacked_X.shape[-1]).to(device), stacked_Y.view(-1).to(device)\n",
        "\n",
        "X, Y = get_batch(data_tr, batch_size=32, block_size=BLOCK_SIZE)"
      ],
      "metadata": {
        "id": "6AN9Y0uLwyVn"
      },
      "execution_count": null,
      "outputs": []
    },
    {
      "cell_type": "code",
      "source": [
        "X.shape, Y.shape"
      ],
      "metadata": {
        "colab": {
          "base_uri": "https://localhost:8080/"
        },
        "id": "AnPdbJna9SgM",
        "outputId": "7c774e39-f939-4d72-c6f1-5cee3fc3024a"
      },
      "execution_count": null,
      "outputs": [
        {
          "output_type": "execute_result",
          "data": {
            "text/plain": [
              "(torch.Size([2080, 64]), torch.Size([2080]))"
            ]
          },
          "metadata": {},
          "execution_count": 15
        }
      ]
    },
    {
      "cell_type": "code",
      "source": [
        "i = 0\n",
        "for ttt, uuu in zip(X,Y):\n",
        "  print(f'{decode(ttt.view(-1).tolist())}--->{decode([uuu.item()])}')\n",
        "  if i > 100:\n",
        "    break\n",
        "  i += 1\n"
      ],
      "metadata": {
        "id": "QxzpvqGj3H2b"
      },
      "execution_count": null,
      "outputs": []
    },
    {
      "cell_type": "markdown",
      "source": [
        "# Modeling"
      ],
      "metadata": {
        "id": "bm2SpJ6CfOHE"
      }
    },
    {
      "cell_type": "code",
      "source": [
        "n_embd = 4 # the dimensionality of the character embedding vectors\n",
        "N_HIDDEN = n_embd * BLOCK_SIZE * 2 # the number of neurons in the hidden layer of the MLP\n",
        "g = torch.Generator().manual_seed(2147483647) # for reproducibility"
      ],
      "metadata": {
        "id": "lAE6DUi2qcNO"
      },
      "execution_count": null,
      "outputs": []
    },
    {
      "cell_type": "markdown",
      "source": [
        "## Model class"
      ],
      "metadata": {
        "id": "o2LWaIYbri0V"
      }
    },
    {
      "cell_type": "code",
      "source": [
        "import math\n",
        "\n",
        "class PositionalEncoding(torch.nn.Module):\n",
        "\n",
        "    def __init__(self, d_model: int, dropout: float = 0.1, max_len: int = 5000):\n",
        "        super().__init__()\n",
        "        self.dropout = torch.nn.Dropout(p=dropout)\n",
        "\n",
        "        position = torch.arange(max_len).unsqueeze(1)\n",
        "        div_term = torch.exp(torch.arange(0, d_model, 2) * (-math.log(10000.0) / d_model))\n",
        "        pe = torch.zeros(max_len, d_model)\n",
        "        pe[:, 0::2] = torch.sin(position * div_term)\n",
        "        pe[:, 1::2] = torch.cos(position * div_term)\n",
        "        self.register_buffer('pe', pe)\n",
        "\n",
        "    def forward(self, x: torch.Tensor) -> torch.Tensor:\n",
        "        \"\"\"\n",
        "        Arguments:\n",
        "            x: Tensor, shape ``[seq_len, batch_size, embedding_dim]``\n",
        "        \"\"\"\n",
        "        # print(f'{x.shape=}, {self.pe.shape=}, {self.pe[:x.size(0)].shape=}')\n",
        "        x = x + self.pe[:x.size(0)]\n",
        "\n",
        "        return self.dropout(x)"
      ],
      "metadata": {
        "id": "j0ErEMsfO-9D"
      },
      "execution_count": null,
      "outputs": []
    },
    {
      "cell_type": "code",
      "source": [
        "class Net(torch.nn.Module):\n",
        "  def __init__(self,\n",
        "               vocab_size,  # size of vocabulary\n",
        "               d_embd,  # dim of the token's embedding\n",
        "               block_size,\n",
        "               n_head: int, # number of heads in `nn.MultiheadAttention`\n",
        "               n_layers: int, # number of `nn.TransformerEncoderLayer` in `nn.TransformerEncoder`\n",
        "               d_hidden: int, # dim of the ffn model in `nn.TransformerEncoder`\n",
        "               dropout: float = 0.5,\n",
        "               generator=None):\n",
        "    super().__init__()\n",
        "    self.model_type = 'Transformer'\n",
        "\n",
        "    self.pos_encoder = PositionalEncoding(d_embd * block_size, dropout)\n",
        "    # self.pos_encoder = PositionalEncoding(block_size, dropout)\n",
        "\n",
        "    encoder_layers = torch.nn.TransformerEncoderLayer(d_embd * block_size, n_head, d_hidden, dropout)\n",
        "    self.transformer_encoder = torch.nn.TransformerEncoder(encoder_layers, n_layers)\n",
        "\n",
        "    self.embd = torch.nn.Embedding(num_embeddings=vocab_size, embedding_dim=d_embd)\n",
        "    self.d_embd = d_embd\n",
        "    self.block_size = block_size\n",
        "\n",
        "    self.linear_logits = torch.nn.Linear(d_embd * block_size, vocab_size, bias=True)\n",
        "\n",
        "    self.init_weights()\n",
        "\n",
        "  def init_weights(self) -> None:\n",
        "    initrange = 0.1\n",
        "    self.embd.weight.data.uniform_(-initrange, initrange)\n",
        "    self.linear_logits.bias.data.zero_()\n",
        "    self.linear_logits.weight.data.uniform_(-initrange, initrange)\n",
        "\n",
        "  def forward(self, x):\n",
        "    xemb = self.embd(x) * math.sqrt(self.d_embd * self.block_size)\n",
        "    xemb = xemb.view(xemb.shape[0], -1)\n",
        "    # print(f'{xemb.shape=}, {x.shape=}')\n",
        "    xps = self.pos_encoder(xemb)\n",
        "    # print(f'{xemb.shape=}, {xps.shape=}')\n",
        "\n",
        "    # y = xemb.view(xemb.shape[0], -1)\n",
        "    x = self.transformer_encoder(xps)\n",
        "    x = self.linear_logits(x)\n",
        "    return x\n",
        "\n",
        "net = Net(vocab_size=vocab_size,\n",
        "          d_embd=n_embd,\n",
        "          block_size=BLOCK_SIZE,\n",
        "          n_head=4,\n",
        "          n_layers=4,\n",
        "          d_hidden=N_HIDDEN).to(device)"
      ],
      "metadata": {
        "id": "3PcKxL7zqDhX"
      },
      "execution_count": null,
      "outputs": []
    },
    {
      "cell_type": "code",
      "source": [
        "_total_params = 0\n",
        "\n",
        "for p in net.parameters():\n",
        "  _total_params += p.nelement()\n",
        "  # print(f'{p.data.shape=}')\n",
        "\n",
        "print(f'Total params = {_total_params}')"
      ],
      "metadata": {
        "colab": {
          "base_uri": "https://localhost:8080/"
        },
        "id": "0eMi8TezrkY4",
        "outputId": "067cdb7b-5f52-4ca4-a1b2-6ebf2f4ccb9e"
      },
      "execution_count": null,
      "outputs": [
        {
          "output_type": "stream",
          "name": "stdout",
          "text": [
            "Total params = 2125642\n"
          ]
        }
      ]
    },
    {
      "cell_type": "markdown",
      "source": [
        "## Define loss fn and optimizer"
      ],
      "metadata": {
        "id": "m04BZ-9f26w7"
      }
    },
    {
      "cell_type": "code",
      "source": [
        "import torch.optim as optim\n",
        "\n",
        "loss_fn = torch.nn.CrossEntropyLoss()\n",
        "optimizer = optim.SGD(net.parameters(), lr=0.001, momentum=0.9)\n",
        "# optimizer = optim.Adam(net.parameters(), lr=0.001)"
      ],
      "metadata": {
        "id": "5xJsIU2z28us"
      },
      "execution_count": null,
      "outputs": []
    },
    {
      "cell_type": "markdown",
      "source": [
        "# Train"
      ],
      "metadata": {
        "id": "5ObPwkVj3MFc"
      }
    },
    {
      "cell_type": "code",
      "source": [
        "max_steps = 700000\n",
        "batch_size = 4\n",
        "lossi = []\n",
        "lossi_dev = []\n",
        "ud = []\n",
        "log_interval = 200\n",
        "\n",
        "running_loss = 0.0\n",
        "running_loss_dev = 0.0\n",
        "running_loss_steps = 0\n",
        "\n",
        "for i in range(max_steps):\n",
        "\n",
        "  # Forward\n",
        "  Xb, Yb = get_batch(data_tr, batch_size, BLOCK_SIZE)\n",
        "  optimizer.zero_grad()\n",
        "  outputs = net(Xb)\n",
        "\n",
        "  # Loss\n",
        "  # print(f'{outputs.shape=}, {Yb.shape=}')\n",
        "  loss = loss_fn(outputs, Yb)\n",
        "  running_loss += loss.item()\n",
        "  running_loss_steps += 1\n",
        "\n",
        "  # Eval dev DS\n",
        "  Xb_dev, Yb_dev = get_batch(data_dev, batch_size, BLOCK_SIZE)\n",
        "  outputs_dev = net(Xb_dev)\n",
        "  loss_dev = loss_fn(outputs_dev, Yb_dev)\n",
        "  running_loss_dev += loss_dev.item()\n",
        "\n",
        "  # Update\n",
        "  loss.backward()\n",
        "  optimizer.step()\n",
        "\n",
        "  # Track status\n",
        "  if i % log_interval == 0:\n",
        "    print(f'{i}/{max_steps}: training loss={running_loss/running_loss_steps:.4f}, dev loss={running_loss_dev/running_loss_steps:.4f}')\n",
        "    running_loss = 0.0\n",
        "    running_loss_dev = 0.0\n",
        "    running_loss_steps = 0\n",
        "\n",
        "  lossi.append(loss.log10().item())\n",
        "  lossi_dev.append(loss_dev.log10().item())"
      ],
      "metadata": {
        "id": "3BtGf_U93M9V"
      },
      "execution_count": null,
      "outputs": []
    },
    {
      "cell_type": "code",
      "source": [
        "plt.plot(lossi)"
      ],
      "metadata": {
        "id": "jjTgq78BCCRd",
        "colab": {
          "base_uri": "https://localhost:8080/",
          "height": 447
        },
        "outputId": "a9f1c82d-e8a6-4702-9973-0a13b5cfe8ed"
      },
      "execution_count": null,
      "outputs": [
        {
          "output_type": "execute_result",
          "data": {
            "text/plain": [
              "[<matplotlib.lines.Line2D at 0x7ff49b741c60>]"
            ]
          },
          "metadata": {},
          "execution_count": 32
        },
        {
          "output_type": "display_data",
          "data": {
            "text/plain": [
              "<Figure size 640x480 with 1 Axes>"
            ],
            "image/png": "[encoded data removed]"
          },
          "metadata": {}
        }
      ]
    },
    {
      "cell_type": "code",
      "source": [
        "plt.plot(lossi_dev)"
      ],
      "metadata": {
        "id": "c6QgPaXDCHha",
        "colab": {
          "base_uri": "https://localhost:8080/",
          "height": 447
        },
        "outputId": "28f8e0fb-44a5-4015-cbab-924ff3870bb4"
      },
      "execution_count": null,
      "outputs": [
        {
          "output_type": "execute_result",
          "data": {
            "text/plain": [
              "[<matplotlib.lines.Line2D at 0x7ff5993bc880>]"
            ]
          },
          "metadata": {},
          "execution_count": 33
        },
        {
          "output_type": "display_data",
          "data": {
            "text/plain": [
              "<Figure size 640x480 with 1 Axes>"
            ],
            "image/png": "[encoded data removed]"
          },
          "metadata": {}
        }
      ]
    },
    {
      "cell_type": "code",
      "source": [
        "torch.cuda.empty_cache()"
      ],
      "metadata": {
        "id": "fY3YqGX2TMmv"
      },
      "execution_count": null,
      "outputs": []
    },
    {
      "cell_type": "markdown",
      "source": [
        "# Sample the model"
      ],
      "metadata": {
        "id": "7kTWwn5Q8x4b"
      }
    },
    {
      "cell_type": "code",
      "source": [
        "g_gpu = torch.Generator(device=device).manual_seed(2147483647) # for reproducibility\n",
        "\n",
        "i = 0\n",
        "\n",
        "iys = []\n",
        "context = [0] * BLOCK_SIZE\n",
        "while True:\n",
        "  x = torch.tensor([context]).to(device)\n",
        "  logits = net(x)\n",
        "  prob = F.softmax(logits, dim=1)\n",
        "  iy = torch.multinomial(prob, num_samples=1, replacement=True, generator=g_gpu)\n",
        "\n",
        "  if i > 1000:\n",
        "    break\n",
        "\n",
        "  iys.append(iy.item())\n",
        "  context = context[1:] + [iy.item()]\n",
        "\n",
        "  i += 1\n",
        "\n",
        "print(decode(iys))"
      ],
      "metadata": {
        "id": "CGiFf5b280CQ",
        "colab": {
          "base_uri": "https://localhost:8080/"
        },
        "outputId": "30cb4d13-5f08-49d8-a55c-e35c72439c6c"
      },
      "execution_count": null,
      "outputs": [
        {
          "output_type": "stream",
          "name": "stdout",
          "text": [
            "\n",
            "H\n",
            "\n",
            "nUCU\n",
            "NTR hLRo ,\n",
            "S C? Mouro o seee!KB wttln m bs?K\n",
            "AUS, desn ao moiui,, manolTrwyter'rsl, n sneOtour iG,WtonytA tou,,;\n",
            "\n",
            "G PlHL'Al lReadtGtro tfonaas:z\n",
            "\n",
            "\n",
            "IUoO:\n",
            "\n",
            ", R en tR:\n",
            "Ae c:Qhas, oxmylp; t:UCCty KJo,,ev,,\n",
            "HtrI,rgmlseyJt: \n",
            "E,:\n",
            "\n",
            "L y I,eWl ald. rLdeey\n",
            "nIo:ElGs! A I UI f:,H:.h\n",
            "bxy? T,  hoo:, A: IetTy!\n",
            "aeetsas :''m!\n",
            "Iluehm'\n",
            "que\n",
            "Us GDatuoe! t\n",
            "GooI Ya:\n",
            "tinI,\n",
            "\n",
            "\n",
            "RDILLS\n",
            "F\n",
            "A\n",
            "R obesus,,Lfh'iIoc thtee:ah:\n",
            "\n",
            ": Hy e tBoUt so aolhsFcs,s'dl d'yud.\n",
            "AvAyf\n",
            ",\n",
            "\n",
            "\n",
            "MORyLIOB:?:\n",
            "t,,t.?n\n",
            "OS ,IGedNaot: nfono.:!.Ya,tia,'::\n",
            ": yolplrSKla f I :'rt d ly ar'ey, tyr ooT,:\n",
            "lGCU\n",
            "Mfl:\n",
            "WieB. \n",
            "vE\n",
            "\n",
            "U.\n",
            "\n",
            "HNb:\n",
            ":s. KEGo.\n",
            "OnlrI, \n",
            "\n",
            "xylbnemR  W Tle,\n",
            "Mh?\n",
            "oR,GYSY.\n",
            "ThIom.\n",
            "o\n",
            "AedFoy,nnoni:s\n",
            "' o idnnSM yldeNsf\n",
            " \n",
            "\n",
            "IBASLAl\n",
            "W ,KZh: ZB\n",
            "\n",
            "YII\n",
            "RUO  E nLN: fRp dl,B\n",
            "\n",
            "LIZGnNA,b,\n",
            "CPyON ae?auhiny Yiromfaio tsdo b  pea aowedlOtwass \n",
            "\n",
            "\n",
            "\n",
            "LDR NILHL: Cteloths?rLH C,.\n",
            "dsr\n",
            "NI\n",
            "KNRulwU,\n",
            "sGy,et: Ioat'owtahe s O t ,lsnew pom s'ulLAwndt:\n",
            "\n",
            "iie w TosLt:ol'eeuathy'de'ndiAly aed,:\n",
            ":e;:!C\n",
            "YN\n",
            "Roure:,,yd:   f,S?:litysaeau anedyateuty,n! siss:\n",
            " WCire: S toarsd $, He \n"
          ]
        }
      ]
    }
  ]
}